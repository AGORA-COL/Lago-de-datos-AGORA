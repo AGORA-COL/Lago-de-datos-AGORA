{
 "cells": [
  {
   "cell_type": "code",
   "execution_count": null,
   "id": "935e6fb2",
   "metadata": {
    "tags": []
   },
   "outputs": [],
   "source": [
    "from pyspark.sql import SparkSession"
   ]
  },
  {
   "cell_type": "code",
   "execution_count": null,
   "id": "dd1cef64",
   "metadata": {
    "tags": []
   },
   "outputs": [],
   "source": [
    "from pyspark.sql.functions import lit"
   ]
  },
  {
   "cell_type": "code",
   "execution_count": null,
   "id": "217f6774",
   "metadata": {
    "tags": []
   },
   "outputs": [],
   "source": [
    "import pandas as pd"
   ]
  },
  {
   "cell_type": "code",
   "execution_count": null,
   "id": "2301f3d0",
   "metadata": {
    "tags": []
   },
   "outputs": [],
   "source": [
    "import numpy as np"
   ]
  },
  {
   "cell_type": "code",
   "execution_count": null,
   "id": "6892039f",
   "metadata": {
    "tags": []
   },
   "outputs": [],
   "source": [
    "import seaborn as sns"
   ]
  },
  {
   "cell_type": "code",
   "execution_count": null,
   "id": "ec154f2a",
   "metadata": {
    "tags": []
   },
   "outputs": [],
   "source": [
    "from sklearn.metrics import pairwise_distances\n",
    "from scipy.spatial.distance import jensenshannon"
   ]
  },
  {
   "cell_type": "code",
   "execution_count": null,
   "id": "5a375f3e",
   "metadata": {
    "tags": []
   },
   "outputs": [],
   "source": [
    "from pyspark.sql import functions as F"
   ]
  },
  {
   "cell_type": "code",
   "execution_count": null,
   "id": "ae40dbdb",
   "metadata": {
    "tags": []
   },
   "outputs": [],
   "source": [
    "from pyspark.sql.functions import countDistinct"
   ]
  },
  {
   "cell_type": "code",
   "execution_count": null,
   "id": "d2f0803f",
   "metadata": {
    "tags": []
   },
   "outputs": [],
   "source": [
    "from pyspark.sql.functions import col, when"
   ]
  },
  {
   "cell_type": "code",
   "execution_count": null,
   "id": "6c92552d",
   "metadata": {
    "tags": []
   },
   "outputs": [],
   "source": [
    "import matplotlib.pyplot as plt\n",
    "from matplotlib.gridspec import GridSpec"
   ]
  },
  {
   "cell_type": "code",
   "execution_count": null,
   "id": "641dc53f",
   "metadata": {
    "tags": []
   },
   "outputs": [],
   "source": [
    "from matplotlib import colormaps"
   ]
  },
  {
   "cell_type": "code",
   "execution_count": null,
   "id": "3c424601",
   "metadata": {
    "tags": []
   },
   "outputs": [],
   "source": [
    "import itertools"
   ]
  },
  {
   "cell_type": "code",
   "execution_count": null,
   "id": "507f4727",
   "metadata": {
    "tags": []
   },
   "outputs": [],
   "source": [
    "# Detener cualquier SparkContext existente\n",
    "from pyspark import SparkContext\n",
    "if 'sc' in globals():\n",
    "    sc.stop()"
   ]
  },
  {
   "cell_type": "code",
   "execution_count": null,
   "id": "94ebc508",
   "metadata": {
    "tags": []
   },
   "outputs": [],
   "source": [
    "# Crear una nueva SparkSession conectándose al maestro de Spark\n",
    "spark = SparkSession.builder \\\n",
    "    .master(\"yarn\") \\\n",
    "    .config(\"spark.executor.instances\", \"4\") \\\n",
    "    .config(\"spark.executor.cores\", \"4\") \\\n",
    "    .config(\"spark.executor.memory\", \"16g\") \\\n",
    "    .config(\"spark.driver.memory\", \"8g\") \\\n",
    "    .config(\"spark.sql.shuffle.partitions\", \"200\") \\\n",
    "    .appName(\"rev_defunc_am\") \\\n",
    "    .getOrCreate()"
   ]
  },
  {
   "cell_type": "code",
   "execution_count": null,
   "id": "3ad5e54c",
   "metadata": {
    "tags": []
   },
   "outputs": [],
   "source": [
    "spark"
   ]
  },
  {
   "cell_type": "code",
   "execution_count": null,
   "id": "adaa9f10",
   "metadata": {},
   "outputs": [],
   "source": [
    "#spark.stop()"
   ]
  },
  {
   "cell_type": "markdown",
   "id": "373a990b",
   "metadata": {},
   "source": [
    "## Análisis defunciones"
   ]
  },
  {
   "cell_type": "code",
   "execution_count": null,
   "id": "132a9cd6",
   "metadata": {
    "tags": []
   },
   "outputs": [],
   "source": [
    "# Read Parquet file\n",
    "df = spark.read.option(\"encoding\", \"ISO-8859-1\").csv(\"hdfs://localhost:9000//rawdata/defunciones2025/Defunciones.csv\", sep='|',header=True) \n",
    "\n"
   ]
  },
  {
   "cell_type": "code",
   "execution_count": null,
   "id": "9561c54c",
   "metadata": {
    "tags": []
   },
   "outputs": [],
   "source": [
    "df_fallecidos_covid = spark.read.csv(\"hdfs://localhost:9000//rawdata/defunciones/datosabiertos/Fallecidos_COVID_en_Colombia_20250320.csv\", sep=',',header=True) \n"
   ]
  },
  {
   "cell_type": "code",
   "execution_count": null,
   "id": "6437b693",
   "metadata": {
    "tags": []
   },
   "outputs": [],
   "source": [
    "df_fallecidos_covid.show(5)"
   ]
  },
  {
   "cell_type": "code",
   "execution_count": null,
   "id": "209bed7d",
   "metadata": {
    "tags": []
   },
   "outputs": [],
   "source": [
    "df_fallecidos_covid.printSchema()"
   ]
  },
  {
   "cell_type": "code",
   "execution_count": null,
   "id": "dd4f0785",
   "metadata": {
    "tags": []
   },
   "outputs": [],
   "source": [
    "df_fallecidos_covid.select('Fecha de muerte').show(5)"
   ]
  },
  {
   "cell_type": "code",
   "execution_count": null,
   "id": "1efc82ce",
   "metadata": {
    "tags": []
   },
   "outputs": [],
   "source": [
    "df_fallecidos_covid.select('Sexo').show(5)"
   ]
  },
  {
   "cell_type": "code",
   "execution_count": null,
   "id": "8b65e824",
   "metadata": {
    "tags": []
   },
   "outputs": [],
   "source": [
    "df_fallecidos_covid.select('Edad').show(5)"
   ]
  },
  {
   "cell_type": "code",
   "execution_count": null,
   "id": "511e3d21",
   "metadata": {
    "tags": []
   },
   "outputs": [],
   "source": [
    "df_fallecidos_covid.select('Código DIVIPOLA municipio').show(15)"
   ]
  },
  {
   "cell_type": "code",
   "execution_count": null,
   "id": "204fc14c",
   "metadata": {
    "tags": []
   },
   "outputs": [],
   "source": [
    "# Show Data\n",
    "df.show(5)"
   ]
  },
  {
   "cell_type": "code",
   "execution_count": null,
   "id": "9cb00592",
   "metadata": {
    "tags": []
   },
   "outputs": [],
   "source": [
    "df.printSchema()"
   ]
  },
  {
   "cell_type": "code",
   "execution_count": null,
   "id": "e97a3a8c",
   "metadata": {
    "tags": []
   },
   "outputs": [],
   "source": [
    "df.count()"
   ]
  },
  {
   "cell_type": "code",
   "execution_count": null,
   "id": "0ba332b0",
   "metadata": {
    "tags": []
   },
   "outputs": [],
   "source": [
    "df.select(\"Edad\").distinct().show()"
   ]
  },
  {
   "cell_type": "code",
   "execution_count": null,
   "id": "63273b64",
   "metadata": {
    "tags": []
   },
   "outputs": [],
   "source": [
    "df.select(\"personaID\").distinct().count()"
   ]
  },
  {
   "cell_type": "code",
   "execution_count": null,
   "id": "a9b40763",
   "metadata": {
    "tags": []
   },
   "outputs": [],
   "source": [
    "df.groupby(\"AnoID\").count().show()"
   ]
  },
  {
   "cell_type": "code",
   "execution_count": null,
   "id": "0a53565e",
   "metadata": {
    "tags": []
   },
   "outputs": [],
   "source": [
    "df.groupby( col(\"FechaDefuncionAAAAMM\").substr(1, 4)).count().show()"
   ]
  },
  {
   "cell_type": "code",
   "execution_count": null,
   "id": "e54a2125",
   "metadata": {
    "tags": []
   },
   "outputs": [],
   "source": [
    "null_counts = df.select(\n",
    "    F.sum(F.col(\"FechaDefuncionAAAAMM\").isNull().cast(\"int\")).alias(\"FechaDefuncionAAAAMM_NullCount\"),\n",
    "    F.sum(F.col(\"FechaDefuncionID\").isNull().cast(\"int\")).alias(\"FechaDefuncionID_NullCount\")\n",
    ")\n",
    "\n",
    "null_counts.show()"
   ]
  },
  {
   "cell_type": "code",
   "execution_count": null,
   "id": "f6f50c2d",
   "metadata": {
    "tags": []
   },
   "outputs": [],
   "source": [
    "df = df.withColumn(\"FechaDefuncion\", F.to_date(F.col(\"FechaDefuncionID\").cast(\"string\"), \"yyyyMMdd\"))\n"
   ]
  },
  {
   "cell_type": "code",
   "execution_count": null,
   "id": "8da9c71a",
   "metadata": {
    "tags": []
   },
   "outputs": [],
   "source": [
    "df_grouped = df.groupBy(\"FechaDefuncion\").agg(F.count(\"*\").alias(\"Count\"))\n",
    "df_sorted = df_grouped.orderBy(\"FechaDefuncion\")"
   ]
  },
  {
   "cell_type": "code",
   "execution_count": null,
   "id": "da35f611",
   "metadata": {
    "tags": []
   },
   "outputs": [],
   "source": [
    "df_sorted_collected = df_sorted.collect()"
   ]
  },
  {
   "cell_type": "code",
   "execution_count": null,
   "id": "8d823af9",
   "metadata": {
    "tags": []
   },
   "outputs": [],
   "source": [
    "df_sorted.columns"
   ]
  },
  {
   "cell_type": "code",
   "execution_count": null,
   "id": "694b9b24",
   "metadata": {
    "tags": []
   },
   "outputs": [],
   "source": [
    "df_sorted_df=pd.DataFrame(df_sorted_collected, columns=df_sorted.columns)"
   ]
  },
  {
   "cell_type": "code",
   "execution_count": null,
   "id": "de3b1a06",
   "metadata": {
    "tags": []
   },
   "outputs": [],
   "source": [
    "df_sorted_df[\"FechaDefuncion\"] = pd.to_datetime(df_sorted_df[\"FechaDefuncion\"], format=\"%Y%m%d\", errors=\"coerce\")"
   ]
  },
  {
   "cell_type": "code",
   "execution_count": null,
   "id": "412068e6",
   "metadata": {
    "tags": []
   },
   "outputs": [],
   "source": [
    "df_sorted_df[\"YearMonth\"] = df_sorted_df[\"FechaDefuncion\"].dt.to_period(\"M\")"
   ]
  },
  {
   "cell_type": "code",
   "execution_count": null,
   "id": "a1fe0121",
   "metadata": {
    "tags": []
   },
   "outputs": [],
   "source": [
    "plt.figure(figsize=(12, 6))\n",
    "plt.plot(df_sorted_df[\"FechaDefuncion\"], df_sorted_df[\"Count\"], marker='o', linestyle='-')\n",
    "\n",
    "# Customize plot\n",
    "plt.xlabel(\"Fecha\")\n",
    "plt.ylabel(\"Número de muertes\")\n",
    "plt.title(\"Muertes en fuente de defunciones por fecha\")\n",
    "plt.xticks(rotation=45)\n",
    "plt.grid(True)\n",
    "\n",
    "# Show plot\n",
    "plt.show()"
   ]
  },
  {
   "cell_type": "code",
   "execution_count": null,
   "id": "d7b5faf0",
   "metadata": {
    "tags": []
   },
   "outputs": [],
   "source": [
    "df_sorted_df"
   ]
  },
  {
   "cell_type": "code",
   "execution_count": null,
   "id": "06ed2792",
   "metadata": {
    "tags": []
   },
   "outputs": [],
   "source": [
    "# Agrupado por año mes\n",
    "df_grouped_month = df_sorted_df.groupby(\"YearMonth\")['Count'].sum().reset_index(name=\"Count\")"
   ]
  },
  {
   "cell_type": "code",
   "execution_count": null,
   "id": "e873fa79",
   "metadata": {
    "tags": []
   },
   "outputs": [],
   "source": [
    "df_grouped_month[\"YearMonth\"] = df_grouped_month[\"YearMonth\"].dt.to_timestamp()"
   ]
  },
  {
   "cell_type": "code",
   "execution_count": null,
   "id": "ec9d06ca",
   "metadata": {
    "tags": []
   },
   "outputs": [],
   "source": [
    "plt.figure(figsize=(12, 6))\n",
    "plt.plot(df_grouped_month[\"YearMonth\"], df_grouped_month[\"Count\"], marker='o', linestyle='-')\n",
    "\n",
    "# Customize plot\n",
    "plt.xlabel(\"Fecha\")\n",
    "plt.ylabel(\"Número de muertes\")\n",
    "plt.title(\"Muertes en fuente de defunciones por fecha\")\n",
    "plt.xticks(rotation=45)\n",
    "plt.grid(True)\n",
    "\n",
    "# Show plot\n",
    "plt.show()"
   ]
  },
  {
   "cell_type": "code",
   "execution_count": null,
   "id": "d7bac292",
   "metadata": {
    "tags": []
   },
   "outputs": [],
   "source": [
    "df.take(10)"
   ]
  },
  {
   "cell_type": "code",
   "execution_count": null,
   "id": "7c83e1bd",
   "metadata": {
    "tags": []
   },
   "outputs": [],
   "source": [
    "df_fallecidos_covid = df_fallecidos_covid.withColumn(\n",
    "    \"YearMonth\", F.date_format(F.col(\"Fecha de muerte\"), \"yyyy-MM\")\n",
    ")"
   ]
  },
  {
   "cell_type": "code",
   "execution_count": null,
   "id": "36653802",
   "metadata": {
    "tags": []
   },
   "outputs": [],
   "source": [
    "df_fallecidos_covid.take(10)"
   ]
  },
  {
   "cell_type": "markdown",
   "id": "62119a80-3f6f-44b2-9564-80d62719fe0b",
   "metadata": {},
   "source": [
    "# Inicio agrupación"
   ]
  },
  {
   "cell_type": "code",
   "execution_count": null,
   "id": "6f17eae1",
   "metadata": {
    "tags": []
   },
   "outputs": [],
   "source": [
    "df = df.withColumn(\"YearMonth\", F.date_format(F.to_date(F.col(\"FechaDefuncionID\").cast(\"string\"), \"yyyyMMdd\"), \"yyyy-MM\"))"
   ]
  },
  {
   "cell_type": "code",
   "execution_count": null,
   "id": "c469c8b2",
   "metadata": {
    "tags": []
   },
   "outputs": [],
   "source": [
    "df = df.withColumn(\n",
    "    \"AnoID\",\n",
    "    when(col(\"FechaDefuncionAAAAMM\").isNotNull(), col(\"FechaDefuncionAAAAMM\").substr(1, 4))\n",
    "    .when(col(\"FechaDefuncionID\").isNotNull(), col(\"FechaDefuncionID\").substr(1, 4))\n",
    "    .otherwise(col(\"AnoID\"))\n",
    ")"
   ]
  },
  {
   "cell_type": "markdown",
   "id": "411222aa",
   "metadata": {},
   "source": [
    "## Agrupar ambos dataframes por causa, mes-año y municipio"
   ]
  },
  {
   "cell_type": "code",
   "execution_count": null,
   "id": "d36fd0aa",
   "metadata": {
    "tags": []
   },
   "outputs": [],
   "source": [
    "conteo_causas_yearmonth=df.fillna({\"YearMonth\": \"Unknown\", \"CausaMuerteAsisID\": \"Unknown\",\"municipioResidencia\":\"Unknown\"})\\\n",
    "  .groupBy(\"CausaMuerteAsisID\",\"YearMonth\",\"municipioResidencia\") \\\n",
    "  .count() \\\n",
    "  .orderBy(\"count\", ascending=False).collect()"
   ]
  },
  {
   "cell_type": "code",
   "execution_count": null,
   "id": "9d426d49",
   "metadata": {
    "tags": []
   },
   "outputs": [],
   "source": [
    "conteo_causas_yearmonth[0]"
   ]
  },
  {
   "cell_type": "code",
   "execution_count": null,
   "id": "b4e6a6a8",
   "metadata": {
    "tags": []
   },
   "outputs": [],
   "source": [
    "conteo_causas_yearmonth_df=pd.DataFrame(conteo_causas_yearmonth, columns=['CausaMuerteAsisID','YearMonth','municipioResidencia','count'])"
   ]
  },
  {
   "cell_type": "code",
   "execution_count": null,
   "id": "6a823181",
   "metadata": {
    "tags": []
   },
   "outputs": [],
   "source": [
    "conteo_causas_yearmonth_df.head()"
   ]
  },
  {
   "cell_type": "code",
   "execution_count": null,
   "id": "eac03040",
   "metadata": {
    "tags": []
   },
   "outputs": [],
   "source": [
    "conteo_causas_yearmonth_df['count'].sum()"
   ]
  },
  {
   "cell_type": "code",
   "execution_count": null,
   "id": "72f4301f",
   "metadata": {
    "tags": []
   },
   "outputs": [],
   "source": [
    "conteo_causas_yearmonth_df['municipioResidencia'].value_counts()"
   ]
  },
  {
   "cell_type": "code",
   "execution_count": null,
   "id": "5a4e3139",
   "metadata": {
    "tags": []
   },
   "outputs": [],
   "source": [
    "def changeMunicipio(municipio):\n",
    "    m = (municipio.split('-')[0]).strip()\n",
    "    if len(m)>5 or len(m)<=1:\n",
    "        return 'Unknown'\n",
    "    if len(m)==4:\n",
    "        return '0'+m\n",
    "    else: \n",
    "        return m\n",
    "    "
   ]
  },
  {
   "cell_type": "code",
   "execution_count": null,
   "id": "d9b218c2",
   "metadata": {
    "tags": []
   },
   "outputs": [],
   "source": [
    "conteo_causas_yearmonth_df['cod_mun']=conteo_causas_yearmonth_df['municipioResidencia'].apply(changeMunicipio)"
   ]
  },
  {
   "cell_type": "code",
   "execution_count": null,
   "id": "7a6be5db",
   "metadata": {
    "tags": []
   },
   "outputs": [],
   "source": [
    "conteo_causas_yearmonth_df['CausaMuerteAsisID'].nunique()"
   ]
  },
  {
   "cell_type": "code",
   "execution_count": null,
   "id": "646dadb1",
   "metadata": {
    "tags": []
   },
   "outputs": [],
   "source": [
    "conteo_causas_yearmonth_df.head(50)"
   ]
  },
  {
   "cell_type": "code",
   "execution_count": null,
   "id": "318bc227",
   "metadata": {
    "tags": []
   },
   "outputs": [],
   "source": [
    "conteo_causas_yearmonth_df['cod_mun'].apply(len).value_counts()"
   ]
  },
  {
   "cell_type": "code",
   "execution_count": null,
   "id": "ff3d81dc",
   "metadata": {
    "tags": []
   },
   "outputs": [],
   "source": [
    "conteo_causas_yearmonth_df.sort_values(by='count',ascending=False)"
   ]
  },
  {
   "cell_type": "code",
   "execution_count": null,
   "id": "fd8f1025",
   "metadata": {
    "tags": []
   },
   "outputs": [],
   "source": [
    "conteo_causas_yearmonth_df[conteo_causas_yearmonth_df['CausaMuerteAsisID']=='1 - NO DEFINIDO']"
   ]
  },
  {
   "cell_type": "code",
   "execution_count": null,
   "id": "e5b286a1",
   "metadata": {
    "tags": []
   },
   "outputs": [],
   "source": [
    "del conteo_causas_yearmonth_df['municipioResidencia']"
   ]
  },
  {
   "cell_type": "code",
   "execution_count": null,
   "id": "fbb5d3ea",
   "metadata": {
    "tags": []
   },
   "outputs": [],
   "source": [
    "conteo_muertes_covid=df_fallecidos_covid.fillna({\"YearMonth\": \"Unknown\", \"Código DIVIPOLA municipio\":\"Unknown\"})\\\n",
    "  .groupBy(\"YearMonth\",\"Código DIVIPOLA municipio\") \\\n",
    "  .count() \\\n",
    "  .orderBy(\"count\", ascending=False).collect()"
   ]
  },
  {
   "cell_type": "code",
   "execution_count": null,
   "id": "44ff1618",
   "metadata": {
    "tags": []
   },
   "outputs": [],
   "source": [
    "conteo_muertes_covid[0]"
   ]
  },
  {
   "cell_type": "code",
   "execution_count": null,
   "id": "4966512d",
   "metadata": {
    "tags": []
   },
   "outputs": [],
   "source": [
    "conteo_muertes_covid_df=pd.DataFrame(conteo_muertes_covid, columns=['YearMonth','municipioResidencia','count_muertes_covid'])"
   ]
  },
  {
   "cell_type": "code",
   "execution_count": null,
   "id": "f533f382",
   "metadata": {
    "tags": []
   },
   "outputs": [],
   "source": [
    "def limpiarMunResidencia(code):\n",
    "    if len(code)==4:\n",
    "        return '0'+code\n",
    "    return code"
   ]
  },
  {
   "cell_type": "code",
   "execution_count": null,
   "id": "32ab064b",
   "metadata": {
    "tags": []
   },
   "outputs": [],
   "source": [
    "conteo_muertes_covid_df['municipioResidencia']=conteo_muertes_covid_df['municipioResidencia'].apply(limpiarMunResidencia)"
   ]
  },
  {
   "cell_type": "code",
   "execution_count": null,
   "id": "257fa812",
   "metadata": {
    "tags": []
   },
   "outputs": [],
   "source": [
    "conteo_muertes_covid_df['count_muertes_covid'].sum()"
   ]
  },
  {
   "cell_type": "markdown",
   "id": "38421ca8",
   "metadata": {},
   "source": [
    "### Nuevo proceso de join para analizar defunciones - usar solo join a covid, pero a nivel departamento, no municipio"
   ]
  },
  {
   "cell_type": "code",
   "execution_count": null,
   "id": "7583275f",
   "metadata": {
    "tags": []
   },
   "outputs": [],
   "source": [
    "conteo_causas_yearmonth_df['cod_depto'] = conteo_causas_yearmonth_df.cod_mun.apply(lambda x: '' if x[:2]=='Un' else x[:2])"
   ]
  },
  {
   "cell_type": "code",
   "execution_count": null,
   "id": "3f9885b6",
   "metadata": {
    "tags": []
   },
   "outputs": [],
   "source": [
    "conteo_causas_yearmonth_df.head()"
   ]
  },
  {
   "cell_type": "code",
   "execution_count": null,
   "id": "655c32f6",
   "metadata": {
    "tags": []
   },
   "outputs": [],
   "source": [
    "conteo_muertes_covid_df['cod_depto'] = conteo_muertes_covid_df.municipioResidencia.apply(lambda x: '' if x[:2]=='Un' else x[:2])"
   ]
  },
  {
   "cell_type": "code",
   "execution_count": null,
   "id": "7adfdf0a",
   "metadata": {
    "tags": []
   },
   "outputs": [],
   "source": [
    "conteo_muertes_covid_df"
   ]
  },
  {
   "cell_type": "code",
   "execution_count": null,
   "id": "afa67f40",
   "metadata": {
    "tags": []
   },
   "outputs": [],
   "source": [
    "conteo_muertes_covid_df['CausaMuerteAsisID']='1 - NO DEFINIDO'"
   ]
  },
  {
   "cell_type": "code",
   "execution_count": null,
   "id": "64ef16fb",
   "metadata": {
    "tags": []
   },
   "outputs": [],
   "source": [
    "conteo_muertes_covid_df.head()"
   ]
  },
  {
   "cell_type": "code",
   "execution_count": null,
   "id": "269042e2",
   "metadata": {
    "tags": []
   },
   "outputs": [],
   "source": [
    "conteo_causas_yearmonth_df.columns"
   ]
  },
  {
   "cell_type": "code",
   "execution_count": null,
   "id": "48b633f4",
   "metadata": {
    "tags": []
   },
   "outputs": [],
   "source": [
    "conteo_causas_yearmonth_depto_df = conteo_causas_yearmonth_df.groupby(['YearMonth','cod_depto','CausaMuerteAsisID'])['count'].sum().reset_index()"
   ]
  },
  {
   "cell_type": "code",
   "execution_count": null,
   "id": "40cdd922",
   "metadata": {
    "tags": []
   },
   "outputs": [],
   "source": [
    "conteo_causas_yearmonth_depto_df = conteo_causas_yearmonth_depto_df[conteo_causas_yearmonth_depto_df['YearMonth'].str[0]=='2']"
   ]
  },
  {
   "cell_type": "code",
   "execution_count": null,
   "id": "82cf4054",
   "metadata": {
    "tags": []
   },
   "outputs": [],
   "source": [
    "conteo_muertes_covid_depto_df = conteo_muertes_covid_df.groupby(['YearMonth','cod_depto','CausaMuerteAsisID'])['count_muertes_covid'].sum().reset_index()"
   ]
  },
  {
   "cell_type": "code",
   "execution_count": null,
   "id": "18922449",
   "metadata": {
    "tags": []
   },
   "outputs": [],
   "source": [
    "conteo_causas_yearmonth_depto_df.head()"
   ]
  },
  {
   "cell_type": "code",
   "execution_count": null,
   "id": "734cb2fb",
   "metadata": {
    "tags": []
   },
   "outputs": [],
   "source": [
    "conteo_muertes_covid_depto_df.head()"
   ]
  },
  {
   "cell_type": "code",
   "execution_count": null,
   "id": "8a4a4099",
   "metadata": {
    "tags": []
   },
   "outputs": [],
   "source": [
    "merged_depto_df = conteo_causas_yearmonth_depto_df.merge(conteo_muertes_covid_depto_df[['YearMonth','count_muertes_covid', 'cod_depto',\n",
    "       'CausaMuerteAsisID']], how='outer', on=['YearMonth', 'cod_depto','CausaMuerteAsisID'])"
   ]
  },
  {
   "cell_type": "code",
   "execution_count": null,
   "id": "43ac65e3",
   "metadata": {
    "tags": []
   },
   "outputs": [],
   "source": [
    "merged_depto_df"
   ]
  },
  {
   "cell_type": "code",
   "execution_count": null,
   "id": "55589c1b",
   "metadata": {
    "tags": []
   },
   "outputs": [],
   "source": [
    "merged_depto_df['count'].sum()"
   ]
  },
  {
   "cell_type": "code",
   "execution_count": null,
   "id": "996af60e",
   "metadata": {
    "tags": []
   },
   "outputs": [],
   "source": [
    "merged_depto_df['count_muertes_covid'].sum()"
   ]
  },
  {
   "cell_type": "code",
   "execution_count": null,
   "id": "1b036b2e",
   "metadata": {
    "tags": []
   },
   "outputs": [],
   "source": [
    "merged_depto_df['count'] = merged_depto_df['count'].fillna(0)"
   ]
  },
  {
   "cell_type": "code",
   "execution_count": null,
   "id": "7b078df9",
   "metadata": {
    "tags": []
   },
   "outputs": [],
   "source": [
    "merged_depto_df['count_muertes_covid'] = merged_depto_df['count_muertes_covid'].fillna(0)"
   ]
  },
  {
   "cell_type": "code",
   "execution_count": null,
   "id": "306652e1",
   "metadata": {
    "tags": []
   },
   "outputs": [],
   "source": [
    "merged_depto_df"
   ]
  },
  {
   "cell_type": "code",
   "execution_count": null,
   "id": "68efa85c",
   "metadata": {
    "tags": []
   },
   "outputs": [],
   "source": [
    "\n",
    "merged_depto_df['diff']=merged_depto_df['count']-merged_depto_df['count_muertes_covid']"
   ]
  },
  {
   "cell_type": "code",
   "execution_count": null,
   "id": "b80a4bc2",
   "metadata": {
    "tags": []
   },
   "outputs": [],
   "source": [
    "# Estas son las muertes que quedarían replicadas ya que no es posible quitar las suficientes del código 1-NO DEFINIDO\n",
    "merged_depto_df[(merged_depto_df['diff']<0)]"
   ]
  },
  {
   "cell_type": "code",
   "execution_count": null,
   "id": "6e4585d0",
   "metadata": {
    "tags": []
   },
   "outputs": [],
   "source": [
    "merged_depto_df[(merged_depto_df['diff']<0)].groupby('cod_depto')['diff'].sum()"
   ]
  },
  {
   "cell_type": "code",
   "execution_count": null,
   "id": "96bd7e55",
   "metadata": {
    "tags": []
   },
   "outputs": [],
   "source": [
    "# Se duplican 550 muertes\n",
    "merged_depto_df[(merged_depto_df['diff']<0)].groupby('cod_depto')['diff'].sum().sum()*-1"
   ]
  },
  {
   "cell_type": "code",
   "execution_count": null,
   "id": "245427eb",
   "metadata": {
    "tags": []
   },
   "outputs": [],
   "source": [
    "# se deja el count en diff cuando la diferencia sea mayor o igual a 0 \n",
    "merged_depto_df.loc[merged_depto_df['diff']>=0,'count']=merged_depto_df.loc[merged_depto_df['diff']>=0,'diff']"
   ]
  },
  {
   "cell_type": "code",
   "execution_count": null,
   "id": "ba40fb0b",
   "metadata": {
    "tags": []
   },
   "outputs": [],
   "source": [
    "# se deja el count en 0 cuando la diferencia sea menor a 0 \n",
    "merged_depto_df.loc[merged_depto_df['diff']<0,'count']=0"
   ]
  },
  {
   "cell_type": "code",
   "execution_count": null,
   "id": "feb6a065",
   "metadata": {
    "tags": []
   },
   "outputs": [],
   "source": [
    "# El total de muertes en causa no definido + muertes por COVID debe ser igual al total de muertes anterior mas los 550 duplicados\n",
    "(merged_depto_df['count'].sum()+143125.0,2584098.0+550)"
   ]
  },
  {
   "cell_type": "code",
   "execution_count": null,
   "id": "6a8f203e",
   "metadata": {
    "tags": []
   },
   "outputs": [],
   "source": [
    "# Cambiar causa a causa de COVID para dataframe de covid\n",
    "conteo_muertes_covid_depto_df['CausaMuerteAsisID']='U071 - COVID-19 (Virus Identificado)'\n"
   ]
  },
  {
   "cell_type": "code",
   "execution_count": null,
   "id": "a1252b96",
   "metadata": {
    "tags": []
   },
   "outputs": [],
   "source": [
    "conteo_muertes_covid_depto_df['count']=conteo_muertes_covid_depto_df['count_muertes_covid']"
   ]
  },
  {
   "cell_type": "code",
   "execution_count": null,
   "id": "68d12ea9",
   "metadata": {
    "tags": []
   },
   "outputs": [],
   "source": [
    "del conteo_muertes_covid_depto_df['count_muertes_covid']"
   ]
  },
  {
   "cell_type": "code",
   "execution_count": null,
   "id": "6fdda145",
   "metadata": {
    "tags": []
   },
   "outputs": [],
   "source": [
    "conteo_muertes_covid_depto_df"
   ]
  },
  {
   "cell_type": "code",
   "execution_count": null,
   "id": "a456b96b",
   "metadata": {
    "tags": []
   },
   "outputs": [],
   "source": [
    "merged_depto_df"
   ]
  },
  {
   "cell_type": "code",
   "execution_count": null,
   "id": "ed0cea97",
   "metadata": {
    "tags": []
   },
   "outputs": [],
   "source": [
    "merged_with_covid_df=pd.concat([merged_depto_df[['YearMonth', 'cod_depto', 'CausaMuerteAsisID', 'count']],conteo_muertes_covid_depto_df])"
   ]
  },
  {
   "cell_type": "code",
   "execution_count": null,
   "id": "c42a64d7",
   "metadata": {
    "tags": []
   },
   "outputs": [],
   "source": [
    "merged_with_covid_df['count'].sum()"
   ]
  },
  {
   "cell_type": "markdown",
   "id": "953bad70",
   "metadata": {},
   "source": [
    "## OLD - Creo orden de categorías para hacer join"
   ]
  },
  {
   "cell_type": "code",
   "execution_count": null,
   "id": "66745a29",
   "metadata": {
    "tags": []
   },
   "outputs": [],
   "source": [
    "\"\"\"\n",
    "all_yearmonths = pd.Series(\n",
    "    pd.concat([\n",
    "        conteo_causas_yearmonth_df['YearMonth'], \n",
    "        conteo_muertes_covid_df['YearMonth']\n",
    "    ]).unique(), \n",
    "    name='YearMonth'\n",
    ")\n",
    "\n",
    "all_municipios = pd.Series(\n",
    "    pd.concat([\n",
    "        conteo_causas_yearmonth_df['cod_mun'], \n",
    "        conteo_muertes_covid_df['municipioResidencia']\n",
    "    ]).unique(), \n",
    "    name='Municipio'\n",
    ")\n",
    "\n",
    "combinations = pd.MultiIndex.from_product(\n",
    "    [all_yearmonths, all_municipios],\n",
    "    names=['YearMonth', 'Municipio']\n",
    ").to_frame(index=False)\n",
    "\n",
    "conteo_muertes_covid_df = combinations.merge(conteo_muertes_covid_df, how='left',left_on=[\"YearMonth\", \"Municipio\"],\n",
    "    right_on=[\"YearMonth\", \"municipioResidencia\"])\n",
    "del conteo_muertes_covid_df['municipioResidencia']\n",
    "\n",
    "category_rest=list(set(conteo_causas_yearmonth_df['CausaMuerteAsisID'].unique())- set(['1 - NO DEFINIDO','J189 - NEUMONIA, NO ESPECIFICADA', 'J129 - NEUMONIA VIRAL, NO ESPECIFICADA']))\n",
    "category_rest.sort()\n",
    "categories_orden=['1 - NO DEFINIDO','J189 - NEUMONIA, NO ESPECIFICADA', 'J129 - NEUMONIA VIRAL, NO ESPECIFICADA']+category_rest\n",
    "conteo_causas_yearmonth_df['CausaMuerteAsisID']=pd.Categorical(conteo_causas_yearmonth_df['CausaMuerteAsisID'], categories=categories_orden)\n",
    "merged_df = conteo_causas_yearmonth_df.sort_values(by='CausaMuerteAsisID').merge(\n",
    "    conteo_muertes_covid_df,\n",
    "    how=\"outer\",  \n",
    "    left_on=[\"YearMonth\", \"cod_mun\"],\n",
    "    right_on=[\"YearMonth\",\"Municipio\"]\n",
    ")\n",
    "covid_join_df= merged_df.drop_duplicates(\n",
    "    subset=[\"YearMonth\", \"Municipio\",\"count_muertes_covid\"], \n",
    "    keep=\"first\"\n",
    ")\n",
    "covid_join_df = covid_join_df.dropna()\n",
    "merged_df=conteo_causas_yearmonth_df.merge(\n",
    "    covid_join_df[['CausaMuerteAsisID', 'YearMonth', 'cod_mun','count_muertes_covid']],\n",
    "    how=\"left\",  \n",
    "    on=[\"CausaMuerteAsisID\",\"YearMonth\", \"cod_mun\"],\n",
    ").sort_values(by='count_muertes_covid', ascending=False)\n",
    "merged_df.loc[:,'count_muertes_covid']=merged_df['count_muertes_covid'].fillna(0)\n",
    "\n",
    "\"\"\""
   ]
  },
  {
   "cell_type": "code",
   "execution_count": null,
   "id": "bff1d444",
   "metadata": {
    "tags": []
   },
   "outputs": [],
   "source": [
    "\"\"\"\n",
    "# Total de muertes covid que son asociadas a las causas populares en sigivila-346 con muerte\n",
    "merged_df[(merged_df['count_muertes_covid']!=0)&(merged_df['CausaMuerteAsisID'].isin([\n",
    "        '1 - NO DEFINIDO',\n",
    "        'J189 - NEUMONIA, NO ESPECIFICADA',\n",
    "        'J129 - NEUMONIA VIRAL, NO ESPECIFICADA'\n",
    "    ]))]['count_muertes_covid'].sum()\n",
    "\"\"\""
   ]
  },
  {
   "cell_type": "code",
   "execution_count": null,
   "id": "f670c003",
   "metadata": {
    "tags": []
   },
   "outputs": [],
   "source": [
    "\"\"\"\n",
    "covid_new_rows_df = merged_df[(merged_df['count_muertes_covid']>0)].copy()\n",
    "covid_new_rows_df['CausaMuerteAsisID']='U071 - COVID-19 (Virus Identificado)'\n",
    "covid_new_rows_df['count']=covid_new_rows_df['count_muertes_covid']\n",
    "covid_new_rows_df\n",
    "merged_df.loc[:,'diff']=merged_df['count']-merged_df['count_muertes_covid']\n",
    "condition = (\n",
    "    (merged_df['count_muertes_covid'] > 0) &\n",
    "    (merged_df['count'] > 0) &\n",
    "    (merged_df['diff'] >= 0)\n",
    ")\n",
    "\n",
    "# Update 'count' where the condition is True\n",
    "merged_df.loc[condition, 'count'] = merged_df.loc[condition, 'diff']\n",
    "merged_df.loc[(merged_df['diff']<0), 'count']=0\n",
    "merged_with_covid_df=pd.concat([merged_df,covid_new_rows_df])\n",
    "\n",
    "merged_with_covid_df=merged_with_covid_df[['CausaMuerteAsisID', 'YearMonth', 'count', 'cod_mun']]\n",
    "\"\"\""
   ]
  },
  {
   "cell_type": "code",
   "execution_count": null,
   "id": "444b780a",
   "metadata": {
    "tags": []
   },
   "outputs": [],
   "source": [
    "merged_with_covid_df"
   ]
  },
  {
   "cell_type": "code",
   "execution_count": null,
   "id": "f8dce3e5",
   "metadata": {
    "tags": []
   },
   "outputs": [],
   "source": [
    "merged_with_covid_df.columns"
   ]
  },
  {
   "cell_type": "code",
   "execution_count": null,
   "id": "0433f06a",
   "metadata": {
    "tags": []
   },
   "outputs": [],
   "source": [
    "merged_with_covid_df.to_parquet('merged_with_covid_coddepto_df.parquet')"
   ]
  },
  {
   "cell_type": "code",
   "execution_count": null,
   "id": "cbf5f13a",
   "metadata": {
    "tags": []
   },
   "outputs": [],
   "source": [
    "agrupacion_agora_df= pd.read_excel('Lista morbilidades-AgoraCie10.xlsx')"
   ]
  },
  {
   "cell_type": "code",
   "execution_count": null,
   "id": "58991a66",
   "metadata": {
    "tags": []
   },
   "outputs": [],
   "source": [
    "agrupacion_agora_df.head()"
   ]
  },
  {
   "cell_type": "code",
   "execution_count": null,
   "id": "cac67ea5",
   "metadata": {
    "tags": []
   },
   "outputs": [],
   "source": [
    "merged_with_covid_df.loc[:,'icd10']=merged_with_covid_df['CausaMuerteAsisID'].str.split(\"-\").str[0].apply(lambda x:str(x.strip()))"
   ]
  },
  {
   "cell_type": "code",
   "execution_count": null,
   "id": "8c90e526",
   "metadata": {
    "tags": []
   },
   "outputs": [],
   "source": [
    "merged_with_covid_df = merged_with_covid_df.merge(agrupacion_agora_df[['codigo','grupos_agora','charlson_clas']], how='left' , left_on='icd10', right_on='codigo')"
   ]
  },
  {
   "cell_type": "code",
   "execution_count": null,
   "id": "cf54df45",
   "metadata": {
    "tags": []
   },
   "outputs": [],
   "source": [
    " merged_with_covid_df[merged_with_covid_df['grupos_agora'].isna()]"
   ]
  },
  {
   "cell_type": "code",
   "execution_count": null,
   "id": "708d87b9",
   "metadata": {
    "tags": []
   },
   "outputs": [],
   "source": [
    "merged_with_covid_df.loc[:,'grupos_agora'] = merged_with_covid_df['grupos_agora'].fillna('1 - NO DEFINIDO')"
   ]
  },
  {
   "cell_type": "code",
   "execution_count": null,
   "id": "68c00eb1",
   "metadata": {
    "tags": []
   },
   "outputs": [],
   "source": [
    "merged_with_covid_df"
   ]
  },
  {
   "cell_type": "code",
   "execution_count": null,
   "id": "52c983af",
   "metadata": {
    "tags": []
   },
   "outputs": [],
   "source": [
    "del merged_with_covid_df['codigo']"
   ]
  },
  {
   "cell_type": "code",
   "execution_count": null,
   "id": "48fb70d8",
   "metadata": {
    "tags": []
   },
   "outputs": [],
   "source": [
    "# Muertes para combinaciones mes-año , cod_depto en 2024, vienen sin municipio en defunciones, en COVID hay 8 muertes en 2024\n",
    "merged_with_covid_df[merged_with_covid_df.YearMonth>'2023-12'].groupby(['YearMonth','cod_depto'])['count'].sum().reset_index()"
   ]
  },
  {
   "cell_type": "code",
   "execution_count": null,
   "id": "4d04e7f3",
   "metadata": {
    "tags": []
   },
   "outputs": [],
   "source": [
    "# Se quitan de merged_with"
   ]
  },
  {
   "cell_type": "code",
   "execution_count": null,
   "id": "8477a3dc",
   "metadata": {
    "tags": []
   },
   "outputs": [],
   "source": [
    "grouped_all_df = merged_with_covid_df.groupby(['grupos_agora','YearMonth'])['count'].sum().reset_index()"
   ]
  },
  {
   "cell_type": "code",
   "execution_count": null,
   "id": "f4a95829",
   "metadata": {
    "tags": []
   },
   "outputs": [],
   "source": [
    "grouped_all_df['count'].sum()"
   ]
  },
  {
   "cell_type": "code",
   "execution_count": null,
   "id": "23ef0887",
   "metadata": {
    "tags": []
   },
   "outputs": [],
   "source": [
    "grouped_all_df.columns"
   ]
  },
  {
   "cell_type": "code",
   "execution_count": null,
   "id": "60b34b94",
   "metadata": {
    "tags": []
   },
   "outputs": [],
   "source": [
    "grouped_all_df"
   ]
  },
  {
   "cell_type": "code",
   "execution_count": null,
   "id": "8952db76",
   "metadata": {
    "tags": []
   },
   "outputs": [],
   "source": [
    "grouped_all_df['Year']=grouped_all_df['YearMonth'].str[:4]"
   ]
  },
  {
   "cell_type": "code",
   "execution_count": null,
   "id": "cbd2b4a3",
   "metadata": {
    "tags": []
   },
   "outputs": [],
   "source": [
    "grouped_all_df.groupby('Year')['count'].sum()"
   ]
  },
  {
   "cell_type": "code",
   "execution_count": null,
   "id": "be6cd5a8",
   "metadata": {
    "tags": []
   },
   "outputs": [],
   "source": [
    "pivot_df = grouped_all_df.pivot_table(\n",
    "    index='YearMonth',\n",
    "    columns='grupos_agora',\n",
    "    values='count',\n",
    "    aggfunc='sum',\n",
    "    fill_value=0\n",
    ")"
   ]
  },
  {
   "cell_type": "code",
   "execution_count": null,
   "id": "3d95a733",
   "metadata": {
    "tags": []
   },
   "outputs": [],
   "source": [
    "pivot_df"
   ]
  },
  {
   "cell_type": "code",
   "execution_count": null,
   "id": "2e3b0ade",
   "metadata": {
    "tags": []
   },
   "outputs": [],
   "source": [
    "columnas_originales=pivot_df.columns"
   ]
  },
  {
   "cell_type": "code",
   "execution_count": null,
   "id": "56d0a4e1",
   "metadata": {
    "tags": []
   },
   "outputs": [],
   "source": [
    "columnas_originales"
   ]
  },
  {
   "cell_type": "code",
   "execution_count": null,
   "id": "5d87863d",
   "metadata": {
    "tags": []
   },
   "outputs": [],
   "source": [
    "pivot_df.index"
   ]
  },
  {
   "cell_type": "code",
   "execution_count": null,
   "id": "c5e51ba8",
   "metadata": {
    "tags": []
   },
   "outputs": [],
   "source": [
    "#-Agrupar las categorías \"1-NO DEFINIDO\" y \"Signos y síntomas\" en una sola categoría llamada \"No/mal definido\"\n",
    "pivot_df.loc[:,\"No/Mal definido\"] = pivot_df['1 - NO DEFINIDO']+pivot_df['Signos y Sintomas mal definidos']"
   ]
  },
  {
   "cell_type": "code",
   "execution_count": null,
   "id": "811300ad",
   "metadata": {
    "tags": []
   },
   "outputs": [],
   "source": [
    "del pivot_df['1 - NO DEFINIDO']"
   ]
  },
  {
   "cell_type": "code",
   "execution_count": null,
   "id": "0e884370",
   "metadata": {
    "tags": []
   },
   "outputs": [],
   "source": [
    "del pivot_df['Signos y Sintomas mal definidos']"
   ]
  },
  {
   "cell_type": "code",
   "execution_count": null,
   "id": "f8708321",
   "metadata": {
    "tags": []
   },
   "outputs": [],
   "source": [
    "# Agrupar las categorías \"visual y auditivo\" y \"Salud oral\" en la categoría \"Otras\"\n",
    "pivot_df.loc[:,\"Otras\"] = pivot_df['Alteraciones Visuales o Auditivas']+pivot_df['Salud Oral']"
   ]
  },
  {
   "cell_type": "code",
   "execution_count": null,
   "id": "8804dda3",
   "metadata": {
    "tags": []
   },
   "outputs": [],
   "source": [
    "del pivot_df['Alteraciones Visuales o Auditivas']\n",
    "del pivot_df['Salud Oral']"
   ]
  },
  {
   "cell_type": "code",
   "execution_count": null,
   "id": "42dccf8d",
   "metadata": {
    "tags": []
   },
   "outputs": [],
   "source": [
    "pivot_df = pivot_df[pivot_df.mean(axis=0).sort_values(ascending=False).index]"
   ]
  },
  {
   "cell_type": "code",
   "execution_count": null,
   "id": "3d23b003",
   "metadata": {
    "tags": []
   },
   "outputs": [],
   "source": [
    "pd.set_option('display.max_rows', 500)"
   ]
  },
  {
   "cell_type": "code",
   "execution_count": null,
   "id": "7ca75313",
   "metadata": {
    "tags": []
   },
   "outputs": [],
   "source": [
    "pivot_df"
   ]
  },
  {
   "cell_type": "code",
   "execution_count": null,
   "id": "fe6f073c-a58e-4cd5-896b-56276817db7d",
   "metadata": {
    "tags": []
   },
   "outputs": [],
   "source": [
    "# pivot_df filtrado de 2014 a 2023\n",
    "pivot_df = pivot_df.loc[(pivot_df.index >= \"2014-01\") & (pivot_df.index <= \"2023-12\")]"
   ]
  },
  {
   "cell_type": "code",
   "execution_count": null,
   "id": "cb1ecab8-ad2c-406b-9e97-b59b27661b35",
   "metadata": {
    "tags": []
   },
   "outputs": [],
   "source": [
    "pivot_df.index"
   ]
  },
  {
   "cell_type": "code",
   "execution_count": null,
   "id": "0bca7819",
   "metadata": {
    "tags": []
   },
   "outputs": [],
   "source": [
    "pivot_df.sum(axis=0).astype(int).to_frame()"
   ]
  },
  {
   "cell_type": "code",
   "execution_count": null,
   "id": "9c33e053-64c4-4fe4-a747-2f06d2ad9752",
   "metadata": {
    "tags": []
   },
   "outputs": [],
   "source": [
    "marginal_df = pivot_df.sum(axis=0).astype(int).to_frame(name=\"Total\")\n",
    "\n",
    "# Compute percentages\n",
    "marginal_df[\"%\"] = 100 * marginal_df[\"Total\"] / marginal_df[\"Total\"].sum()\n",
    "\n",
    "# Add a row with the total sum\n",
    "total_row = pd.DataFrame({\n",
    "    \"Total\": [marginal_df[\"Total\"].sum()],\n",
    "    \"%\": [marginal_df[\"%\"].sum()]\n",
    "}, index=[\"Total\"])\n",
    "\n",
    "# Concatenate total row at the bottom\n",
    "marginal_df = pd.concat([marginal_df, total_row])\n",
    "\n",
    "# Optionally reset index and rename\n",
    "marginal_df = marginal_df.reset_index().rename(columns={\"index\": \"Grupo AGORA\"})"
   ]
  },
  {
   "cell_type": "code",
   "execution_count": null,
   "id": "f4885527-c84a-44ed-889c-9ce87a1f7e10",
   "metadata": {
    "tags": []
   },
   "outputs": [],
   "source": [
    "marginal_df.round(1)"
   ]
  },
  {
   "cell_type": "code",
   "execution_count": null,
   "id": "b1cd0705-ffa1-4c74-b75d-27ecd4b41c07",
   "metadata": {
    "tags": []
   },
   "outputs": [],
   "source": [
    "(pivot_df.sum(axis=0).sum()/10e5).round(3)"
   ]
  },
  {
   "cell_type": "code",
   "execution_count": null,
   "id": "bda8314c",
   "metadata": {
    "tags": []
   },
   "outputs": [],
   "source": [
    "(pivot_df.sum(axis=0).to_frame()/pivot_df.sum(axis=0).sum()).round(3)"
   ]
  },
  {
   "cell_type": "code",
   "execution_count": null,
   "id": "0a51e959",
   "metadata": {
    "tags": []
   },
   "outputs": [],
   "source": [
    "pivot_df.columns"
   ]
  },
  {
   "cell_type": "code",
   "execution_count": null,
   "id": "ab8d2412",
   "metadata": {
    "tags": []
   },
   "outputs": [],
   "source": [
    "nombres_cortos_map = {\n",
    "    'Enfermedades Cardiovasculares y Metabólicas': 'Cardiovasculares y Metabólicas',\n",
    "    'Tumores, Enfermedades Hematopoyéticas y del sistema Inmune': 'Tumores y Sist. Inmune',\n",
    "    'Condiciones asociadas a lesiones o agresión': 'Lesiones o Agresión',\n",
    "    'Enfermedades infecciosas': 'Infecciosas',\n",
    "    'Enfermedades Respiratorias Crónicas o de la Piel o estructuras anexas': 'Respiratorias y Piel',\n",
    "    'Enfermedades de los Sistemas Digestivo o Urinario': 'Digestivo o Urinario',\n",
    "    'Trastornos Neurológicos o mentales': 'Neurológicos o Mentales',\n",
    "    'Trastornos Materno Perinatales Congenitos o Nutricionales': 'Materno, Congénitos o Nutrición',\n",
    "    'Enfermedades Osteomusculares y Degenerativas': 'Osteomusculares y Degenerativas',\n",
    "    'No/Mal definido': 'No/Mal definido',\n",
    "    'COVID-19': 'COVID-19',  \n",
    "    'Otras': 'Otras'        \n",
    "}"
   ]
  },
  {
   "cell_type": "code",
   "execution_count": null,
   "id": "6aa63b0f",
   "metadata": {
    "tags": []
   },
   "outputs": [],
   "source": [
    "olas = [\n",
    "    (\"Ola 1\", \"2020-05\", \"2020-09\"),\n",
    "    (\"Ola 2\", \"2020-11\", \"2021-02\"),\n",
    "    (\"Ola 3\", \"2021-03\", \"2021-08\"),\n",
    "    (\"Ola 4\", \"2021-12\", \"2022-02\")\n",
    "]"
   ]
  },
  {
   "cell_type": "code",
   "execution_count": null,
   "id": "b08387db",
   "metadata": {
    "tags": []
   },
   "outputs": [],
   "source": [
    "cmap = colormaps.get_cmap('tab20')\n",
    "tab20_colors = [cmap(i) for i in range(cmap.N)]\n",
    "def is_too_red(rgba):\n",
    "    r, g, b, _ = rgba\n",
    "    return r > 0.8 and g < 0.2 and b < 0.2  # Heuristic threshold for red-ish\n",
    "\n",
    "filtered_colors = [c for c in tab20_colors if not is_too_red(c)]"
   ]
  },
  {
   "cell_type": "code",
   "execution_count": null,
   "id": "515b6ab6",
   "metadata": {
    "tags": []
   },
   "outputs": [],
   "source": [
    "\n",
    "# Old Params \n",
    "\"\"\" \n",
    "plt.rcParams.update({\n",
    "    'font.size': 12,\n",
    "    'font.family': 'serif',\n",
    "    'axes.titlesize': 14,\n",
    "    'axes.labelsize': 12,\n",
    "    'legend.fontsize': 10,\n",
    "    'xtick.labelsize': 10,\n",
    "    'ytick.labelsize': 10\n",
    "})\n",
    "\"\"\" \n",
    "plt.rcParams.update({\n",
    "    'font.size': 16,\n",
    "    'font.family': 'serif',\n",
    "    'axes.titlesize': 14,\n",
    "    'axes.labelsize': 14,\n",
    "    'legend.fontsize': 14,\n",
    "    'xtick.labelsize': 10,\n",
    "    'ytick.labelsize': 10\n",
    "})\n",
    "\n",
    "color_dict = {}\n",
    "  \n",
    "nombres_cortos = [nombres_cortos_map[col] for col in pivot_df.columns]\n",
    "\n",
    "color_dict[\"COVID-19\"] = (1.0, 0.0, 0.0, 1.0)  # RGBA for red\n",
    "\n",
    "color_index = 0\n",
    "for col in pivot_df.columns:\n",
    "    if col == \"COVID-19\":\n",
    "        continue\n",
    "   \n",
    "    while filtered_colors[color_index] == (1.0, 0.0, 0.0, 1.0):\n",
    "        color_index += 1\n",
    "    color_dict[col] = filtered_colors[color_index]\n",
    "    color_index += 1\n",
    "\n",
    "colors = [color_dict[col] for col in pivot_df.columns]\n",
    "#colors = [cmap(i) for i in range(len(pivot_df.columns))]\n",
    "\n",
    "# Create the figure\n",
    "fig, ax = plt.subplots(figsize=(20, 8), constrained_layout=True)\n",
    "\n",
    "# Plot the stacked area chart\n",
    "pivot_df.plot(kind='area', stacked=True, ax=ax, color=colors,linewidth=0)\n",
    "\n",
    "for label, start_str, end_str in olas:\n",
    "    start_pos = pivot_df.index.get_loc(start_str)\n",
    "    end_pos = pivot_df.index.get_loc(end_str)\n",
    "    ax.axvspan(start_pos, end_pos, color='lightgray', alpha=0.4)\n",
    "    x_mid = (start_pos + end_pos) / 2\n",
    "    \n",
    "    y_max = ax.get_ylim()[1]\n",
    "    ax.text(\n",
    "        x_mid,                       # this is position-based\n",
    "        y_max * 0.99,                # near top of the plot\n",
    "        label,\n",
    "        ha='center',\n",
    "        va='top',\n",
    "        fontsize=10,\n",
    "        backgroundcolor='white'\n",
    "    )\n",
    "\n",
    "\n",
    "\n",
    "# Title and labels\n",
    "#ax.set_title('Total de muertes mensual en periodo 2014-01 a 2024-04 por categoría ÁGORA')\n",
    "ax.set_xlabel('')\n",
    "ax.set_ylabel('Muertes mensuales')\n",
    "\n",
    "# Improve xticks (every 3rd month)\n",
    "positions = range(len(pivot_df.index))\n",
    "step = 4\n",
    "ax.set_xticks(positions[::step])\n",
    "ax.set_xticklabels(pivot_df.index[::step], rotation=35, ha='right')\n",
    "\n",
    "# Legend below the chart\n",
    "handles, labels = ax.get_legend_handles_labels()\n",
    "ax.legend(\n",
    "    handles,\n",
    "    nombres_cortos,\n",
    "    title='',\n",
    "    loc='upper center',\n",
    "    bbox_to_anchor=(0.5, -0.2),\n",
    "    ncol=5,\n",
    "    frameon=True\n",
    ")\n",
    "ax.set_facecolor('white')  \n",
    "ax.grid(False)\n",
    "ax.set_xlim(0, len(pivot_df.index))\n",
    "# Export to high-quality formats\n",
    "fig.savefig(\"grafico_total_muertes.pdf\", format=\"pdf\")\n",
    "fig.savefig(\"grafico_total_muertes.png\", format=\"png\", dpi=300)\n",
    "\n",
    "plt.show()"
   ]
  },
  {
   "cell_type": "code",
   "execution_count": null,
   "id": "3a1ab4f0",
   "metadata": {
    "tags": []
   },
   "outputs": [],
   "source": [
    "\n",
    "\n",
    "plt.rcParams.update({\n",
    "    'font.size': 16,\n",
    "    'font.family': 'serif',\n",
    "    'axes.titlesize': 14,\n",
    "    'axes.labelsize': 14,\n",
    "    'legend.fontsize': 14,\n",
    "    'xtick.labelsize': 10,\n",
    "    'ytick.labelsize': 10\n",
    "})\n",
    "\n",
    "color_dict = {}\n",
    "  \n",
    "nombres_cortos = [nombres_cortos_map[col] for col in pivot_df.columns]\n",
    "\n",
    "color_dict[\"COVID-19\"] = (1.0, 0.0, 0.0, 1.0)  # RGBA for red\n",
    "\n",
    "color_index = 0\n",
    "for col in pivot_df.columns:\n",
    "    if col == \"COVID-19\":\n",
    "        continue\n",
    "   \n",
    "    while filtered_colors[color_index] == (1.0, 0.0, 0.0, 1.0):\n",
    "        color_index += 1\n",
    "    color_dict[col] = filtered_colors[color_index]\n",
    "    color_index += 1\n",
    "\n",
    "colors = [color_dict[col] for col in pivot_df.columns]\n",
    "#colors = [cmap(i) for i in range(len(pivot_df.columns))]\n",
    "\n",
    "# Create the figure\n",
    "fig, ax = plt.subplots(figsize=(20, 8), constrained_layout=True)\n",
    "\n",
    "# Plot the stacked area chart\n",
    "pivot_df.plot(kind='line', ax=ax, color=colors,linewidth=3)\n",
    "\n",
    "# Title and labels\n",
    "#ax.set_title('Total de muertes mensual en periodo 2014-01 a 2024-04 por categoría ÁGORA')\n",
    "ax.set_xlabel('')\n",
    "ax.set_ylabel('Muertes mensuales')\n",
    "\n",
    "# Improve xticks (every 3rd month)\n",
    "positions = range(len(pivot_df.index))\n",
    "step = 3\n",
    "ax.set_xticks(positions[::step])\n",
    "ax.set_xticklabels(pivot_df.index[::step], rotation=30, ha='right')\n",
    "\n",
    "# Legend below the chart\n",
    "handles, labels = ax.get_legend_handles_labels()\n",
    "ax.legend(\n",
    "    handles,\n",
    "    nombres_cortos,\n",
    "    title='',\n",
    "    loc='upper center',\n",
    "    bbox_to_anchor=(0.5, -0.2),\n",
    "    ncol=6,\n",
    "    frameon=True\n",
    ")\n",
    "ax.set_facecolor('white')  \n",
    "ax.grid(False)\n",
    "ax.set_xlim(0, len(pivot_df.index))\n",
    "\n",
    "# Export to high-quality formats\n",
    "fig.savefig(\"grafico_total_linea_muertes.pdf\", format=\"pdf\", bbox_inches=\"tight\")\n",
    "fig.savefig(\"grafico_total_linea_muertes.png\", format=\"png\", dpi=300, bbox_inches=\"tight\")\n",
    "\n",
    "plt.show()"
   ]
  },
  {
   "cell_type": "code",
   "execution_count": null,
   "id": "82d3fccb",
   "metadata": {
    "tags": []
   },
   "outputs": [],
   "source": [
    "percent_df = pivot_df.div(pivot_df.sum(axis=1), axis=0) * 100\n",
    "percent_df = percent_df.fillna(0).round(4)\n",
    "percent_df[percent_df < 1e-6] = 0\n",
    "percent_df = percent_df[percent_df.mean(axis=0).sort_values(ascending=False).index]"
   ]
  },
  {
   "cell_type": "code",
   "execution_count": null,
   "id": "bb667512",
   "metadata": {
    "tags": []
   },
   "outputs": [],
   "source": [
    "percent_df"
   ]
  },
  {
   "cell_type": "code",
   "execution_count": null,
   "id": "49e9b648",
   "metadata": {
    "tags": []
   },
   "outputs": [],
   "source": [
    "percent_df.loc['2023-01':'2023-12','Trastornos Neurológicos o mentales'].mean()"
   ]
  },
  {
   "cell_type": "code",
   "execution_count": null,
   "id": "f0bf745a",
   "metadata": {
    "tags": []
   },
   "outputs": [],
   "source": [
    "ax = percent_df.plot(kind='box')\n",
    "plt.xticks(rotation=90)\n",
    "#plt.tight_layout()  # Optional: makes sure labels don't get cut off\n",
    "plt.show()"
   ]
  },
  {
   "cell_type": "code",
   "execution_count": null,
   "id": "be1f77af",
   "metadata": {
    "tags": []
   },
   "outputs": [],
   "source": [
    "from scipy.stats import linregress\n",
    "\n",
    "trend_results = {}\n",
    "x= pd.to_datetime(pivot_df.index, format='%Y-%m')\n",
    "x = (x - x[0]).days\n",
    "\n",
    "for col in pivot_df.columns:\n",
    "    y = pivot_df[col].values\n",
    "    mask = ~pd.isna(y)\n",
    "    if mask.sum() > 1:  # Need at least 2 points\n",
    "        slope, intercept, r_value, p_value, std_err = linregress(x[mask], y[mask])\n",
    "        trend_results[col] = {\n",
    "            'slope': slope,\n",
    "            'p_value': p_value,\n",
    "            'increasing': slope > 0 and p_value < 0.05\n",
    "        }\n",
    "\n",
    "trend_df = pd.DataFrame(trend_results).T"
   ]
  },
  {
   "cell_type": "code",
   "execution_count": null,
   "id": "c5226c4a",
   "metadata": {
    "tags": []
   },
   "outputs": [],
   "source": [
    "trend_df"
   ]
  },
  {
   "cell_type": "code",
   "execution_count": null,
   "id": "97b5b03d",
   "metadata": {
    "tags": []
   },
   "outputs": [],
   "source": [
    "plt.rcParams.update({\n",
    "    'font.size': 16,\n",
    "    'font.family': 'serif',\n",
    "    'axes.titlesize': 14,\n",
    "    'axes.labelsize': 14,\n",
    "    'legend.fontsize': 14,\n",
    "    'xtick.labelsize': 10,\n",
    "    'ytick.labelsize': 10\n",
    "})\n",
    "\n",
    "nombres_cortos = [nombres_cortos_map[col] for col in percent_df.columns]\n",
    "\n",
    "color_dict[\"COVID-19\"] = (1.0, 0.0, 0.0, 1.0)  # RGBA for red\n",
    "\n",
    "color_index = 0\n",
    "for col in pivot_df.columns:\n",
    "    if col == \"COVID-19\":\n",
    "        continue\n",
    "   \n",
    "    while filtered_colors[color_index] == (1.0, 0.0, 0.0, 1.0):\n",
    "        color_index += 1\n",
    "    color_dict[col] = filtered_colors[color_index]\n",
    "    color_index += 1\n",
    "\n",
    "colors = [color_dict[col] for col in percent_df.columns]\n",
    "\n",
    "# Create the figure\n",
    "fig, ax = plt.subplots(figsize=(20, 8), constrained_layout=True)\n",
    "\n",
    "# Plot the stacked area chart\n",
    "percent_df.plot(kind='area', stacked=True, ax=ax, color=colors,linewidth=0)\n",
    "\n",
    "# Title and labels\n",
    "#ax.set_title('Porcentaje de muertes mensual en periodo 2014-01 a 2024-04 por categoría ÁGORA')\n",
    "ax.set_xlabel('')\n",
    "ax.set_ylabel('Porcentaje mensual')\n",
    "\n",
    "# Improve xticks (every 3rd month)\n",
    "positions = range(len(percent_df.index))\n",
    "step = 3\n",
    "ax.set_xticks(positions[::step])\n",
    "ax.set_xticklabels(percent_df.index[::step], rotation=30, ha='right')\n",
    "\n",
    "# Legend below the chart\n",
    "handles, labels = ax.get_legend_handles_labels()\n",
    "ax.legend(\n",
    "    handles,\n",
    "    nombres_cortos,\n",
    "    title='',\n",
    "    loc='upper center',\n",
    "    bbox_to_anchor=(0.5, -0.2),\n",
    "    ncol=6,\n",
    "    frameon=True\n",
    ")\n",
    "\n",
    "ax.grid(True)\n",
    "\n",
    "# Export to high-quality formats\n",
    "fig.savefig(\"grafico_porcentaje_muertes.pdf\", format=\"pdf\", bbox_inches=\"tight\")\n",
    "fig.savefig(\"grafico_porcentaje_muertes.png\", format=\"png\", dpi=300, bbox_inches=\"tight\")\n",
    "\n",
    "plt.show()"
   ]
  },
  {
   "cell_type": "code",
   "execution_count": null,
   "id": "43f93d5b",
   "metadata": {
    "tags": []
   },
   "outputs": [],
   "source": [
    "\n",
    "plt.rcParams.update({\n",
    "    'font.size': 14,\n",
    "    'font.family': 'sans-serif',\n",
    "    'font.sans-serif': ['Arial', 'DejaVu Sans', 'Liberation Sans', 'sans-serif'],  # fallback chain\n",
    "    'axes.titlesize': 40,\n",
    "    'axes.labelsize': 35,\n",
    "    'legend.fontsize': 35,\n",
    "    'xtick.labelsize': 25,\n",
    "    'ytick.labelsize': 25\n",
    "})\n",
    "\n",
    "\n",
    "color_dict = {}\n",
    "color_dict[\"COVID-19\"] = (1.0, 0.0, 0.0, 1.0)  # RGBA for red\n",
    "\n",
    "color_index = 0\n",
    "for col in pivot_df.columns:\n",
    "    if col == \"COVID-19\":\n",
    "        continue\n",
    "    while filtered_colors[color_index] == (1.0, 0.0, 0.0, 1.0):\n",
    "        color_index += 1\n",
    "    color_dict[col] = filtered_colors[color_index]\n",
    "    color_index += 1\n",
    "\n",
    "\n",
    "nombres_cortos = [nombres_cortos_map[col] for col in pivot_df.columns]\n",
    "colors_pivot = [color_dict[col] for col in pivot_df.columns]\n",
    "colors_percent = [color_dict[col] for col in percent_df.columns]\n",
    "\n",
    "\n",
    "fig = plt.figure(figsize=(46, 26))\n",
    "gs = GridSpec(3, 1, height_ratios=[1, 1, 0.15])  # Third row just for legend\n",
    "\n",
    "ax1 = fig.add_subplot(gs[0])\n",
    "ax2 = fig.add_subplot(gs[1], sharex=ax1)\n",
    "legend_ax = fig.add_subplot(gs[2])\n",
    "legend_ax.axis('off')  \n",
    "\n",
    "\n",
    "# --- Plot arriba : Muertes en absoluto stack\n",
    "pivot_df.plot(kind='area', stacked=True, ax=ax1, color=colors_pivot, linewidth=0)\n",
    "\n",
    "for label, start_str, end_str in olas:\n",
    "    start_pos = pivot_df.index.get_loc(start_str)\n",
    "    end_pos = pivot_df.index.get_loc(end_str)\n",
    "    ax1.axvspan(start_pos, end_pos, color='lightgray', alpha=0.4)\n",
    "    x_mid = (start_pos + end_pos) / 2\n",
    "    y_max = ax1.get_ylim()[1]\n",
    "    ax1.text(\n",
    "        x_mid,\n",
    "        y_max * 0.99,\n",
    "        label,\n",
    "        ha='center',\n",
    "        va='top',\n",
    "        fontsize=24,\n",
    "        color='white',\n",
    "        fontweight='bold',\n",
    "        bbox=dict(\n",
    "            facecolor='#126180',  # Example teal-blue background\n",
    "            edgecolor='none',\n",
    "            boxstyle='round,pad=0.3'\n",
    "            )\n",
    "    )\n",
    "\n",
    "ax1.set_ylabel('Muertes mensuales')\n",
    "ax1.set_facecolor('white')\n",
    "ax1.grid(False)\n",
    "ax1.set_xlim(0, len(pivot_df.index))\n",
    "ax1.get_legend().remove()\n",
    "\n",
    "# --- Plot abajo: muertes en porcentaje\n",
    "percent_df.plot(kind='area', stacked=True, ax=ax2, color=colors_percent, linewidth=0)\n",
    "ax2.get_legend().remove()\n",
    "ax2.set_ylabel('Porcentaje mensual')\n",
    "ax2.set_facecolor('white')\n",
    "ax2.grid(False)\n",
    "\n",
    "for label, start_str, end_str in olas:\n",
    "    start_pos = pivot_df.index.get_loc(start_str)\n",
    "    end_pos = pivot_df.index.get_loc(end_str)\n",
    "    ax2.axvspan(start_pos, end_pos, color='lightgray', alpha=0.4)\n",
    "    x_mid = (start_pos + end_pos) / 2\n",
    "    y_max = ax1.get_ylim()[1]\n",
    "    #ax2.text(x_mid, y_max * 0.99, label, ha='center', va='top', fontsize=10, backgroundcolor='white')\n",
    "\n",
    "\n",
    "\n",
    "\n",
    "# Legend only once (below the bottom plot)\n",
    "handles, labels = ax1.get_legend_handles_labels()\n",
    "legend_f = legend_ax.legend(\n",
    "    handles,\n",
    "    [nombres_cortos_map[col] for col in percent_df.columns],\n",
    "    title='',\n",
    "    loc='upper center',\n",
    "    #bbox_to_anchor=(0.5, -0.05),\n",
    "    ncol=4,\n",
    "    frameon=True\n",
    ")\n",
    "legend_f.get_frame().set_facecolor('white')\n",
    "legend_f.get_frame().set_edgecolor('white')\n",
    "\n",
    "\n",
    "# Shared X-ticks formatting\n",
    "positions = range(len(percent_df.index))\n",
    "step = 4\n",
    "\n",
    "# Ensure the last index is included\n",
    "if positions[-1] not in positions[::step]:\n",
    "    xtick_positions = list(positions[::step]) + [positions[-1]]\n",
    "else:\n",
    "    xtick_positions = positions[::step]\n",
    "\n",
    "# Remove duplicates and sort\n",
    "xtick_positions = sorted(set(xtick_positions))\n",
    "\n",
    "ax2.set_xticks(xtick_positions)\n",
    "ax2.set_xticklabels([percent_df.index[i] for i in xtick_positions], rotation=35, ha='right')\n",
    "ax2.tick_params(axis='x', which='both', direction='out', labelbottom=True) \n",
    "\n",
    "for label in ax2.get_xticklabels():\n",
    "    label.set_visible(True)\n",
    "\n",
    "ax2.set_xlabel('')\n",
    "\n",
    "#plt.tight_layout()\n",
    "# Save both plots in one image\n",
    "fig.savefig(\"grafico_muertes_combinado.pdf\", format=\"pdf\")\n",
    "fig.savefig(\"grafico_muertes_combinado.png\", format=\"png\", dpi=300,bbox_inches=\"tight\", pad_inches=0)\n",
    "\n",
    "plt.show()\n"
   ]
  },
  {
   "cell_type": "code",
   "execution_count": null,
   "id": "de87eced",
   "metadata": {
    "tags": []
   },
   "outputs": [],
   "source": [
    "trend_results = {}\n",
    "x= pd.to_datetime(percent_df.index, format='%Y-%m')\n",
    "x = (x - x[0]).days\n",
    "\n",
    "for col in percent_df.columns:\n",
    "    y = percent_df[col].values\n",
    "    mask = ~pd.isna(y)\n",
    "    if mask.sum() > 1:  # Need at least 2 points\n",
    "        slope, intercept, r_value, p_value, std_err = linregress(x[mask], y[mask])\n",
    "        trend_results[col] = {\n",
    "            'slope': slope,\n",
    "            'p_value': p_value,\n",
    "            'increasing': slope > 0 and p_value < 0.05\n",
    "        }\n",
    "\n",
    "trend_df = pd.DataFrame(trend_results).T"
   ]
  },
  {
   "cell_type": "code",
   "execution_count": null,
   "id": "674e7859",
   "metadata": {
    "tags": []
   },
   "outputs": [],
   "source": [
    "trend_df"
   ]
  },
  {
   "cell_type": "code",
   "execution_count": null,
   "id": "6f0b38be",
   "metadata": {
    "tags": []
   },
   "outputs": [],
   "source": [
    "def summarize_df(df, label):\n",
    "    return pd.concat([\n",
    "        df.max().to_frame(name=f'{label}_max_value'),\n",
    "        df.idxmax().to_frame(name=f'{label}_max_index'),\n",
    "        df.min().to_frame(name=f'{label}_min_value'),\n",
    "        df.idxmin().to_frame(name=f'{label}_min_index'),\n",
    "    ], axis=1)\n",
    "\n",
    "# Apply to both dataframes\n",
    "summary_pivot = summarize_df(pivot_df, 'pivot')\n",
    "summary_percent = summarize_df(percent_df, 'percent')\n",
    "# Optional: reorder columns explicitly (if needed)\n",
    "sorted_columns = [\n",
    "    'pivot_max_value', 'pivot_max_index',\n",
    "    \n",
    "    'percent_max_value',     'pivot_min_value', 'pivot_min_index',\n",
    "    \n",
    "    'percent_min_value', 'percent_min_index'\n",
    "]\n",
    "\n",
    "\n",
    "summary_df = summary_pivot.join(summary_percent).sort_values(by='pivot_max_value', ascending=False)\n",
    "summary_df[[col for col in sorted_columns if col in summary_df.columns]]\n"
   ]
  },
  {
   "cell_type": "code",
   "execution_count": null,
   "id": "eac8baa5",
   "metadata": {
    "tags": []
   },
   "outputs": [],
   "source": [
    "percent_df.loc['2021-01']"
   ]
  },
  {
   "cell_type": "code",
   "execution_count": null,
   "id": "5967c1b2",
   "metadata": {
    "tags": []
   },
   "outputs": [],
   "source": [
    "percent_df.loc['2022-01']"
   ]
  },
  {
   "cell_type": "code",
   "execution_count": null,
   "id": "934818cf",
   "metadata": {
    "tags": []
   },
   "outputs": [],
   "source": [
    "pivot_df.columns"
   ]
  },
  {
   "cell_type": "code",
   "execution_count": null,
   "id": "59f4efeb",
   "metadata": {
    "tags": []
   },
   "outputs": [],
   "source": [
    "olas"
   ]
  },
  {
   "cell_type": "code",
   "execution_count": null,
   "id": "f3019565",
   "metadata": {
    "tags": []
   },
   "outputs": [],
   "source": [
    "def in_ola(olas,date):\n",
    "    for o in olas:\n",
    "        if o[1]<=date and date<=o[2]:\n",
    "            return o[0]\n",
    "    return 'NO'    "
   ]
  },
  {
   "cell_type": "code",
   "execution_count": null,
   "id": "806cf657",
   "metadata": {
    "tags": []
   },
   "outputs": [],
   "source": [
    "pivod_sum=pivot_df.sum(axis=1).sort_values(ascending=False).to_frame().join(percent_df[['COVID-19','No/Mal definido','Enfermedades Respiratorias Crónicas o de la Piel o estructuras anexas']]).reset_index()"
   ]
  },
  {
   "cell_type": "code",
   "execution_count": null,
   "id": "74300a6e",
   "metadata": {
    "tags": []
   },
   "outputs": [],
   "source": [
    "pivod_sum['ola']=pivod_sum['YearMonth'].apply(lambda x:in_ola(olas,x))"
   ]
  },
  {
   "cell_type": "code",
   "execution_count": null,
   "id": "a0c226e1",
   "metadata": {
    "tags": []
   },
   "outputs": [],
   "source": [
    "pivod_sum.sort_values(by='YearMonth', ascending=False)"
   ]
  },
  {
   "cell_type": "code",
   "execution_count": null,
   "id": "d04b2560",
   "metadata": {
    "tags": []
   },
   "outputs": [],
   "source": [
    "for c in pivot_df.columns:\n",
    "    d=pivot_df.nlargest(5,c)[c].to_frame().reset_index()\n",
    "    d['ola']=d['YearMonth'].apply(lambda x:in_ola(olas,x))\n",
    "    print(c)\n",
    "    print(d)"
   ]
  },
  {
   "cell_type": "code",
   "execution_count": null,
   "id": "dbb104e9",
   "metadata": {
    "tags": []
   },
   "outputs": [],
   "source": [
    "for c in pivot_df.columns:\n",
    "    d=pivot_df.nsmallest(5,c)[c].to_frame().reset_index()\n",
    "    d['ola']=d['YearMonth'].apply(lambda x:in_ola(olas,x))\n",
    "    print(c)\n",
    "    print(d)"
   ]
  },
  {
   "cell_type": "code",
   "execution_count": null,
   "id": "7fdebae9",
   "metadata": {
    "tags": []
   },
   "outputs": [],
   "source": [
    "pivot_df['Condiciones asociadas a lesiones o agresión'].plot(kind='line')"
   ]
  },
  {
   "cell_type": "code",
   "execution_count": null,
   "id": "306547a1",
   "metadata": {
    "tags": []
   },
   "outputs": [],
   "source": [
    "pivot_df.loc['2020-01':'2020-08']['Condiciones asociadas a lesiones o agresión']"
   ]
  },
  {
   "cell_type": "code",
   "execution_count": null,
   "id": "a7587cac",
   "metadata": {
    "tags": []
   },
   "outputs": [],
   "source": [
    "pivot_df.nlargest(5,'Tumores, Enfermedades Hematopoyéticas y del sistema Inmune')['Tumores, Enfermedades Hematopoyéticas y del sistema Inmune']"
   ]
  },
  {
   "cell_type": "code",
   "execution_count": null,
   "id": "0863b06b",
   "metadata": {
    "tags": []
   },
   "outputs": [],
   "source": [
    "# Compute first differences (month-to-month changes)\n",
    "df_diff = pivot_df.diff().dropna()\n",
    "coor_mat=df_diff.loc['2020-03':'2023-12'].corr()\n",
    "coor_mat['index']=nombres_cortos\n",
    "coor_mat=coor_mat.set_index('index')\n",
    "coor_mat.columns=nombres_cortos\n",
    "# Create a mask for the upper triangle including the diagonal\n",
    "mask = np.triu(np.ones(coor_mat.shape), k=0).astype(bool)\n",
    "# Apply the mask by setting upper triangle + diagonal to NaN\n",
    "masked_corr = coor_mat.mask(mask)\n"
   ]
  },
  {
   "cell_type": "code",
   "execution_count": null,
   "id": "c234f796",
   "metadata": {
    "tags": []
   },
   "outputs": [],
   "source": [
    "plt.style.use('seaborn-v0_8') \n",
    "data = masked_corr.values\n",
    "labels = np.array([[f\"{v:.2f}\" if not np.isnan(v) else \"\" for v in row] for row in data])\n",
    "\n",
    "# Create figure and axis\n",
    "fig, ax = plt.subplots(figsize=(14, 10))\n",
    "\n",
    "# Display the heatmap using imshow\n",
    "cax = ax.imshow(data, cmap=\"coolwarm\", vmin=-1, vmax=1)\n",
    "\n",
    "# Add colorbar\n",
    "cbar = fig.colorbar(cax, ax=ax, shrink=0.75)\n",
    "\n",
    "# Annotate the heatmap\n",
    "for i in range(data.shape[0]):\n",
    "    for j in range(data.shape[1]):\n",
    "        if labels[i][j] != \"\":\n",
    "            ax.text(j, i, labels[i][j], ha='center', va='center', color='black')\n",
    "ax.grid(False)  # turns off gridlines\n",
    "# Set ticks and labels\n",
    "ax.set_xticks(np.arange(len(masked_corr.columns)))\n",
    "ax.set_yticks(np.arange(len(masked_corr.index)))\n",
    "ax.set_xticklabels(masked_corr.columns, rotation=45, ha='right')\n",
    "ax.set_yticklabels(masked_corr.index)\n",
    "ax.set_facecolor('white')  \n",
    "# Title and layout\n",
    "plt.title(\"Correlación entre enfermedades (Serie diferenciada: 2020-03 a 2024-01)\")\n",
    "plt.tight_layout()\n",
    "plt.show()"
   ]
  },
  {
   "cell_type": "code",
   "execution_count": null,
   "id": "efd83b91",
   "metadata": {
    "tags": []
   },
   "outputs": [],
   "source": [
    "merged_with_covid_df"
   ]
  },
  {
   "cell_type": "code",
   "execution_count": null,
   "id": "9e1844c0",
   "metadata": {
    "tags": []
   },
   "outputs": [],
   "source": [
    "grouped_depto_df = merged_with_covid_df.groupby(['grupos_agora','YearMonth','cod_depto'])['count'].sum().reset_index()"
   ]
  },
  {
   "cell_type": "code",
   "execution_count": null,
   "id": "cbcf6b8c",
   "metadata": {
    "tags": []
   },
   "outputs": [],
   "source": [
    "# Quitamos del conteo las muertes de 2024 para la generación por departamento\n",
    "grouped_depto_df = grouped_depto_df[grouped_depto_df.YearMonth<'2024-01']"
   ]
  },
  {
   "cell_type": "code",
   "execution_count": null,
   "id": "2c38262a",
   "metadata": {
    "tags": []
   },
   "outputs": [],
   "source": [
    "grouped_depto_df['cod_depto'].unique()"
   ]
  },
  {
   "cell_type": "code",
   "execution_count": null,
   "id": "26de3c07",
   "metadata": {
    "tags": []
   },
   "outputs": [],
   "source": [
    "def plot_stacked_area_percent(df, department_name, filename_prefix=\"grafico_porcentaje_muertes\"):\n",
    "    \"\"\"\n",
    "    Crea stackedplot del departamento con los conteos presentes en el pivot df\n",
    "\n",
    "    Parameters:\n",
    "    - df: DataFrame con el pivot de los porcentajes (rows = YearTime, columns = Categoria agora)\n",
    "    - department_name: Nombre del departamento (str) para el título\n",
    "    - filename_prefix: Nombre del archivo con el plot (str)\n",
    "    \"\"\"\n",
    "\n",
    "    plt.rcParams.update({\n",
    "    'font.size': 12,\n",
    "    'font.family': 'serif',\n",
    "    'axes.titlesize': 16,\n",
    "    'axes.labelsize': 16,\n",
    "    'legend.fontsize': 18,\n",
    "    'xtick.labelsize': 10,\n",
    "    'ytick.labelsize': 10\n",
    "    })\n",
    "\n",
    "    nombres_cortos = [nombres_cortos_map[col] for col in df.columns]\n",
    "\n",
    "    color_dict[\"COVID-19\"] = (1.0, 0.0, 0.0, 1.0)  # RGBA for red\n",
    "\n",
    "    color_index = 0\n",
    "    for col in df.columns:\n",
    "        if col == \"COVID-19\":\n",
    "            continue\n",
    "\n",
    "        while filtered_colors[color_index] == (1.0, 0.0, 0.0, 1.0):\n",
    "            color_index += 1\n",
    "        color_dict[col] = filtered_colors[color_index]\n",
    "        color_index += 1\n",
    "\n",
    "    colors = [color_dict[col] for col in df.columns]\n",
    "    # Use a colormap with enough distinct colors\n",
    "    \n",
    "\n",
    "    # Create the figure\n",
    "    fig, ax = plt.subplots(figsize=(28, 14), constrained_layout=True)\n",
    "\n",
    "    # Plot the stacked area chart\n",
    "    df.plot(kind='area', stacked=True, ax=ax, color=colors, linewidth=0)\n",
    "    \n",
    "\n",
    "    # Title and labels\n",
    "    ax.set_title(f'Porcentaje de muertes mensual en periodo 2014-01 a 2024-04 en {department_name} por categoría ÁGORA')\n",
    "    ax.set_xlabel('')\n",
    "    ax.set_ylabel('Porcentaje mensual')\n",
    "    ax.set_facecolor('white')\n",
    "    ax.grid(False)\n",
    "    ax.set_xlim(0, len(df.index))\n",
    "\n",
    "    # Improve xticks (every 3rd month)\n",
    "    positions = range(len(df.index))\n",
    "    step = 3\n",
    "    ax.set_xticks(positions[::step])\n",
    "    ax.set_xticklabels(df.index[::step], rotation=30, ha='right')\n",
    "\n",
    "    # Legend below the chart\n",
    "    handles, labels = ax.get_legend_handles_labels()\n",
    "    ax.legend(\n",
    "        handles,\n",
    "        nombres_cortos,\n",
    "        title='',\n",
    "        loc='upper center',\n",
    "        bbox_to_anchor=(0.5, -0.15),\n",
    "        ncol=6,\n",
    "        frameon=True\n",
    "    )\n",
    "\n",
    "    ax.grid(True)\n",
    "\n",
    "    # Export to high-quality formats\n",
    "    fig.savefig(f\"{filename_prefix}_{department_name}.pdf\", format=\"pdf\", bbox_inches=\"tight\")\n",
    "    fig.savefig(f\"{filename_prefix}_{department_name}.png\", format=\"png\", dpi=300, bbox_inches=\"tight\")\n",
    "\n",
    "    plt.show()"
   ]
  },
  {
   "cell_type": "code",
   "execution_count": null,
   "id": "241658f4",
   "metadata": {
    "tags": []
   },
   "outputs": [],
   "source": [
    "def plot_stacked_area_total(df, department_name, olas,filename_prefix=\"grafico_total_conteo_muertes\"):\n",
    "    \"\"\"\n",
    "    Crea stackedplot del departamento con los conteos presentes en el pivot df\n",
    "\n",
    "    Parameters:\n",
    "    - df: DataFrame con el pivot de los totales (rows = YearTime, columns = Categoria agora)\n",
    "    - department_name: Nombre del departamento (str) para el título\n",
    "    - filename_prefix: Nombre del archivo con el plot (str)\n",
    "    \"\"\"\n",
    "\n",
    "    # Configure print-friendly fonts and layout\n",
    "    plt.rcParams.update({\n",
    "    'font.size': 12,\n",
    "    'font.family': 'serif',\n",
    "    'axes.titlesize': 16,\n",
    "    'axes.labelsize': 16,\n",
    "    'legend.fontsize': 18,\n",
    "    'xtick.labelsize': 10,\n",
    "    'ytick.labelsize': 10\n",
    "})\n",
    "\n",
    "    \n",
    "    nombres_cortos = [nombres_cortos_map[col] for col in df.columns]\n",
    "\n",
    "    color_dict[\"COVID-19\"] = (1.0, 0.0, 0.0, 1.0)  # RGBA for red\n",
    "\n",
    "    color_index = 0\n",
    "    for col in df.columns:\n",
    "        if col == \"COVID-19\":\n",
    "            continue\n",
    "\n",
    "        while filtered_colors[color_index] == (1.0, 0.0, 0.0, 1.0):\n",
    "            color_index += 1\n",
    "        color_dict[col] = filtered_colors[color_index]\n",
    "        color_index += 1\n",
    "\n",
    "    colors = [color_dict[col] for col in df.columns]\n",
    "    # Use a colormap with enough distinct colors\n",
    "    \n",
    "\n",
    "    # Create the figure\n",
    "    fig, ax = plt.subplots(figsize=(28, 14), constrained_layout=True)\n",
    "\n",
    "    # Plot the stacked area chart\n",
    "    df.plot(kind='area', stacked=True, ax=ax, color=colors, linewidth=0)\n",
    "    \n",
    "    for label, start_str, end_str in olas:\n",
    "        start_pos = pivot_df.index.get_loc(start_str)\n",
    "        end_pos = pivot_df.index.get_loc(end_str)\n",
    "        ax.axvspan(start_pos, end_pos, color='lightgray', alpha=0.4)\n",
    "        x_mid = (start_pos + end_pos) / 2\n",
    "\n",
    "        y_max = ax.get_ylim()[1]\n",
    "        ax.text(\n",
    "            x_mid,                       \n",
    "            y_max * 0.99,               \n",
    "            label,\n",
    "            ha='center',\n",
    "            va='top',\n",
    "            fontsize=10,\n",
    "            backgroundcolor='white'\n",
    "        )\n",
    "    # Title and labels\n",
    "    ax.set_title(f'Total de muertes mensual en periodo 2014-01 a 2024-04 en {department_name} por categoría ÁGORA')\n",
    "    ax.set_xlabel('')\n",
    "    ax.set_ylabel('Total muertes mensual')\n",
    "    ax.set_facecolor('white')\n",
    "    ax.grid(False)\n",
    "    ax.set_xlim(0, len(df.index))\n",
    "\n",
    "\n",
    "    # Improve xticks (every 3rd month)\n",
    "    positions = range(len(df.index))\n",
    "    step = 3\n",
    "    ax.set_xticks(positions[::step])\n",
    "    ax.set_xticklabels(df.index[::step], rotation=30, ha='right')\n",
    "\n",
    "    # Legend below the chart\n",
    "    handles, labels = ax.get_legend_handles_labels()\n",
    "    ax.legend(\n",
    "        handles,\n",
    "        nombres_cortos,\n",
    "        title='',\n",
    "        loc='upper center',\n",
    "        bbox_to_anchor=(0.5, -0.15),\n",
    "        ncol=6,\n",
    "        frameon=True\n",
    "    )\n",
    "\n",
    "    ax.grid(True)\n",
    "\n",
    "    # Export to high-quality formats\n",
    "    fig.savefig(f\"{filename_prefix}_{department_name}.pdf\", format=\"pdf\", bbox_inches=\"tight\")\n",
    "    fig.savefig(f\"{filename_prefix}_{department_name}.png\", format=\"png\", dpi=300, bbox_inches=\"tight\")\n",
    "\n",
    "    plt.show()"
   ]
  },
  {
   "cell_type": "code",
   "execution_count": null,
   "id": "14a7138b",
   "metadata": {
    "tags": []
   },
   "outputs": [],
   "source": [
    "def plot_line_total(df, department_name, olas,filename_prefix=\"grafico_total_conteo_muertes_linea\"):\n",
    "    \"\"\"\n",
    "    Crea plot de linea del departamento con los conteos presentes en el pivot df\n",
    "\n",
    "    Parameters:\n",
    "    - df: DataFrame con el pivot de los totales (rows = YearTime, columns = Categoria agora)\n",
    "    - department_name: Nombre del departamento (str) para el título\n",
    "    - filename_prefix: Nombre del archivo con el plot (str)\n",
    "    \"\"\"\n",
    "\n",
    "    # Configure print-friendly fonts and layout\n",
    "    plt.rcParams.update({\n",
    "    'font.size': 12,\n",
    "    'font.family': 'serif',\n",
    "    'axes.titlesize': 16,\n",
    "    'axes.labelsize': 16,\n",
    "    'legend.fontsize': 18,\n",
    "    'xtick.labelsize': 10,\n",
    "    'ytick.labelsize': 10\n",
    "    })\n",
    "\n",
    "    \n",
    "    nombres_cortos = [nombres_cortos_map[col] for col in df.columns]\n",
    "\n",
    "    color_dict[\"COVID-19\"] = (1.0, 0.0, 0.0, 1.0)  # RGBA for red\n",
    "\n",
    "    color_index = 0\n",
    "    for col in df.columns:\n",
    "        if col == \"COVID-19\":\n",
    "            continue\n",
    "\n",
    "        while filtered_colors[color_index] == (1.0, 0.0, 0.0, 1.0):\n",
    "            color_index += 1\n",
    "        color_dict[col] = filtered_colors[color_index]\n",
    "        color_index += 1\n",
    "\n",
    "    colors = [color_dict[col] for col in df.columns]\n",
    "    # Use a colormap with enough distinct colors\n",
    "    \n",
    "\n",
    "    # Create the figure\n",
    "    fig, ax = plt.subplots(figsize=(28, 14), constrained_layout=True)\n",
    "\n",
    "    # Plot the stacked area chart\n",
    "    df.plot(kind='line', stacked=False, ax=ax, color=colors, linewidth=3)\n",
    "    for label, start_str, end_str in olas:\n",
    "        start_pos = pivot_df.index.get_loc(start_str)\n",
    "        end_pos = pivot_df.index.get_loc(end_str)\n",
    "        ax.axvspan(start_pos, end_pos, color='lightgray', alpha=0.4)\n",
    "        x_mid = (start_pos + end_pos) / 2\n",
    "\n",
    "        y_max = ax.get_ylim()[1]\n",
    "        ax.text(\n",
    "            x_mid,                       \n",
    "            y_max * 0.99,               \n",
    "            label,\n",
    "            ha='center',\n",
    "            va='top',\n",
    "            fontsize=10,\n",
    "            backgroundcolor='white'\n",
    "        )\n",
    "\n",
    "\n",
    "    # Title and labels\n",
    "    ax.set_title(f'Total de muertes mensual en periodo 2014-01 a 2024-04 en {department_name} por categoría ÁGORA')\n",
    "    ax.set_xlabel('')\n",
    "    ax.set_ylabel('Total muertes mensual')\n",
    "    ax.set_facecolor('white')\n",
    "    ax.grid(False)\n",
    "    ax.set_xlim(0, len(df.index))\n",
    "\n",
    "\n",
    "    # Improve xticks (every 3rd month)\n",
    "    positions = range(len(df.index))\n",
    "    step = 3\n",
    "    ax.set_xticks(positions[::step])\n",
    "    ax.set_xticklabels(df.index[::step], rotation=30, ha='right')\n",
    "\n",
    "    # Legend below the chart\n",
    "    handles, labels = ax.get_legend_handles_labels()\n",
    "    ax.legend(\n",
    "        handles,\n",
    "        nombres_cortos,\n",
    "        title='',\n",
    "        loc='upper center',\n",
    "        bbox_to_anchor=(0.5, -0.15),\n",
    "        ncol=6,\n",
    "        frameon=True\n",
    "    )\n",
    "\n",
    "    ax.grid(True)\n",
    "\n",
    "    # Export to high-quality formats\n",
    "    fig.savefig(f\"{filename_prefix}_{department_name}.pdf\", format=\"pdf\", bbox_inches=\"tight\")\n",
    "    fig.savefig(f\"{filename_prefix}_{department_name}.png\", format=\"png\", dpi=300, bbox_inches=\"tight\")\n",
    "\n",
    "    plt.show()"
   ]
  },
  {
   "cell_type": "code",
   "execution_count": null,
   "id": "1e4923db",
   "metadata": {
    "tags": []
   },
   "outputs": [],
   "source": [
    "def plot_stacked_area_shared_x(pivot_df, percent_df, department_name, olas,\n",
    "                               filename_prefix=\"grafico_muertes_combinado\"):\n",
    "    \"\"\"\n",
    "    Creates stacked area plots:\n",
    "    - Top: total counts (pivot_df)\n",
    "    - Bottom: percentages (percent_df)\n",
    "    \n",
    "    Parameters:\n",
    "    - pivot_df: DataFrame of counts (rows = time, columns = category)\n",
    "    - percent_df: DataFrame of percentages with same structure as pivot_df\n",
    "    - department_name: String for the plot title\n",
    "    - olas: List of tuples (label, start_str, end_str) to mark epidemic waves\n",
    "    - nombres_cortos_map: dict mapping column names to short display names\n",
    "    - filtered_colors: list of RGBA tuples\n",
    "    - filename_prefix: file name prefix for saved plots\n",
    "    \"\"\"\n",
    "\n",
    "\n",
    "    plt.rcParams.update({\n",
    "        'font.size': 14,\n",
    "        'font.family': 'sans-serif',\n",
    "        'font.sans-serif': ['Arial', 'DejaVu Sans', 'Liberation Sans', 'sans-serif'],  # fallback chain\n",
    "        'axes.titlesize': 40,\n",
    "        'axes.labelsize': 35,\n",
    "        'legend.fontsize': 35,\n",
    "        'xtick.labelsize': 25,\n",
    "        'ytick.labelsize': 25\n",
    "    })\n",
    "\n",
    "    # Build color mapping\n",
    "    color_dict = {\"COVID-19\": (1.0, 0.0, 0.0, 1.0)}\n",
    "    color_index = 0\n",
    "    for col in pivot_df.columns:\n",
    "        if col == \"COVID-19\":\n",
    "            continue\n",
    "        while filtered_colors[color_index] == (1.0, 0.0, 0.0, 1.0):\n",
    "            color_index += 1\n",
    "        color_dict[col] = filtered_colors[color_index]\n",
    "        color_index += 1\n",
    "\n",
    "    nombres_cortos = [nombres_cortos_map[col] for col in pivot_df.columns]\n",
    "    colors = [color_dict[col] for col in pivot_df.columns]\n",
    "\n",
    "    # Setup\n",
    "    fig = plt.figure(figsize=(46, 26))\n",
    "    gs = GridSpec(3, 1, height_ratios=[1, 1, 0.15])\n",
    "\n",
    "    ax1 = fig.add_subplot(gs[0])\n",
    "    ax2 = fig.add_subplot(gs[1], sharex=ax1)\n",
    "    legend_ax = fig.add_subplot(gs[2])\n",
    "    legend_ax.axis('off')\n",
    "\n",
    "    # Top plot: absolute deaths\n",
    "    pivot_df.plot(kind='area', stacked=True, ax=ax1, color=colors, linewidth=0)\n",
    "    ax1.set_ylabel(\"Muertes mensuales\")\n",
    "    #ax1.set_title(f'Total y porcentaje de muertes mensuales en {department_name} por categoría ÁGORA')\n",
    "    ax1.set_facecolor('white')\n",
    "    ax1.grid(False)\n",
    "    ax1.set_xlim(0, len(pivot_df.index))\n",
    "    ax1.get_legend().remove()\n",
    "\n",
    "    for label, start_str, end_str in olas:\n",
    "        start_pos = pivot_df.index.get_loc(start_str)\n",
    "        end_pos = pivot_df.index.get_loc(end_str)\n",
    "        x_mid = (start_pos + end_pos) / 2\n",
    "        y_max = ax1.get_ylim()[1]\n",
    "        ax1.axvspan(start_pos, end_pos, color='lightgray', alpha=0.4)\n",
    "        ax1.text(\n",
    "            x_mid, y_max * 0.99, label,\n",
    "            ha='center', va='top', fontsize=24,\n",
    "            color='white', fontweight='bold',\n",
    "            bbox=dict(facecolor='#126180', edgecolor='none', boxstyle='round,pad=0.3')\n",
    "        )\n",
    "\n",
    "    # Bottom plot: percentages\n",
    "    percent_df.plot(kind='area', stacked=True, ax=ax2, color=colors, linewidth=0)\n",
    "    ax2.set_ylabel(\"Porcentaje mensual\")\n",
    "    ax2.set_xlabel('')\n",
    "    ax2.set_facecolor('white')\n",
    "    ax2.grid(False)\n",
    "    ax2.get_legend().remove()\n",
    "\n",
    "    for label, start_str, end_str in olas:\n",
    "        start_pos = percent_df.index.get_loc(start_str)\n",
    "        end_pos = percent_df.index.get_loc(end_str)\n",
    "        x_mid = (start_pos + end_pos) / 2\n",
    "        ax2.axvspan(start_pos, end_pos, color='lightgray', alpha=0.4)\n",
    "\n",
    "    # X-axis formatting\n",
    "    step = 4\n",
    "    positions = list(range(len(percent_df.index)))\n",
    "    # Ensure the last index is included\n",
    "    if positions[-1] not in positions[::step]:\n",
    "        xtick_positions = list(positions[::step]) + [positions[-1]]\n",
    "    else:\n",
    "        xtick_positions = positions[::step]\n",
    "\n",
    "    # Remove duplicates and sort\n",
    "    xtick_positions = sorted(set(xtick_positions))\n",
    "\n",
    "    ax2.set_xticks(xtick_positions)\n",
    "    ax2.set_xticklabels([percent_df.index[i] for i in xtick_positions], rotation=35, ha='right')\n",
    "    ax2.tick_params(axis='x', direction='out', labelbottom=True)\n",
    "\n",
    "    for label in ax2.get_xticklabels():\n",
    "        label.set_visible(True)\n",
    "\n",
    "    # Legend in separate axis\n",
    "    handles, labels = ax1.get_legend_handles_labels()\n",
    "    legend_f = legend_ax.legend(\n",
    "        handles,\n",
    "        [nombres_cortos_map[col] for col in percent_df.columns],\n",
    "        loc='upper center',\n",
    "        ncol=4,\n",
    "        frameon=True,\n",
    "        prop={'family': 'DejaVu Sans'}\n",
    "    )\n",
    "    legend_f.get_frame().set_facecolor('white')\n",
    "    legend_f.get_frame().set_edgecolor('white')\n",
    "\n",
    "    # Save\n",
    "    fig.savefig(f\"{filename_prefix}_{department_name}.pdf\", format=\"pdf\")\n",
    "    fig.savefig(f\"{filename_prefix}_{department_name}.png\", format=\"png\", dpi=300,bbox_inches=\"tight\", pad_inches=0)\n",
    "\n",
    "    plt.show()"
   ]
  },
  {
   "cell_type": "code",
   "execution_count": null,
   "id": "3ea04c31",
   "metadata": {
    "tags": []
   },
   "outputs": [],
   "source": [
    "dane_mapping = {\n",
    "    '05': 'Antioquia',\n",
    "    '08': 'Atlántico',\n",
    "    '11': 'Bogotá D.C.',\n",
    "    '13': 'Bolívar',\n",
    "    '15': 'Boyacá',\n",
    "    '17': 'Caldas',\n",
    "    '18': 'Caquetá',\n",
    "    '19': 'Cauca',\n",
    "    '20': 'Cesar',\n",
    "    '23': 'Córdoba',\n",
    "    '25': 'Cundinamarca',\n",
    "    '27': 'Chocó',\n",
    "    '41': 'Huila',\n",
    "    '44': 'La Guajira',\n",
    "    '47': 'Magdalena',\n",
    "    '50': 'Meta',\n",
    "    '52': 'Nariño',\n",
    "    '54': 'Norte de Santander',\n",
    "    '63': 'Quindío',\n",
    "    '66': 'Risaralda',\n",
    "    '68': 'Santander',\n",
    "    '70': 'Sucre',\n",
    "    '73': 'Tolima',\n",
    "    '76': 'Valle del Cauca',\n",
    "    '81': 'Arauca',\n",
    "    '85': 'Casanare',\n",
    "    '86': 'Putumayo',\n",
    "    '88': 'San Andrés, Providencia y Santa Catalina',\n",
    "    '91': 'Amazonas',\n",
    "    '94': 'Guainía',\n",
    "    '95': 'Guaviare',\n",
    "    '97': 'Vaupés',\n",
    "    '99': 'Vichada'\n",
    "}"
   ]
  },
  {
   "cell_type": "code",
   "execution_count": null,
   "id": "14ba7ccc",
   "metadata": {
    "tags": []
   },
   "outputs": [],
   "source": [
    "percent_df.columns"
   ]
  },
  {
   "cell_type": "code",
   "execution_count": null,
   "id": "70eb21ea",
   "metadata": {
    "tags": []
   },
   "outputs": [],
   "source": [
    "columnas_originales"
   ]
  },
  {
   "cell_type": "code",
   "execution_count": null,
   "id": "cc4b8f9d",
   "metadata": {
    "tags": []
   },
   "outputs": [],
   "source": [
    "grouped_depto_df['cod_depto'].unique()"
   ]
  },
  {
   "cell_type": "code",
   "execution_count": null,
   "id": "f74180da",
   "metadata": {
    "tags": []
   },
   "outputs": [],
   "source": [
    "olas"
   ]
  },
  {
   "cell_type": "code",
   "execution_count": null,
   "id": "98393be3",
   "metadata": {
    "tags": []
   },
   "outputs": [],
   "source": [
    "pivots_depto=dict()\n",
    "pivots_pct_depto=dict()"
   ]
  },
  {
   "cell_type": "code",
   "execution_count": null,
   "id": "daee748e",
   "metadata": {
    "tags": []
   },
   "outputs": [],
   "source": [
    "for cod_depto in grouped_depto_df['cod_depto'].unique():\n",
    "    filtered_df= grouped_depto_df[grouped_depto_df['cod_depto']==cod_depto]\n",
    "    pivot_df_depto = filtered_df.pivot_table(index='YearMonth',columns='grupos_agora',values='count',aggfunc='sum',fill_value=0)\n",
    "    for colname in columnas_originales:\n",
    "        if colname not in pivot_df_depto.columns:\n",
    "            pivot_df_depto[colname]=0\n",
    "    pivot_df_depto.loc[:,\"No/Mal definido\"] = pivot_df_depto['1 - NO DEFINIDO']+pivot_df_depto['Signos y Sintomas mal definidos']\n",
    "    del pivot_df_depto['1 - NO DEFINIDO']\n",
    "    del pivot_df_depto['Signos y Sintomas mal definidos']\n",
    "    pivot_df_depto.loc[:,\"Otras\"] = pivot_df_depto['Alteraciones Visuales o Auditivas']+pivot_df_depto['Salud Oral']\n",
    "    del pivot_df_depto['Alteraciones Visuales o Auditivas']\n",
    "    del pivot_df_depto['Salud Oral']\n",
    "    percent_df_depto = pivot_df_depto.div(pivot_df_depto.sum(axis=1), axis=0) * 100\n",
    "    percent_df_depto = percent_df_depto.fillna(0).round(4)\n",
    "    percent_df_depto[percent_df_depto < 1e-6] = 0\n",
    "   \n",
    "    \n",
    "    if cod_depto in dane_mapping.keys():\n",
    "        percent_df_depto = percent_df_depto[percent_df.columns]\n",
    "        pivot_df_depto=pivot_df_depto[percent_df.columns]\n",
    "        pivots_depto[cod_depto]=pivot_df_depto\n",
    "        pivots_pct_depto[cod_depto]=percent_df_depto\n",
    "        plot_stacked_area_shared_x(pivot_df_depto,percent_df_depto,dane_mapping[cod_depto],olas)\n",
    "        plot_stacked_area_percent(percent_df_depto,dane_mapping[cod_depto])\n",
    "        plot_stacked_area_total(pivot_df_depto,dane_mapping[cod_depto],olas)\n",
    "        plot_line_total(pivot_df_depto,dane_mapping[cod_depto],olas)\n",
    "        \n",
    "        \n",
    "    "
   ]
  },
  {
   "cell_type": "code",
   "execution_count": null,
   "id": "9376b51b",
   "metadata": {
    "tags": []
   },
   "outputs": [],
   "source": [
    "pivot_df.to_csv('pivot_todos.csv')"
   ]
  },
  {
   "cell_type": "code",
   "execution_count": null,
   "id": "225e65b2",
   "metadata": {
    "tags": []
   },
   "outputs": [],
   "source": [
    "for k in pivots_depto.keys():\n",
    "    pivots_depto[k].to_csv(f'{dane_mapping[k]}_pivot.csv')"
   ]
  },
  {
   "cell_type": "markdown",
   "id": "37c7bba8",
   "metadata": {},
   "source": [
    "## Antioquia\n",
    "\n"
   ]
  },
  {
   "cell_type": "code",
   "execution_count": null,
   "id": "b968ae94",
   "metadata": {
    "tags": []
   },
   "outputs": [],
   "source": [
    "antioquia_pivot_df = pivots_depto['05']\n",
    "antioquia_pivot_pct_df = pivots_pct_depto['05']"
   ]
  },
  {
   "cell_type": "code",
   "execution_count": null,
   "id": "4217acc0",
   "metadata": {
    "tags": []
   },
   "outputs": [],
   "source": [
    "antioquia_pivot_df.sum()"
   ]
  },
  {
   "cell_type": "code",
   "execution_count": null,
   "id": "339c5ddd",
   "metadata": {
    "tags": []
   },
   "outputs": [],
   "source": [
    "antioquia_pivot_df"
   ]
  },
  {
   "cell_type": "code",
   "execution_count": null,
   "id": "ddddd0ce",
   "metadata": {
    "tags": []
   },
   "outputs": [],
   "source": [
    "trend_results_ant = {}\n",
    "x= pd.to_datetime(antioquia_pivot_df.index, format='%Y-%m')\n",
    "x = (x - x[0]).days\n",
    "\n",
    "for col in antioquia_pivot_df.columns:\n",
    "    y = antioquia_pivot_df[col].values\n",
    "    mask = ~pd.isna(y)\n",
    "    if mask.sum() > 1:  # Need at least 2 points\n",
    "        slope, intercept, r_value, p_value, std_err = linregress(x[mask], y[mask])\n",
    "        trend_results_ant[col] = {\n",
    "            'slope': slope,\n",
    "            'p_value': p_value,\n",
    "            'increasing': slope > 0 and p_value < 0.05\n",
    "        }\n",
    "\n",
    "trend_ant_df = pd.DataFrame(trend_results_ant).T"
   ]
  },
  {
   "cell_type": "code",
   "execution_count": null,
   "id": "487a507f",
   "metadata": {
    "tags": []
   },
   "outputs": [],
   "source": [
    "trend_ant_df"
   ]
  },
  {
   "cell_type": "code",
   "execution_count": null,
   "id": "35eb3899",
   "metadata": {
    "tags": []
   },
   "outputs": [],
   "source": [
    "trend_results_pct_ant = {}\n",
    "x= pd.to_datetime(antioquia_pivot_pct_df.index, format='%Y-%m')\n",
    "x = (x - x[0]).days\n",
    "\n",
    "for col in antioquia_pivot_pct_df.columns:\n",
    "    y = antioquia_pivot_pct_df[col].values\n",
    "    mask = ~pd.isna(y)\n",
    "    if mask.sum() > 1:  # Need at least 2 points\n",
    "        slope, intercept, r_value, p_value, std_err = linregress(x[mask], y[mask])\n",
    "        trend_results_pct_ant[col] = {\n",
    "            'slope': slope,\n",
    "            'p_value': p_value,\n",
    "            'increasing': slope > 0 and p_value < 0.05\n",
    "        }\n",
    "\n",
    "trend_ant_pct_df = pd.DataFrame(trend_results_pct_ant).T\n"
   ]
  },
  {
   "cell_type": "code",
   "execution_count": null,
   "id": "2d55513f",
   "metadata": {
    "tags": []
   },
   "outputs": [],
   "source": [
    "trend_ant_pct_df"
   ]
  },
  {
   "cell_type": "code",
   "execution_count": null,
   "id": "66fe86f8",
   "metadata": {
    "tags": []
   },
   "outputs": [],
   "source": [
    "summary_pivot_ant = summarize_df(antioquia_pivot_df, 'pivot')\n",
    "summary_percent_ant = summarize_df(antioquia_pivot_pct_df, 'percent')\n",
    "# Optional: reorder columns explicitly (if needed)\n",
    "sorted_columns = [\n",
    "    'pivot_max_value', 'pivot_max_index',\n",
    "    \n",
    "    'percent_max_value',     'pivot_min_value', 'pivot_min_index',\n",
    "    \n",
    "    'percent_min_value', 'percent_min_index'\n",
    "]\n",
    "\n",
    "\n",
    "summary_ant_df = summary_pivot_ant.join(summary_percent_ant).sort_values(by='pivot_max_value', ascending=False)\n",
    "summary_ant_df[[col for col in sorted_columns if col in summary_ant_df.columns]]"
   ]
  },
  {
   "cell_type": "code",
   "execution_count": null,
   "id": "87708c32",
   "metadata": {
    "tags": []
   },
   "outputs": [],
   "source": [
    "percent_df.loc['2023-01':'2023-12','Trastornos Neurológicos o mentales'].mean(), antioquia_pivot_pct_df.loc['2023-01':'2023-12','Trastornos Neurológicos o mentales'].mean()"
   ]
  },
  {
   "cell_type": "code",
   "execution_count": null,
   "id": "3ccf8821",
   "metadata": {
    "tags": []
   },
   "outputs": [],
   "source": [
    "antioquia_pivot_df.loc['2023-01':'2023-12','Condiciones asociadas a lesiones o agresión'].sum()"
   ]
  },
  {
   "cell_type": "code",
   "execution_count": null,
   "id": "e54e087b",
   "metadata": {
    "tags": []
   },
   "outputs": [],
   "source": [
    "antioquia_pivot_df.loc['2018-01':'2023-12','Condiciones asociadas a lesiones o agresión'].plot()"
   ]
  },
  {
   "cell_type": "code",
   "execution_count": null,
   "id": "d8922543",
   "metadata": {
    "tags": []
   },
   "outputs": [],
   "source": [
    "antioquia_pivot_pct_df.loc['2018-01':'2023-12','Condiciones asociadas a lesiones o agresión'].plot()"
   ]
  },
  {
   "cell_type": "code",
   "execution_count": null,
   "id": "18a25e13",
   "metadata": {
    "tags": []
   },
   "outputs": [],
   "source": [
    "pivod_sum_ant=antioquia_pivot_df.sum(axis=1).sort_values(ascending=False).to_frame().join(antioquia_pivot_pct_df[['Enfermedades Cardiovasculares y Metabólicas','COVID-19']]).reset_index()"
   ]
  },
  {
   "cell_type": "code",
   "execution_count": null,
   "id": "fe68847b",
   "metadata": {
    "tags": []
   },
   "outputs": [],
   "source": [
    "pivod_sum_ant['ola']=pivod_sum_ant['YearMonth'].apply(lambda x:in_ola(olas,x))"
   ]
  },
  {
   "cell_type": "code",
   "execution_count": null,
   "id": "becd619d",
   "metadata": {
    "tags": []
   },
   "outputs": [],
   "source": [
    "pivod_sum_ant"
   ]
  },
  {
   "cell_type": "code",
   "execution_count": null,
   "id": "16d2c4b6",
   "metadata": {
    "tags": []
   },
   "outputs": [],
   "source": [
    "for c in antioquia_pivot_df.columns:\n",
    "    d=antioquia_pivot_df.nlargest(5,c)[c].to_frame().reset_index()\n",
    "    d['ola']=d['YearMonth'].apply(lambda x:in_ola(olas,x))\n",
    "    print(c)\n",
    "    print(d)"
   ]
  },
  {
   "cell_type": "code",
   "execution_count": null,
   "id": "f6a88dca",
   "metadata": {
    "tags": []
   },
   "outputs": [],
   "source": [
    "for c in antioquia_pivot_df.columns:\n",
    "    d=antioquia_pivot_df.nsmallest(5,c)[c].to_frame().reset_index()\n",
    "    d['ola']=d['YearMonth'].apply(lambda x:in_ola(olas,x))\n",
    "    print(c)\n",
    "    print(d)"
   ]
  },
  {
   "cell_type": "markdown",
   "id": "6762cafb",
   "metadata": {},
   "source": [
    "## Atlántico\n",
    "\n"
   ]
  },
  {
   "cell_type": "code",
   "execution_count": null,
   "id": "413396c3",
   "metadata": {
    "tags": []
   },
   "outputs": [],
   "source": [
    "atlantico_pivot_df = pivots_depto['08']\n",
    "atlantico_pivot_pct_df = pivots_pct_depto['08']"
   ]
  },
  {
   "cell_type": "code",
   "execution_count": null,
   "id": "4928a99e",
   "metadata": {
    "tags": []
   },
   "outputs": [],
   "source": [
    "atlantico_pivot_df.sum().sort_values(ascending=False)"
   ]
  },
  {
   "cell_type": "code",
   "execution_count": null,
   "id": "e3676c3e",
   "metadata": {
    "tags": []
   },
   "outputs": [],
   "source": [
    "atlantico_pivot_df"
   ]
  },
  {
   "cell_type": "code",
   "execution_count": null,
   "id": "9254ea86",
   "metadata": {
    "tags": []
   },
   "outputs": [],
   "source": [
    "trend_results_atl = {}\n",
    "x= pd.to_datetime(atlantico_pivot_df.index, format='%Y-%m')\n",
    "x = (x - x[0]).days\n",
    "\n",
    "for col in atlantico_pivot_df.columns:\n",
    "    y = atlantico_pivot_df[col].values\n",
    "    mask = ~pd.isna(y)\n",
    "    if mask.sum() > 1:  # Need at least 2 points\n",
    "        slope, intercept, r_value, p_value, std_err = linregress(x[mask], y[mask])\n",
    "        trend_results_ant[col] = {\n",
    "            'slope': slope,\n",
    "            'p_value': p_value,\n",
    "            'increasing': slope > 0 and p_value < 0.05\n",
    "        }\n",
    "\n",
    "trend_atl_df = pd.DataFrame(trend_results_ant).T"
   ]
  },
  {
   "cell_type": "code",
   "execution_count": null,
   "id": "a8e0c82b",
   "metadata": {
    "tags": []
   },
   "outputs": [],
   "source": [
    "trend_atl_df"
   ]
  },
  {
   "cell_type": "code",
   "execution_count": null,
   "id": "13421a76",
   "metadata": {
    "tags": []
   },
   "outputs": [],
   "source": [
    "summary_pivot_atl = summarize_df(atlantico_pivot_df, 'pivot')\n",
    "summary_percent_atl = summarize_df(atlantico_pivot_pct_df, 'percent')\n",
    "# Optional: reorder columns explicitly (if needed)\n",
    "sorted_columns = [\n",
    "    'pivot_max_value', 'pivot_max_index',\n",
    "    \n",
    "    'percent_max_value',     'pivot_min_value', 'pivot_min_index',\n",
    "    \n",
    "    'percent_min_value', 'percent_min_index'\n",
    "]\n",
    "\n",
    "\n",
    "summary_atl_df = summary_pivot_atl.join(summary_percent_atl).sort_values(by='pivot_max_value', ascending=False)\n",
    "summary_atl_df[[col for col in sorted_columns if col in summary_ant_df.columns]]"
   ]
  },
  {
   "cell_type": "code",
   "execution_count": null,
   "id": "81ea36a6",
   "metadata": {
    "tags": []
   },
   "outputs": [],
   "source": [
    "percent_df.loc['2023-01':'2023-12','Trastornos Neurológicos o mentales'].mean(), atlantico_pivot_pct_df.loc['2023-01':'2023-12','Trastornos Neurológicos o mentales'].mean()"
   ]
  },
  {
   "cell_type": "code",
   "execution_count": null,
   "id": "21e1b95f",
   "metadata": {
    "tags": []
   },
   "outputs": [],
   "source": [
    "atlantico_pivot_df.loc['2023-01':'2023-12','Condiciones asociadas a lesiones o agresión'].sum()"
   ]
  },
  {
   "cell_type": "code",
   "execution_count": null,
   "id": "8251f12b",
   "metadata": {
    "tags": []
   },
   "outputs": [],
   "source": [
    "def plot_dual_axis(df, col1, col2):\n",
    "    fig, ax1 = plt.subplots()\n",
    "\n",
    "    # Plot on primary y-axis\n",
    "    ax1.plot(df.index, df[col1], color='blue', label=col1)\n",
    "    ax1.set_ylabel(col1, color='blue')\n",
    "    ax1.tick_params(axis='y', labelcolor='blue')\n",
    "\n",
    "    # Create a second y-axis that shares the same x-axis\n",
    "    ax2 = ax1.twinx()\n",
    "    ax2.plot(df.index, df[col2], color='red', label=col2)\n",
    "    ax2.set_ylabel(col2, color='red')\n",
    "    ax2.tick_params(axis='y', labelcolor='red')\n",
    "\n",
    "    plt.title(f'{col1} vs {col2}')\n",
    "    plt.show()"
   ]
  },
  {
   "cell_type": "code",
   "execution_count": null,
   "id": "453d1252",
   "metadata": {
    "tags": []
   },
   "outputs": [],
   "source": [
    "plot_dual_axis(atlantico_pivot_df,\n",
    "               'Enfermedades Respiratorias Crónicas o de la Piel o estructuras anexas',\n",
    "               'COVID-19')"
   ]
  },
  {
   "cell_type": "code",
   "execution_count": null,
   "id": "4bf65188",
   "metadata": {
    "tags": []
   },
   "outputs": [],
   "source": [
    "plot_dual_axis(atlantico_pivot_df,\n",
    "               'Condiciones asociadas a lesiones o agresión',\n",
    "               'COVID-19')"
   ]
  },
  {
   "cell_type": "code",
   "execution_count": null,
   "id": "72f227fd",
   "metadata": {
    "tags": []
   },
   "outputs": [],
   "source": [
    "plot_dual_axis(atlantico_pivot_pct_df,\n",
    "               'Condiciones asociadas a lesiones o agresión',\n",
    "               'COVID-19')"
   ]
  },
  {
   "cell_type": "code",
   "execution_count": null,
   "id": "0a059225",
   "metadata": {
    "tags": []
   },
   "outputs": [],
   "source": [
    "atlantico_pivot_df.loc[:,'Condiciones asociadas a lesiones o agresión'].plot(kind='box')"
   ]
  },
  {
   "cell_type": "code",
   "execution_count": null,
   "id": "e1399f6f",
   "metadata": {
    "tags": []
   },
   "outputs": [],
   "source": [
    "def coefficient_of_variation(df):\n",
    " \n",
    "    numeric_df = df.select_dtypes(include='number')\n",
    "    cv = numeric_df.std(ddof=0) / numeric_df.mean() * 100\n",
    "    return cv.round(2)"
   ]
  },
  {
   "cell_type": "code",
   "execution_count": null,
   "id": "b9b395c1",
   "metadata": {
    "tags": []
   },
   "outputs": [],
   "source": [
    "coefficient_of_variation(atlantico_pivot_df.loc['2020-01':'2022-12',:]).sort_values()"
   ]
  },
  {
   "cell_type": "code",
   "execution_count": null,
   "id": "068ec363",
   "metadata": {
    "tags": []
   },
   "outputs": [],
   "source": [
    "coefficient_of_variation(pivot_df.loc['2020-01':'2022-12',:]).sort_values()"
   ]
  },
  {
   "cell_type": "code",
   "execution_count": null,
   "id": "7e38bffd",
   "metadata": {
    "tags": []
   },
   "outputs": [],
   "source": [
    "pivod_sum_atl=atlantico_pivot_df.sum(axis=1).sort_values(ascending=False).to_frame().join(atlantico_pivot_pct_df[['Enfermedades Respiratorias Crónicas o de la Piel o estructuras anexas','Enfermedades Cardiovasculares y Metabólicas','COVID-19','No/Mal definido']]).reset_index()"
   ]
  },
  {
   "cell_type": "code",
   "execution_count": null,
   "id": "4b11fffb",
   "metadata": {
    "tags": []
   },
   "outputs": [],
   "source": [
    "pivod_sum_atl['ola']=pivod_sum_atl['YearMonth'].apply(lambda x:in_ola(olas,x))"
   ]
  },
  {
   "cell_type": "code",
   "execution_count": null,
   "id": "b58725f9",
   "metadata": {
    "tags": []
   },
   "outputs": [],
   "source": [
    "pivod_sum_atl.sort_values(by='YearMonth')"
   ]
  },
  {
   "cell_type": "code",
   "execution_count": null,
   "id": "6570c61c",
   "metadata": {
    "tags": []
   },
   "outputs": [],
   "source": [
    "for c in atlantico_pivot_df.columns:\n",
    "    d=atlantico_pivot_df.nlargest(10,c)[c].to_frame().reset_index()\n",
    "    d['ola']=d['YearMonth'].apply(lambda x:in_ola(olas,x))\n",
    "    print(c)\n",
    "    print(d)"
   ]
  },
  {
   "cell_type": "code",
   "execution_count": null,
   "id": "e373fc8c",
   "metadata": {
    "tags": []
   },
   "outputs": [],
   "source": [
    "for c in atlantico_pivot_df.columns:\n",
    "    d=atlantico_pivot_df.nsmallest(5,c)[c].to_frame().reset_index()\n",
    "    d['ola']=d['YearMonth'].apply(lambda x:in_ola(olas,x))\n",
    "    print(c)\n",
    "    print(d)"
   ]
  },
  {
   "cell_type": "code",
   "execution_count": null,
   "id": "122c545e",
   "metadata": {
    "tags": []
   },
   "outputs": [],
   "source": [
    "atlantico_pivot_df.reset_index().groupby(atlantico_pivot_df.reset_index()['YearMonth'].str[:4])['Condiciones asociadas a lesiones o agresión'].mean()"
   ]
  },
  {
   "cell_type": "code",
   "execution_count": null,
   "id": "cac0d8bb",
   "metadata": {
    "tags": []
   },
   "outputs": [],
   "source": [
    "atlantico_pivot_df.reset_index().groupby(atlantico_pivot_df.reset_index()['YearMonth'].str[:4])['Condiciones asociadas a lesiones o agresión'].mean().pct_change()"
   ]
  },
  {
   "cell_type": "code",
   "execution_count": null,
   "id": "654b9a59",
   "metadata": {
    "tags": []
   },
   "outputs": [],
   "source": [
    "pivot_df.reset_index().groupby(pivot_df.reset_index()['YearMonth'].str[:4])['Condiciones asociadas a lesiones o agresión'].mean().pct_change()"
   ]
  },
  {
   "cell_type": "code",
   "execution_count": null,
   "id": "84e44b7e",
   "metadata": {
    "tags": []
   },
   "outputs": [],
   "source": [
    "for c in ['Condiciones asociadas a lesiones o agresión']:\n",
    "    m=atlantico_pivot_df.loc['2020-01':,:].nlargest(5,c)[c].to_frame().reset_index()\n",
    "    d=atlantico_pivot_df.loc['2020-01':,:].nsmallest(5,c)[c].to_frame().reset_index()\n",
    "    d['ola']=d['YearMonth'].apply(lambda x:in_ola(olas,x))\n",
    "    m['ola']=m['YearMonth'].apply(lambda x:in_ola(olas,x))\n",
    "    print(c)\n",
    "    print(d)\n",
    "    print(m)"
   ]
  },
  {
   "cell_type": "markdown",
   "id": "d00efac9",
   "metadata": {},
   "source": [
    "## Bogotá\n",
    "\n"
   ]
  },
  {
   "cell_type": "code",
   "execution_count": null,
   "id": "6f60e30a",
   "metadata": {
    "tags": []
   },
   "outputs": [],
   "source": [
    "bogota_pivot_df = pivots_depto['11']\n",
    "bogota_pivot_pct_df = pivots_pct_depto['11']"
   ]
  },
  {
   "cell_type": "code",
   "execution_count": null,
   "id": "ab3780ef",
   "metadata": {
    "tags": []
   },
   "outputs": [],
   "source": [
    "bogota_pivot_df.sum().sort_values(ascending=False)"
   ]
  },
  {
   "cell_type": "code",
   "execution_count": null,
   "id": "a0c903d7",
   "metadata": {
    "tags": []
   },
   "outputs": [],
   "source": [
    "bogota_pivot_df"
   ]
  },
  {
   "cell_type": "code",
   "execution_count": null,
   "id": "aac8467a",
   "metadata": {
    "tags": []
   },
   "outputs": [],
   "source": [
    "trend_results_bog = {}\n",
    "x= pd.to_datetime(bogota_pivot_df.index, format='%Y-%m')\n",
    "x = (x - x[0]).days\n",
    "\n",
    "for col in bogota_pivot_df.columns:\n",
    "    y = bogota_pivot_df[col].values\n",
    "    mask = ~pd.isna(y)\n",
    "    if mask.sum() > 1:  # Need at least 2 points\n",
    "        slope, intercept, r_value, p_value, std_err = linregress(x[mask], y[mask])\n",
    "        trend_results_bog[col] = {\n",
    "            'slope': slope,\n",
    "            'p_value': p_value,\n",
    "            'increasing': slope > 0 and p_value < 0.05\n",
    "        }\n",
    "\n",
    "trend_bog_df = pd.DataFrame(trend_results_bog).T"
   ]
  },
  {
   "cell_type": "code",
   "execution_count": null,
   "id": "d782677b",
   "metadata": {
    "tags": []
   },
   "outputs": [],
   "source": [
    "trend_bog_df"
   ]
  },
  {
   "cell_type": "code",
   "execution_count": null,
   "id": "1a16398b",
   "metadata": {
    "tags": []
   },
   "outputs": [],
   "source": [
    "summary_pivot_bog = summarize_df(bogota_pivot_df, 'pivot')\n",
    "summary_percent_bog = summarize_df(bogota_pivot_pct_df, 'percent')\n",
    "# Optional: reorder columns explicitly (if needed)\n",
    "sorted_columns = [\n",
    "    'pivot_max_value', 'pivot_max_index',\n",
    "    \n",
    "    'percent_max_value',  'percent_max_index',    'pivot_min_value', 'pivot_min_index',\n",
    "    \n",
    "    'percent_min_value', 'percent_min_index'\n",
    "]\n",
    "\n",
    "\n",
    "summary_bog_df = summary_pivot_bog.join(summary_percent_bog).sort_values(by='pivot_max_value', ascending=False)\n",
    "summary_bog_df[[col for col in sorted_columns if col in summary_bog_df.columns]]"
   ]
  },
  {
   "cell_type": "code",
   "execution_count": null,
   "id": "f8be1852",
   "metadata": {
    "tags": []
   },
   "outputs": [],
   "source": [
    "percent_df.loc['2023-01':'2023-12','Trastornos Neurológicos o mentales'].mean(), bogota_pivot_pct_df.loc['2023-01':'2023-12','Trastornos Neurológicos o mentales'].mean()"
   ]
  },
  {
   "cell_type": "code",
   "execution_count": null,
   "id": "e1e91d1e",
   "metadata": {
    "tags": []
   },
   "outputs": [],
   "source": [
    "bogota_pivot_df.loc['2023-01':'2023-12','Condiciones asociadas a lesiones o agresión'].sum()"
   ]
  },
  {
   "cell_type": "code",
   "execution_count": null,
   "id": "c50d7755",
   "metadata": {
    "tags": []
   },
   "outputs": [],
   "source": [
    "plot_dual_axis(bogota_pivot_df,\n",
    "               'Enfermedades Respiratorias Crónicas o de la Piel o estructuras anexas',\n",
    "               'COVID-19')"
   ]
  },
  {
   "cell_type": "code",
   "execution_count": null,
   "id": "b920de6c",
   "metadata": {
    "tags": []
   },
   "outputs": [],
   "source": [
    "plot_dual_axis(bogota_pivot_pct_df,\n",
    "               'Enfermedades Respiratorias Crónicas o de la Piel o estructuras anexas',\n",
    "               'COVID-19')"
   ]
  },
  {
   "cell_type": "code",
   "execution_count": null,
   "id": "99625cbf",
   "metadata": {
    "tags": []
   },
   "outputs": [],
   "source": [
    "plot_dual_axis(bogota_pivot_df,\n",
    "               'Enfermedades Respiratorias Crónicas o de la Piel o estructuras anexas',\n",
    "               'COVID-19')"
   ]
  },
  {
   "cell_type": "code",
   "execution_count": null,
   "id": "0ffeecd4",
   "metadata": {
    "tags": []
   },
   "outputs": [],
   "source": [
    "plot_dual_axis(bogota_pivot_df,\n",
    "               'Condiciones asociadas a lesiones o agresión',\n",
    "               'COVID-19')"
   ]
  },
  {
   "cell_type": "code",
   "execution_count": null,
   "id": "27c88fa0",
   "metadata": {
    "tags": []
   },
   "outputs": [],
   "source": [
    "plot_dual_axis(bogota_pivot_df.loc['2020-01':'2023-06',:],\n",
    "               'No/Mal definido',\n",
    "               'COVID-19')"
   ]
  },
  {
   "cell_type": "code",
   "execution_count": null,
   "id": "6b4f4a02",
   "metadata": {
    "tags": []
   },
   "outputs": [],
   "source": [
    "bogota_pivot_df.loc['2020-01':'2020-12','Condiciones asociadas a lesiones o agresión'].plot(kind='line')"
   ]
  },
  {
   "cell_type": "code",
   "execution_count": null,
   "id": "4dc3135a",
   "metadata": {
    "tags": []
   },
   "outputs": [],
   "source": [
    "bogota_pivot_df.loc['2020-01':'2020-12','Condiciones asociadas a lesiones o agresión'].pct_change()"
   ]
  },
  {
   "cell_type": "code",
   "execution_count": null,
   "id": "86e1249a",
   "metadata": {
    "tags": []
   },
   "outputs": [],
   "source": [
    "pivot_df.loc['2019-12':'2020-12','Condiciones asociadas a lesiones o agresión'].pct_change()"
   ]
  },
  {
   "cell_type": "code",
   "execution_count": null,
   "id": "237dd311",
   "metadata": {
    "tags": []
   },
   "outputs": [],
   "source": [
    "pivot_df.loc['2019-12':'2020-12','Enfermedades Respiratorias Crónicas o de la Piel o estructuras anexas'].pct_change()"
   ]
  },
  {
   "cell_type": "code",
   "execution_count": null,
   "id": "219e488a",
   "metadata": {
    "tags": []
   },
   "outputs": [],
   "source": [
    "bogota_pivot_df.loc[:,'Condiciones asociadas a lesiones o agresión'].plot(kind='box')"
   ]
  },
  {
   "cell_type": "code",
   "execution_count": null,
   "id": "bd17982f",
   "metadata": {
    "tags": []
   },
   "outputs": [],
   "source": [
    "coefficient_of_variation(bogota_pivot_df.loc['2020-01':'2022-12',:]).sort_values()"
   ]
  },
  {
   "cell_type": "code",
   "execution_count": null,
   "id": "c4c7cba5",
   "metadata": {
    "tags": []
   },
   "outputs": [],
   "source": [
    "coefficient_of_variation(pivot_df.loc['2020-01':'2022-12',:]).sort_values()"
   ]
  },
  {
   "cell_type": "code",
   "execution_count": null,
   "id": "d9b93869",
   "metadata": {
    "tags": []
   },
   "outputs": [],
   "source": [
    "pivod_sum_bog=bogota_pivot_df.sum(axis=1).sort_values(ascending=False).to_frame().join(bogota_pivot_pct_df[['Enfermedades Respiratorias Crónicas o de la Piel o estructuras anexas','Enfermedades Cardiovasculares y Metabólicas','COVID-19','No/Mal definido']]).reset_index()"
   ]
  },
  {
   "cell_type": "code",
   "execution_count": null,
   "id": "44fb0ccf",
   "metadata": {
    "tags": []
   },
   "outputs": [],
   "source": [
    "pivod_sum_bog['ola']=pivod_sum_bog['YearMonth'].apply(lambda x:in_ola(olas,x))"
   ]
  },
  {
   "cell_type": "code",
   "execution_count": null,
   "id": "2e5aac8d",
   "metadata": {
    "tags": []
   },
   "outputs": [],
   "source": [
    "pivod_sum_bog.sort_values(by='YearMonth',ascending=False)"
   ]
  },
  {
   "cell_type": "code",
   "execution_count": null,
   "id": "c60fb86f",
   "metadata": {
    "tags": []
   },
   "outputs": [],
   "source": [
    "bogota_pivot_df.loc['2021-12':'2022-03','COVID-19'],\\\n",
    "pivot_df.loc['2021-12':'2022-03','COVID-19'],\\\n",
    "bogota_pivot_pct_df.loc['2021-12':'2022-03','COVID-19'],\\\n",
    "percent_df.loc['2021-12':'2022-03','COVID-19']"
   ]
  },
  {
   "cell_type": "code",
   "execution_count": null,
   "id": "6e497f66",
   "metadata": {
    "tags": []
   },
   "outputs": [],
   "source": [
    "percent_df.loc['2020-01':'2022-03','No/Mal definido']"
   ]
  },
  {
   "cell_type": "code",
   "execution_count": null,
   "id": "1bada116",
   "metadata": {
    "tags": []
   },
   "outputs": [],
   "source": [
    "for c in bogota_pivot_df.columns:\n",
    "    d=bogota_pivot_df.nlargest(5,c)[c].to_frame().reset_index()\n",
    "    d['ola']=d['YearMonth'].apply(lambda x:in_ola(olas,x))\n",
    "    print(c)\n",
    "    print(d)"
   ]
  },
  {
   "cell_type": "code",
   "execution_count": null,
   "id": "aeccec93",
   "metadata": {
    "tags": []
   },
   "outputs": [],
   "source": [
    "for c in bogota_pivot_df.columns:\n",
    "    d=bogota_pivot_df.nsmallest(5,c)[c].to_frame().reset_index()\n",
    "    d['ola']=d['YearMonth'].apply(lambda x:in_ola(olas,x))\n",
    "    print(c)\n",
    "    print(d)"
   ]
  },
  {
   "cell_type": "markdown",
   "id": "60920931",
   "metadata": {},
   "source": [
    "## Amazonas"
   ]
  },
  {
   "cell_type": "code",
   "execution_count": null,
   "id": "62841f72",
   "metadata": {
    "tags": []
   },
   "outputs": [],
   "source": [
    "amazonas_pivot_df = pivots_depto['91']\n",
    "amazonas_pivot_pct_df = pivots_pct_depto['91']"
   ]
  },
  {
   "cell_type": "code",
   "execution_count": null,
   "id": "5a51f91a",
   "metadata": {
    "tags": []
   },
   "outputs": [],
   "source": [
    "amazonas_pivot_df.sum().sort_values(ascending=False)"
   ]
  },
  {
   "cell_type": "code",
   "execution_count": null,
   "id": "104eee62",
   "metadata": {
    "tags": []
   },
   "outputs": [],
   "source": [
    "amazonas_pivot_df"
   ]
  },
  {
   "cell_type": "code",
   "execution_count": null,
   "id": "07a714dc",
   "metadata": {
    "tags": []
   },
   "outputs": [],
   "source": [
    "trend_results_amz = {}\n",
    "x= pd.to_datetime(amazonas_pivot_df.index, format='%Y-%m')\n",
    "x = (x - x[0]).days\n",
    "\n",
    "for col in amazonas_pivot_df.columns:\n",
    "    y = amazonas_pivot_df[col].values\n",
    "    mask = ~pd.isna(y)\n",
    "    if mask.sum() > 1:  # Need at least 2 points\n",
    "        slope, intercept, r_value, p_value, std_err = linregress(x[mask], y[mask])\n",
    "        trend_results_amz[col] = {\n",
    "            'slope': slope,\n",
    "            'p_value': p_value,\n",
    "            'increasing': slope > 0 and p_value < 0.05\n",
    "        }\n",
    "\n",
    "trend_amz_df = pd.DataFrame(trend_results_amz).T"
   ]
  },
  {
   "cell_type": "code",
   "execution_count": null,
   "id": "cd9afeec",
   "metadata": {
    "tags": []
   },
   "outputs": [],
   "source": [
    "trend_amz_df"
   ]
  },
  {
   "cell_type": "code",
   "execution_count": null,
   "id": "3da623f5",
   "metadata": {
    "tags": []
   },
   "outputs": [],
   "source": [
    "summary_pivot_amz = summarize_df(amazonas_pivot_df, 'pivot')\n",
    "summary_percent_amz = summarize_df(amazonas_pivot_pct_df, 'percent')\n",
    "# Optional: reorder columns explicitly (if needed)\n",
    "sorted_columns = [\n",
    "    'pivot_max_value', 'pivot_max_index',\n",
    "    \n",
    "    'percent_max_value',  'percent_max_index',    'pivot_min_value', 'pivot_min_index',\n",
    "    \n",
    "    'percent_min_value', 'percent_min_index'\n",
    "]\n",
    "\n",
    "\n",
    "summary_amz_df = summary_pivot_amz.join(summary_percent_amz).sort_values(by='pivot_max_value', ascending=False)\n",
    "summary_amz_df[[col for col in sorted_columns if col in summary_amz_df.columns]]"
   ]
  },
  {
   "cell_type": "code",
   "execution_count": null,
   "id": "1b882ac8",
   "metadata": {
    "tags": []
   },
   "outputs": [],
   "source": [
    "percent_df.loc['2023-01':'2023-12','Trastornos Neurológicos o mentales'].mean(), amazonas_pivot_pct_df.loc['2023-01':'2023-12','Trastornos Neurológicos o mentales'].mean()"
   ]
  },
  {
   "cell_type": "code",
   "execution_count": null,
   "id": "1321f618",
   "metadata": {
    "tags": []
   },
   "outputs": [],
   "source": [
    "amazonas_pivot_df.loc['2023-01':'2023-12','Condiciones asociadas a lesiones o agresión'].sum()"
   ]
  },
  {
   "cell_type": "code",
   "execution_count": null,
   "id": "036dd7b2",
   "metadata": {
    "tags": []
   },
   "outputs": [],
   "source": [
    "plot_dual_axis(amazonas_pivot_df,\n",
    "               'Enfermedades Respiratorias Crónicas o de la Piel o estructuras anexas',\n",
    "               'COVID-19')"
   ]
  },
  {
   "cell_type": "code",
   "execution_count": null,
   "id": "55c80a3f",
   "metadata": {
    "tags": []
   },
   "outputs": [],
   "source": [
    "plot_dual_axis(amazonas_pivot_df,\n",
    "               'Enfermedades Respiratorias Crónicas o de la Piel o estructuras anexas',\n",
    "               'COVID-19')"
   ]
  },
  {
   "cell_type": "code",
   "execution_count": null,
   "id": "aad5bd7a",
   "metadata": {
    "tags": []
   },
   "outputs": [],
   "source": [
    "plot_dual_axis(amazonas_pivot_df,\n",
    "               'Enfermedades Respiratorias Crónicas o de la Piel o estructuras anexas',\n",
    "               'COVID-19')"
   ]
  },
  {
   "cell_type": "code",
   "execution_count": null,
   "id": "d8d22ec1",
   "metadata": {
    "tags": []
   },
   "outputs": [],
   "source": [
    "plot_dual_axis(amazonas_pivot_df,\n",
    "               'Condiciones asociadas a lesiones o agresión',\n",
    "               'COVID-19')"
   ]
  },
  {
   "cell_type": "code",
   "execution_count": null,
   "id": "b37c969b",
   "metadata": {
    "tags": []
   },
   "outputs": [],
   "source": [
    "plot_dual_axis(amazonas_pivot_df.loc['2020-01':'2023-06',:],\n",
    "               'No/Mal definido',\n",
    "               'COVID-19')"
   ]
  },
  {
   "cell_type": "code",
   "execution_count": null,
   "id": "ac68fa14",
   "metadata": {
    "tags": []
   },
   "outputs": [],
   "source": [
    "amazonas_pivot_pct_df.loc['2020-01':'2020-10','No/Mal definido'].plot(kind='line')\n",
    "percent_df.loc['2020-01':'2020-10','No/Mal definido'].plot(kind='line')"
   ]
  },
  {
   "cell_type": "code",
   "execution_count": null,
   "id": "a765288d",
   "metadata": {
    "tags": []
   },
   "outputs": [],
   "source": [
    "no_df_amazonas_df=amazonas_pivot_pct_df.loc['2020-01':'2022-12','No/Mal definido'].to_frame().join(percent_df.loc['2020-01':'2022-12','No/Mal definido'].to_frame(),rsuffix='_nacional').reset_index()\n",
    "no_df_amazonas_df['ola']=no_df_amazonas_df['YearMonth'].apply(lambda x: in_ola(olas,x))\n",
    "no_df_amazonas_df"
   ]
  },
  {
   "cell_type": "code",
   "execution_count": null,
   "id": "5fab18e8",
   "metadata": {
    "tags": []
   },
   "outputs": [],
   "source": [
    "agresiones_df_amazonas_df=amazonas_pivot_pct_df.loc[:,'Condiciones asociadas a lesiones o agresión'].to_frame().join(percent_df.loc[:,'Condiciones asociadas a lesiones o agresión'].to_frame(),rsuffix='_nacional').reset_index()\n",
    "agresiones_df_amazonas_df['ola']=agresiones_df_amazonas_df['YearMonth'].apply(lambda x: in_ola(olas,x))\n",
    "agresiones_df_amazonas_df"
   ]
  },
  {
   "cell_type": "code",
   "execution_count": null,
   "id": "7817db50",
   "metadata": {
    "tags": []
   },
   "outputs": [],
   "source": [
    "agresiones_df_amazonas_df.set_index('YearMonth').loc[:,['Condiciones asociadas a lesiones o agresión','Condiciones asociadas a lesiones o agresión_nacional']].mean()"
   ]
  },
  {
   "cell_type": "code",
   "execution_count": null,
   "id": "919173c7",
   "metadata": {
    "tags": []
   },
   "outputs": [],
   "source": [
    "materna_df_amazonas_df=amazonas_pivot_pct_df.loc['2020-01':'2022-12','Trastornos Materno Perinatales Congenitos o Nutricionales'].to_frame().join(percent_df.loc['2020-01':'2022-12','Trastornos Materno Perinatales Congenitos o Nutricionales'].to_frame(),rsuffix='_nacional').reset_index()\n",
    "materna_df_amazonas_df['ola']=materna_df_amazonas_df['YearMonth'].apply(lambda x: in_ola(olas,x))\n",
    "materna_df_amazonas_df"
   ]
  },
  {
   "cell_type": "code",
   "execution_count": null,
   "id": "9839f278",
   "metadata": {
    "tags": []
   },
   "outputs": [],
   "source": [
    "materna_df_amazonas_df=materna_df_amazonas_df.set_index('YearMonth')"
   ]
  },
  {
   "cell_type": "code",
   "execution_count": null,
   "id": "32ac5e04",
   "metadata": {
    "tags": []
   },
   "outputs": [],
   "source": [
    "materna_df_amazonas_df.idxmax()"
   ]
  },
  {
   "cell_type": "code",
   "execution_count": null,
   "id": "b2bce1c6",
   "metadata": {
    "tags": []
   },
   "outputs": [],
   "source": [
    "materna_df_amazonas_df.max()"
   ]
  },
  {
   "cell_type": "code",
   "execution_count": null,
   "id": "0df94a51",
   "metadata": {
    "tags": []
   },
   "outputs": [],
   "source": [
    "amazonas_pivot_df.loc['2020-01':'2020-12','Condiciones asociadas a lesiones o agresión'].plot(kind='line')"
   ]
  },
  {
   "cell_type": "code",
   "execution_count": null,
   "id": "b2665e5e",
   "metadata": {
    "tags": []
   },
   "outputs": [],
   "source": [
    "amazonas_pivot_df.loc['2020-01':'2020-12','Condiciones asociadas a lesiones o agresión'].pct_change()"
   ]
  },
  {
   "cell_type": "code",
   "execution_count": null,
   "id": "9cd16f69",
   "metadata": {
    "tags": []
   },
   "outputs": [],
   "source": [
    "pivot_df.loc['2019-12':'2020-12','Condiciones asociadas a lesiones o agresión'].pct_change()"
   ]
  },
  {
   "cell_type": "code",
   "execution_count": null,
   "id": "c5d025e9",
   "metadata": {
    "tags": []
   },
   "outputs": [],
   "source": [
    "pivot_df.loc['2019-12':'2020-12','Enfermedades Respiratorias Crónicas o de la Piel o estructuras anexas'].pct_change()"
   ]
  },
  {
   "cell_type": "code",
   "execution_count": null,
   "id": "fd2d5e91",
   "metadata": {
    "tags": []
   },
   "outputs": [],
   "source": [
    "amazonas_pivot_df.loc[:,'Condiciones asociadas a lesiones o agresión'].plot(kind='box')"
   ]
  },
  {
   "cell_type": "code",
   "execution_count": null,
   "id": "c845be29",
   "metadata": {
    "tags": []
   },
   "outputs": [],
   "source": [
    "coefficient_of_variation(amazonas_pivot_df.loc['2020-01':'2022-12',:]).sort_values()"
   ]
  },
  {
   "cell_type": "code",
   "execution_count": null,
   "id": "7aeca01c",
   "metadata": {
    "tags": []
   },
   "outputs": [],
   "source": [
    "coefficient_of_variation(pivot_df.loc['2020-01':'2022-12',:]).sort_values()"
   ]
  },
  {
   "cell_type": "code",
   "execution_count": null,
   "id": "71643b58",
   "metadata": {
    "tags": []
   },
   "outputs": [],
   "source": [
    "pivod_sum_amz=amazonas_pivot_df.sum(axis=1).sort_values(ascending=False).to_frame().join(amazonas_pivot_pct_df[['Enfermedades Respiratorias Crónicas o de la Piel o estructuras anexas','Enfermedades Cardiovasculares y Metabólicas','COVID-19','No/Mal definido']]).reset_index()"
   ]
  },
  {
   "cell_type": "code",
   "execution_count": null,
   "id": "ed250e6a",
   "metadata": {
    "tags": []
   },
   "outputs": [],
   "source": [
    "pivod_sum_amz['ola']=pivod_sum_amz['YearMonth'].apply(lambda x:in_ola(olas,x))"
   ]
  },
  {
   "cell_type": "code",
   "execution_count": null,
   "id": "4b84f9d0",
   "metadata": {
    "tags": []
   },
   "outputs": [],
   "source": [
    "pivod_sum_amz.sort_values(by='COVID-19',ascending=False)"
   ]
  },
  {
   "cell_type": "code",
   "execution_count": null,
   "id": "0fcc7805",
   "metadata": {
    "tags": []
   },
   "outputs": [],
   "source": [
    "percent_df.loc['2020-01':'2022-03','No/Mal definido']"
   ]
  },
  {
   "cell_type": "code",
   "execution_count": null,
   "id": "bcf56f99",
   "metadata": {
    "tags": []
   },
   "outputs": [],
   "source": [
    "for c in amazonas_pivot_df.columns:\n",
    "    d=amazonas_pivot_df.nlargest(5,c)[c].to_frame().reset_index()\n",
    "    d['ola']=d['YearMonth'].apply(lambda x:in_ola(olas,x))\n",
    "    print(c)\n",
    "    print(d)"
   ]
  },
  {
   "cell_type": "code",
   "execution_count": null,
   "id": "b09b93b4",
   "metadata": {
    "tags": []
   },
   "outputs": [],
   "source": [
    "for c in amazonas_pivot_pct_df.columns:\n",
    "    d=amazonas_pivot_pct_df.nlargest(5,c)[c].to_frame().reset_index()\n",
    "    d['ola']=d['YearMonth'].apply(lambda x:in_ola(olas,x))\n",
    "    print(c)\n",
    "    print(d)"
   ]
  },
  {
   "cell_type": "markdown",
   "id": "b14a9f08",
   "metadata": {},
   "source": [
    "## Chocó"
   ]
  },
  {
   "cell_type": "code",
   "execution_count": null,
   "id": "82b3e332",
   "metadata": {
    "tags": []
   },
   "outputs": [],
   "source": [
    "choco_pivot_df = pivots_depto['27']\n",
    "choco_pivot_pct_df = pivots_pct_depto['27']"
   ]
  },
  {
   "cell_type": "code",
   "execution_count": null,
   "id": "79ada124",
   "metadata": {
    "tags": []
   },
   "outputs": [],
   "source": [
    "choco_pivot_df.sum().sort_values(ascending=False)"
   ]
  },
  {
   "cell_type": "code",
   "execution_count": null,
   "id": "c60bb3e8",
   "metadata": {
    "tags": []
   },
   "outputs": [],
   "source": [
    "choco_pivot_df"
   ]
  },
  {
   "cell_type": "code",
   "execution_count": null,
   "id": "df783444",
   "metadata": {
    "tags": []
   },
   "outputs": [],
   "source": [
    "trend_results_chc = {}\n",
    "x= pd.to_datetime(choco_pivot_df.index, format='%Y-%m')\n",
    "x = (x - x[0]).days\n",
    "\n",
    "for col in choco_pivot_df.columns:\n",
    "    y = choco_pivot_df[col].values\n",
    "    mask = ~pd.isna(y)\n",
    "    if mask.sum() > 1:  # Need at least 2 points\n",
    "        slope, intercept, r_value, p_value, std_err = linregress(x[mask], y[mask])\n",
    "        trend_results_chc[col] = {\n",
    "            'slope': slope,\n",
    "            'p_value': p_value,\n",
    "            'increasing': slope > 0 and p_value < 0.05\n",
    "        }\n",
    "\n",
    "trend_chc_df = pd.DataFrame(trend_results_chc).T"
   ]
  },
  {
   "cell_type": "code",
   "execution_count": null,
   "id": "a445fbe6",
   "metadata": {
    "tags": []
   },
   "outputs": [],
   "source": [
    "trend_chc_df"
   ]
  },
  {
   "cell_type": "code",
   "execution_count": null,
   "id": "34304362",
   "metadata": {
    "tags": []
   },
   "outputs": [],
   "source": [
    "summary_pivot_chc = summarize_df(choco_pivot_df, 'pivot')\n",
    "summary_percent_chc = summarize_df(choco_pivot_pct_df, 'percent')\n",
    "# Optional: reorder columns explicitly (if needed)\n",
    "sorted_columns = [\n",
    "    'pivot_max_value', 'pivot_max_index',\n",
    "    \n",
    "    'percent_max_value',  'percent_max_index',    'pivot_min_value', 'pivot_min_index',\n",
    "    \n",
    "    'percent_min_value', 'percent_min_index'\n",
    "]\n",
    "\n",
    "\n",
    "summary_chc_df = summary_pivot_chc.join(summary_percent_chc).sort_values(by='pivot_max_value', ascending=False)\n",
    "summary_chc_df[[col for col in sorted_columns if col in summary_chc_df.columns]]"
   ]
  },
  {
   "cell_type": "code",
   "execution_count": null,
   "id": "61eb32aa",
   "metadata": {
    "tags": []
   },
   "outputs": [],
   "source": [
    "percent_df.loc['2023-01':'2023-12','Trastornos Neurológicos o mentales'].mean(), choco_pivot_pct_df.loc['2023-01':'2023-12','Trastornos Neurológicos o mentales'].mean()"
   ]
  },
  {
   "cell_type": "code",
   "execution_count": null,
   "id": "538c767f",
   "metadata": {
    "tags": []
   },
   "outputs": [],
   "source": [
    "plot_dual_axis(choco_pivot_df,\n",
    "               'Enfermedades Respiratorias Crónicas o de la Piel o estructuras anexas',\n",
    "               'COVID-19')"
   ]
  },
  {
   "cell_type": "code",
   "execution_count": null,
   "id": "43eab1c6",
   "metadata": {
    "tags": []
   },
   "outputs": [],
   "source": [
    "plot_dual_axis(choco_pivot_df,\n",
    "               'Enfermedades Respiratorias Crónicas o de la Piel o estructuras anexas',\n",
    "               'COVID-19')"
   ]
  },
  {
   "cell_type": "code",
   "execution_count": null,
   "id": "d6fd69e5",
   "metadata": {
    "tags": []
   },
   "outputs": [],
   "source": [
    "plot_dual_axis(choco_pivot_df,\n",
    "               'Enfermedades Respiratorias Crónicas o de la Piel o estructuras anexas',\n",
    "               'COVID-19')"
   ]
  },
  {
   "cell_type": "code",
   "execution_count": null,
   "id": "40b369e6",
   "metadata": {
    "tags": []
   },
   "outputs": [],
   "source": [
    "plot_dual_axis(choco_pivot_df,\n",
    "               'Condiciones asociadas a lesiones o agresión',\n",
    "               'COVID-19')"
   ]
  },
  {
   "cell_type": "code",
   "execution_count": null,
   "id": "07da5bed",
   "metadata": {
    "tags": []
   },
   "outputs": [],
   "source": [
    "plot_dual_axis(choco_pivot_df.loc['2020-01':'2023-06',:],\n",
    "               'No/Mal definido',\n",
    "               'COVID-19')"
   ]
  },
  {
   "cell_type": "code",
   "execution_count": null,
   "id": "9ce93679",
   "metadata": {
    "tags": []
   },
   "outputs": [],
   "source": [
    "plot_dual_axis(choco_pivot_df.loc['2020-01':'2023-06',:],\n",
    "               'Trastornos Materno Perinatales Congenitos o Nutricionales',\n",
    "               'COVID-19')"
   ]
  },
  {
   "cell_type": "code",
   "execution_count": null,
   "id": "33d30d39",
   "metadata": {
    "tags": []
   },
   "outputs": [],
   "source": [
    "choco_pivot_df.loc['2021-01':'2022-12','Trastornos Materno Perinatales Congenitos o Nutricionales']"
   ]
  },
  {
   "cell_type": "code",
   "execution_count": null,
   "id": "b6877a80",
   "metadata": {
    "tags": []
   },
   "outputs": [],
   "source": [
    "percent_df.mean().to_frame().join(choco_pivot_pct_df.mean().to_frame(),rsuffix='choco_').sort_values(by='0choco_',ascending=False)"
   ]
  },
  {
   "cell_type": "code",
   "execution_count": null,
   "id": "d933211f",
   "metadata": {
    "tags": []
   },
   "outputs": [],
   "source": [
    "choco_pivot_pct_df['COVID-19'].plot()\n",
    "(choco_pivot_pct_df['COVID-19']+choco_pivot_pct_df['No/Mal definido']+choco_pivot_pct_df['Enfermedades Cardiovasculares y Metabólicas']).plot()"
   ]
  },
  {
   "cell_type": "code",
   "execution_count": null,
   "id": "53f18640",
   "metadata": {
    "tags": []
   },
   "outputs": [],
   "source": [
    "no_df_choco_df=choco_pivot_pct_df.loc['2020-01':'2022-12','No/Mal definido'].to_frame().join(percent_df.loc['2020-01':'2022-12','No/Mal definido'].to_frame(),rsuffix='_nacional').reset_index()\n",
    "no_df_choco_df['ola']=no_df_choco_df['YearMonth'].apply(lambda x: in_ola(olas,x))\n",
    "no_df_choco_df"
   ]
  },
  {
   "cell_type": "code",
   "execution_count": null,
   "id": "e333a0f7",
   "metadata": {
    "tags": []
   },
   "outputs": [],
   "source": [
    "coefficient_of_variation(choco_pivot_df.loc['2020-01':'2022-12',:]).sort_values()"
   ]
  },
  {
   "cell_type": "code",
   "execution_count": null,
   "id": "7be3fb6c",
   "metadata": {
    "tags": []
   },
   "outputs": [],
   "source": [
    "coefficient_of_variation(pivot_df.loc['2020-01':'2022-12',:]).sort_values()"
   ]
  },
  {
   "cell_type": "code",
   "execution_count": null,
   "id": "e45d9002",
   "metadata": {
    "tags": []
   },
   "outputs": [],
   "source": [
    "pivod_sum_chc=choco_pivot_df.sum(axis=1).sort_values(ascending=False).to_frame().join(choco_pivot_pct_df[['Enfermedades Respiratorias Crónicas o de la Piel o estructuras anexas','Enfermedades Cardiovasculares y Metabólicas','COVID-19','No/Mal definido']]).reset_index()"
   ]
  },
  {
   "cell_type": "code",
   "execution_count": null,
   "id": "e2d16ff2",
   "metadata": {
    "tags": []
   },
   "outputs": [],
   "source": [
    "pivod_sum_chc['ola']=pivod_sum_chc['YearMonth'].apply(lambda x:in_ola(olas,x))"
   ]
  },
  {
   "cell_type": "code",
   "execution_count": null,
   "id": "72704943",
   "metadata": {
    "tags": []
   },
   "outputs": [],
   "source": [
    "pivod_sum_chc.sort_values(by='COVID-19',ascending=False)"
   ]
  },
  {
   "cell_type": "code",
   "execution_count": null,
   "id": "e7291a9e",
   "metadata": {
    "tags": []
   },
   "outputs": [],
   "source": [
    "d=choco_pivot_df.sum(axis=1).nlargest(10).to_frame().reset_index()\n",
    "d['ola']=d['YearMonth'].apply(lambda x:in_ola(olas,x))\n",
    "d"
   ]
  },
  {
   "cell_type": "code",
   "execution_count": null,
   "id": "28201860",
   "metadata": {
    "tags": []
   },
   "outputs": [],
   "source": [
    "percent_df.mean()"
   ]
  },
  {
   "cell_type": "code",
   "execution_count": null,
   "id": "b59b5853",
   "metadata": {
    "tags": []
   },
   "outputs": [],
   "source": [
    "choco_pivot_pct_df.mean()"
   ]
  },
  {
   "cell_type": "code",
   "execution_count": null,
   "id": "2c1a2945",
   "metadata": {
    "tags": []
   },
   "outputs": [],
   "source": [
    "choco_pivot_pct_df.loc['2022-01']"
   ]
  },
  {
   "cell_type": "code",
   "execution_count": null,
   "id": "5454b52e",
   "metadata": {
    "tags": []
   },
   "outputs": [],
   "source": [
    "percent_df.loc['2022-01']"
   ]
  },
  {
   "cell_type": "code",
   "execution_count": null,
   "id": "523ad0a9",
   "metadata": {
    "tags": []
   },
   "outputs": [],
   "source": [
    "for c in choco_pivot_df.columns:\n",
    "    d=choco_pivot_df.nlargest(5,c)[c].to_frame().reset_index()\n",
    "    d['ola']=d['YearMonth'].apply(lambda x:in_ola(olas,x))\n",
    "    print(c)\n",
    "    print(d)"
   ]
  },
  {
   "cell_type": "code",
   "execution_count": null,
   "id": "8b1c48a2",
   "metadata": {
    "tags": []
   },
   "outputs": [],
   "source": [
    "for c in choco_pivot_pct_df.columns:\n",
    "    d=choco_pivot_pct_df.nlargest(5,c)[c].to_frame().reset_index()\n",
    "    d['ola']=d['YearMonth'].apply(lambda x:in_ola(olas,x))\n",
    "    print(c)\n",
    "    print(d)"
   ]
  },
  {
   "cell_type": "code",
   "execution_count": null,
   "id": "f1891062",
   "metadata": {
    "tags": []
   },
   "outputs": [],
   "source": [
    "percent_df.loc['2021-08':'2022-10','COVID-19'],choco_pivot_pct_df.loc['2021-08':'2022-10','COVID-19']"
   ]
  },
  {
   "cell_type": "code",
   "execution_count": null,
   "id": "409eae8c",
   "metadata": {
    "tags": []
   },
   "outputs": [],
   "source": [
    "t=choco_pivot_df['Trastornos Materno Perinatales Congenitos o Nutricionales'].to_frame().reset_index()\n",
    "t.groupby(t['YearMonth'].str[:4])['Trastornos Materno Perinatales Congenitos o Nutricionales'].mean()"
   ]
  },
  {
   "cell_type": "code",
   "execution_count": null,
   "id": "48f616d2",
   "metadata": {
    "tags": []
   },
   "outputs": [],
   "source": [
    "choco_pivot_df['Trastornos Materno Perinatales Congenitos o Nutricionales'].plot()"
   ]
  },
  {
   "cell_type": "markdown",
   "id": "be986a00",
   "metadata": {},
   "source": [
    "# Charlson"
   ]
  },
  {
   "cell_type": "code",
   "execution_count": null,
   "id": "abc69f77",
   "metadata": {
    "tags": []
   },
   "outputs": [],
   "source": [
    "merged_with_covid_df.columns"
   ]
  },
  {
   "cell_type": "code",
   "execution_count": null,
   "id": "bf022122",
   "metadata": {
    "tags": []
   },
   "outputs": [],
   "source": [
    "merged_with_covid_df['charlson_clas'] = merged_with_covid_df['charlson_clas'].fillna('No clasificada')"
   ]
  },
  {
   "cell_type": "code",
   "execution_count": null,
   "id": "702508da",
   "metadata": {
    "tags": []
   },
   "outputs": [],
   "source": [
    "grouped_all_charlson_df = merged_with_covid_df.groupby(['charlson_clas','YearMonth'])['count'].sum().reset_index()"
   ]
  },
  {
   "cell_type": "code",
   "execution_count": null,
   "id": "448c08e3",
   "metadata": {
    "tags": []
   },
   "outputs": [],
   "source": [
    "pivot_charlson_df = grouped_all_charlson_df.pivot_table(\n",
    "    index='YearMonth',\n",
    "    columns='charlson_clas',\n",
    "    values='count',\n",
    "    aggfunc='sum',\n",
    "    fill_value=0\n",
    ")"
   ]
  },
  {
   "cell_type": "code",
   "execution_count": null,
   "id": "6e985c03",
   "metadata": {
    "tags": []
   },
   "outputs": [],
   "source": [
    "# pivot_df filtrado de 2014 a 2023\n",
    "pivot_charlson_df = pivot_charlson_df.loc[(pivot_charlson_df.index >= \"2014-01\") & (pivot_charlson_df.index <= \"2023-12\")]"
   ]
  },
  {
   "cell_type": "code",
   "execution_count": null,
   "id": "6a6d35fd",
   "metadata": {
    "tags": []
   },
   "outputs": [],
   "source": [
    "pivot_charlson_df=pivot_charlson_df[pivot_charlson_df.sum(axis=0).sort_values(ascending=False).index]"
   ]
  },
  {
   "cell_type": "code",
   "execution_count": null,
   "id": "c1009596",
   "metadata": {
    "tags": []
   },
   "outputs": [],
   "source": [
    "translations = {\n",
    "    'AIDS/HIV': 'SIDA/VIH',\n",
    "    'Any malignancy, including lymphoma and leukemia, except malignant neoplasm of skin': 'Cualquier neoplasia maligna, incluyendo linfoma y leucemia, excepto neoplasias malignas de la piel',\n",
    "    'Cerebrovascular disease': 'Enfermedad cerebrovascular',\n",
    "    'Chronic pulmonary disease': 'Enfermedad pulmonar crónica',\n",
    "    'Congestive heart failure': 'Insuficiencia cardíaca congestiva',\n",
    "    'Dementia': 'Demencia',\n",
    "    'Diabetes with chronic complication': 'Diabetes con complicaciones crónicas',\n",
    "    'Diabetes without chronic complication': 'Diabetes sin complicaciones crónicas',\n",
    "    'Hemiplegia or paraplegia': 'Hemiplejía o paraplejía',\n",
    "    'Mild liver disease': 'Enfermedad hepática leve',\n",
    "    'Moderate or severe liver\\ndisease': 'Enfermedad hepática moderada o grave',\n",
    "    'Myocardial infarction': 'Infarto de miocardio',\n",
    "    'Peptic ulcer disease': 'Úlcera péptica',\n",
    "    'Peripheral vascular disease': 'Enfermedad vascular periférica',\n",
    "    'Renal disease': 'Enfermedad renal',\n",
    "    'Rheumatic disease': 'Enfermedad reumática',\n",
    "    'No clasificada':'No clasificada'\n",
    "}\n"
   ]
  },
  {
   "cell_type": "code",
   "execution_count": null,
   "id": "304d2697",
   "metadata": {
    "tags": []
   },
   "outputs": [],
   "source": [
    "pivot_charlson_df.rename(columns=translations, inplace=True)"
   ]
  },
  {
   "cell_type": "code",
   "execution_count": null,
   "id": "4d37cbf5",
   "metadata": {
    "tags": []
   },
   "outputs": [],
   "source": [
    "pivot_charlson_df.to_csv('pivot_charlson.csv')"
   ]
  },
  {
   "cell_type": "code",
   "execution_count": null,
   "id": "9f838bb4",
   "metadata": {
    "tags": []
   },
   "outputs": [],
   "source": [
    "charlson_rank=pivot_charlson_df.sum(axis=0).astype(int).to_frame()\n",
    "charlson_rank.columns=['count']\n",
    "charlson_rank['percent']=(charlson_rank['count']/charlson_rank['count'].sum()).round(3)*100"
   ]
  },
  {
   "cell_type": "code",
   "execution_count": null,
   "id": "60f49945",
   "metadata": {
    "tags": []
   },
   "outputs": [],
   "source": [
    "charlson_rank.sort_values(by='count',ascending=False)"
   ]
  },
  {
   "cell_type": "code",
   "execution_count": null,
   "id": "341a9f45-044f-472e-bea7-b059ce946c27",
   "metadata": {
    "tags": []
   },
   "outputs": [],
   "source": [
    "charlson_rank.sum()"
   ]
  },
  {
   "cell_type": "code",
   "execution_count": null,
   "id": "fe946583",
   "metadata": {
    "tags": []
   },
   "outputs": [],
   "source": [
    "pivot_charlson_df.columns"
   ]
  },
  {
   "cell_type": "code",
   "execution_count": null,
   "id": "11ad32e3",
   "metadata": {
    "tags": []
   },
   "outputs": [],
   "source": [
    "pivot_charlson_df=pivot_charlson_df.drop(columns=['No clasificada'])"
   ]
  },
  {
   "cell_type": "code",
   "execution_count": null,
   "id": "65b74a39",
   "metadata": {
    "tags": []
   },
   "outputs": [],
   "source": [
    "nombres_cortos_charlson_map = {\n",
    "    'SIDA/VIH': 'VIH',\n",
    "    'Cualquier neoplasia maligna, incluyendo linfoma y leucemia, excepto neoplasias malignas de la piel': 'Neoplasia maligna',\n",
    "    'Enfermedad cerebrovascular': 'Enf. cerebrovascular',\n",
    "    'Enfermedad pulmonar crónica': 'Enf. pulmonar crónica',\n",
    "    'Insuficiencia cardíaca congestiva': 'Insuf. cardíaca',\n",
    "    'Demencia': 'Demencia',\n",
    "    'Diabetes con complicaciones crónicas': 'Diabetes c/complicaciones',\n",
    "    'Diabetes sin complicaciones crónicas': 'Diabetes s/complicaciones',\n",
    "    'Hemiplejía o paraplejía': 'Hemiplejía/paraplejía',\n",
    "    'Enfermedad hepática leve': 'Hepática leve',\n",
    "    'Enfermedad hepática moderada o grave': 'Hepática mod/grave',\n",
    "    'Infarto de miocardio': 'Infarto',\n",
    "    'Úlcera péptica': 'Úlcera',\n",
    "    'Enfermedad vascular periférica': 'Vascular periférica',\n",
    "    'Enfermedad renal': 'Renal',\n",
    "    'Enfermedad reumática': 'Reumática'\n",
    "}\n"
   ]
  },
  {
   "cell_type": "code",
   "execution_count": null,
   "id": "141ebcd3",
   "metadata": {
    "tags": []
   },
   "outputs": [],
   "source": [
    "# Configure print-friendly fonts and layout\n",
    "plt.rcParams.update({\n",
    "    'font.size': 14,\n",
    "    'font.family': 'sans-serif',\n",
    "    'font.sans-serif': ['Arial', 'DejaVu Sans', 'Liberation Sans', 'sans-serif'],  # fallback chain\n",
    "    'axes.titlesize': 40,\n",
    "    'axes.labelsize': 35,\n",
    "    'legend.fontsize': 35,\n",
    "    'xtick.labelsize': 25,\n",
    "    'ytick.labelsize': 25\n",
    "})\n",
    "\n",
    "color_dict = {\"COVID-19\": (1.0, 0.0, 0.0, 1.0)}  # red\n",
    "\n",
    "color_index = 0\n",
    "for col in pivot_charlson_df.columns:\n",
    "    if col == \"COVID-19\":\n",
    "        continue\n",
    "   \n",
    "    while filtered_colors[color_index] == (1.0, 0.0, 0.0, 1.0):\n",
    "        color_index += 1\n",
    "    color_dict[col] = filtered_colors[color_index]\n",
    "    color_index += 1\n",
    "\n",
    "colors = [color_dict[col] for col in pivot_charlson_df.columns]\n",
    "nombres_cortos = [nombres_cortos_charlson_map[col] for col in pivot_charlson_df.columns]\n",
    "\n",
    "\n",
    "# Create the figure\n",
    "fig, ax = plt.subplots(figsize=(46, 16), constrained_layout=True)\n",
    "\n",
    "# Plot the stacked area chart\n",
    "pivot_charlson_df.plot(kind='area', stacked=True, ax=ax, color=colors,linewidth=0)\n",
    "for label, start_str, end_str in olas:\n",
    "        start_pos = pivot_charlson_df.index.get_loc(start_str)\n",
    "        end_pos = pivot_charlson_df.index.get_loc(end_str)\n",
    "        ax.axvspan(start_pos, end_pos, color='lightgray', alpha=0.4)\n",
    "        x_mid = (start_pos + end_pos) / 2\n",
    "\n",
    "        y_max = ax.get_ylim()[1]\n",
    "        ax.text(\n",
    "        x_mid,\n",
    "        y_max * 0.99,\n",
    "        label,\n",
    "        ha='center',\n",
    "        va='top',\n",
    "        fontsize=22,\n",
    "        color='white',\n",
    "        fontweight='bold',\n",
    "            bbox=dict(\n",
    "                facecolor='#126180',\n",
    "                edgecolor='none',\n",
    "                boxstyle='round,pad=0.3'\n",
    "            )\n",
    "        )\n",
    "\n",
    "# Title and labels\n",
    "#ax.set_title('Total de muertes mensual en periodo 2014-01 a 2024-04 por categoría ÁGORA')\n",
    "ax.set_xlabel('')\n",
    "ax.set_ylabel('Muertes mensuales')\n",
    "ax.set_facecolor('white')\n",
    "ax.grid(False)\n",
    "ax.set_xlim(0, len(pivot_charlson_df.index))\n",
    "\n",
    "\n",
    "\n",
    "\n",
    " # X-axis formatting\n",
    "step = 4\n",
    "positions = range(len(pivot_charlson_df.index))\n",
    "# Ensure the last index is included\n",
    "if positions[-1] not in positions[::step]:\n",
    "    xtick_positions = list(positions[::step]) + [positions[-1]]\n",
    "else:\n",
    "    xtick_positions = positions[::step]\n",
    "\n",
    "# Remove duplicates and sort\n",
    "xtick_positions = sorted(set(xtick_positions))\n",
    "\n",
    "\n",
    "ax.set_xticks(xtick_positions)\n",
    "ax.set_xticklabels([pivot_charlson_df.index[i] for i in xtick_positions], rotation=35, ha='right')\n",
    "\n",
    "# Legend below the chart\n",
    "handles, labels = ax.get_legend_handles_labels()\n",
    "legend = ax.legend(\n",
    "    handles,\n",
    "    nombres_cortos,\n",
    "    title='',\n",
    "    loc='upper center',\n",
    "    bbox_to_anchor=(0.5, -0.08),\n",
    "    ncol=6,\n",
    "    frameon=True,\n",
    "    prop={'family': 'DejaVu Sans'}\n",
    ")\n",
    "legend.get_frame().set_facecolor('white')\n",
    "legend.get_frame().set_edgecolor('white')\n",
    "\n",
    "# Export to high-quality formats\n",
    "fig.savefig(\"grafico_total_muertes_charlson.pdf\", format=\"pdf\", bbox_inches=\"tight\")\n",
    "fig.savefig(\"grafico_total_muertes_charlson.png\", format=\"png\", dpi=300, bbox_inches=\"tight\")\n",
    "\n",
    "plt.show()"
   ]
  },
  {
   "cell_type": "code",
   "execution_count": null,
   "id": "dae01a39",
   "metadata": {},
   "outputs": [],
   "source": [
    "plt.rcParams.update({\n",
    "    'font.size': 12,\n",
    "    'font.family': 'serif',\n",
    "    'axes.titlesize': 14,\n",
    "    'axes.labelsize': 12,\n",
    "    'legend.fontsize': 15,\n",
    "    'xtick.labelsize': 10,\n",
    "    'ytick.labelsize': 10\n",
    "})\n",
    "\n",
    "color_dict = {}\n",
    "  \n",
    "nombres_cortos = [nombres_cortos_charlson_map[col] for col in pivot_charlson_df.columns]\n",
    "\n",
    "color_dict[\"COVID-19\"] = (1.0, 0.0, 0.0, 1.0)  # RGBA for red\n",
    "\n",
    "color_index = 0\n",
    "for col in pivot_charlson_df.columns:\n",
    "    if col == \"COVID-19\":\n",
    "        continue\n",
    "   \n",
    "    while filtered_colors[color_index] == (1.0, 0.0, 0.0, 1.0):\n",
    "        color_index += 1\n",
    "    color_dict[col] = filtered_colors[color_index]\n",
    "    color_index += 1\n",
    "\n",
    "colors = [color_dict[col] for col in pivot_charlson_df.columns]\n",
    "#colors = [cmap(i) for i in range(len(pivot_df.columns))]\n",
    "\n",
    "# Create the figure\n",
    "fig, ax = plt.subplots(figsize=(20, 8), constrained_layout=True)\n",
    "\n",
    "# Plot the stacked area chart\n",
    "pivot_charlson_df.plot(kind='line', stacked=False, ax=ax, color=colors,linewidth=3)\n",
    "for label, start_str, end_str in olas:\n",
    "        start_pos = pivot_charlson_df.index.get_loc(start_str)\n",
    "        end_pos = pivot_charlson_df.index.get_loc(end_str)\n",
    "        ax.axvspan(start_pos, end_pos, color='lightgray', alpha=0.4)\n",
    "        x_mid = (start_pos + end_pos) / 2\n",
    "\n",
    "        y_max = ax.get_ylim()[1]\n",
    "        ax.text(\n",
    "            x_mid,                       \n",
    "            y_max * 0.99,               \n",
    "            label,\n",
    "            ha='center',\n",
    "            va='top',\n",
    "            fontsize=10,\n",
    "            backgroundcolor='white'\n",
    "        )\n",
    "\n",
    "# Title and labels\n",
    "#ax.set_title('Total de muertes mensual en periodo 2014-01 a 2024-04 por categoría ÁGORA')\n",
    "ax.set_xlabel('')\n",
    "ax.set_ylabel('Muertes mensuales')\n",
    "ax.set_facecolor('white')\n",
    "ax.grid(False)\n",
    "ax.set_xlim(0, len(pivot_charlson_df.index))\n",
    "#ax1.get_legend().remove()\n",
    "\n",
    "\n",
    "\n",
    "# Improve xticks (every 3rd month)\n",
    "positions = range(len(pivot_charlson_df.index))\n",
    "step = 3\n",
    "ax.set_xticks(positions[::step])\n",
    "ax.set_xticklabels(pivot_charlson_df.index[::step], rotation=30, ha='right')\n",
    "\n",
    "# Legend below the chart\n",
    "handles, labels = ax.get_legend_handles_labels()\n",
    "ax.legend(\n",
    "    handles,\n",
    "    nombres_cortos,\n",
    "    title='',\n",
    "    loc='upper center',\n",
    "    bbox_to_anchor=(0.5, -0.2),\n",
    "    ncol=6,\n",
    "    frameon=True\n",
    ")\n",
    "\n",
    "ax.grid(True)\n",
    "\n",
    "# Export to high-quality formats\n",
    "fig.savefig(\"grafico_total_muertes_charlson_linea.pdf\", format=\"pdf\", bbox_inches=\"tight\")\n",
    "fig.savefig(\"grafico_total_muertes_charlson_linea.png\", format=\"png\", dpi=300, bbox_inches=\"tight\")\n",
    "\n",
    "plt.show()"
   ]
  },
  {
   "cell_type": "code",
   "execution_count": null,
   "id": "6e581755",
   "metadata": {},
   "outputs": [],
   "source": [
    "for c in pivot_charlson_df.columns:\n",
    "    d=pivot_charlson_df.nlargest(5,c)[c].to_frame().reset_index()\n",
    "    d['ola']=d['YearMonth'].apply(lambda x:in_ola(olas,x))\n",
    "    print(c)\n",
    "    print(d)"
   ]
  },
  {
   "cell_type": "code",
   "execution_count": null,
   "id": "fb69b880",
   "metadata": {},
   "outputs": [],
   "source": [
    "for c in pivot_charlson_df.columns:\n",
    "    d=pivot_charlson_df.nsmallest(5,c)[c].to_frame().reset_index()\n",
    "    d['ola']=d['YearMonth'].apply(lambda x:in_ola(olas,x))\n",
    "    print(c)\n",
    "    print(d)"
   ]
  },
  {
   "cell_type": "code",
   "execution_count": null,
   "id": "727ee32f",
   "metadata": {},
   "outputs": [],
   "source": [
    "# Apply to both dataframes\n",
    "summary_pivot = summarize_df(pivot_charlson_df, 'pivot')\n",
    "#summary_percent = summarize_df(percent_df, 'percent')\n",
    "# Optional: reorder columns explicitly (if needed)\n",
    "sorted_columns = [\n",
    "    'pivot_max_value', 'pivot_max_index',\n",
    "    \n",
    "       'pivot_min_value', 'pivot_min_index',\n",
    "    \n",
    "   \n",
    "]\n",
    "\n",
    "# Just in case order matters (will ignore missing cols gracefully)\n",
    "\n",
    "summary_df = summary_pivot.sort_values(by='pivot_max_value', ascending=False)\n",
    "summary_df[[col for col in sorted_columns if col in summary_df.columns]]\n"
   ]
  },
  {
   "cell_type": "code",
   "execution_count": null,
   "id": "71f6d7a3",
   "metadata": {},
   "outputs": [],
   "source": [
    "trend_results = {}\n",
    "x= pd.to_datetime(pivot_charlson_df.index, format='%Y-%m')\n",
    "x = (x - x[0]).days\n",
    "\n",
    "for col in pivot_charlson_df.columns:\n",
    "    y = pivot_charlson_df[col].values\n",
    "    mask = ~pd.isna(y)\n",
    "    if mask.sum() > 1:  # Need at least 2 points\n",
    "        slope, intercept, r_value, p_value, std_err = linregress(x[mask], y[mask])\n",
    "        trend_results[col] = {\n",
    "            'slope': slope,\n",
    "            'p_value': p_value,\n",
    "            'increasing': slope > 0 and p_value < 0.05\n",
    "        }\n",
    "\n",
    "trend_df = pd.DataFrame(trend_results).T"
   ]
  },
  {
   "cell_type": "code",
   "execution_count": null,
   "id": "ece13c50",
   "metadata": {},
   "outputs": [],
   "source": [
    "trend_df.sort_values(by='slope')"
   ]
  },
  {
   "cell_type": "code",
   "execution_count": null,
   "id": "413e0801",
   "metadata": {},
   "outputs": [],
   "source": [
    "pivot_charlson_df[['Enfermedad renal','SIDA/VIH']].plot(kind='line')"
   ]
  },
  {
   "cell_type": "code",
   "execution_count": null,
   "id": "cfb36718",
   "metadata": {},
   "outputs": [],
   "source": [
    "pivot_charlson_df[['Infarto de miocardio','Cualquier neoplasia maligna, incluyendo linfoma y leucemia, excepto neoplasias malignas de la piel','Demencia']].plot(kind='line')"
   ]
  },
  {
   "cell_type": "markdown",
   "id": "fe25a0c3",
   "metadata": {},
   "source": [
    "### Hay 218052 ids sin fecha de nacimiento"
   ]
  },
  {
   "cell_type": "code",
   "execution_count": null,
   "id": "4ab5c43f",
   "metadata": {},
   "outputs": [],
   "source": [
    "joined_df.filter(joined_df.FDN.isNull()).count()"
   ]
  },
  {
   "cell_type": "code",
   "execution_count": null,
   "id": "0e54c955",
   "metadata": {},
   "outputs": [],
   "source": [
    "df.groupBy(\"Edad\").count().orderBy(\"count\", ascending=False).show(truncate=False)"
   ]
  },
  {
   "cell_type": "code",
   "execution_count": null,
   "id": "619bd205",
   "metadata": {},
   "outputs": [],
   "source": [
    "from pyspark.sql.functions import col\n",
    "df_filtered = df.filter(\n",
    "    col(\"Edad\").isNotNull() & (~col(\"Edad\").startswith(\"E\"))\n",
    ")"
   ]
  },
  {
   "cell_type": "code",
   "execution_count": null,
   "id": "1166ec50",
   "metadata": {},
   "outputs": [],
   "source": [
    "df_filtered.printSchema()"
   ]
  },
  {
   "cell_type": "code",
   "execution_count": null,
   "id": "ede15c13",
   "metadata": {},
   "outputs": [],
   "source": [
    "conteo_total_muertes_edad=df_filtered.groupBy(\"CausaMuerteAsisID\",\"YearMonth\",\"Edad\") \\\n",
    "  .count() \\\n",
    "  .orderBy(\"count\", ascending=False).collect()"
   ]
  },
  {
   "cell_type": "code",
   "execution_count": null,
   "id": "b95eab11",
   "metadata": {},
   "outputs": [],
   "source": [
    "conteo_total_muertes_edad_df=pd.DataFrame(conteo_total_muertes_edad, columns=[\"CausaMuerteAsisID\",\"YearMonth\",\"Edad\",\"count\"])"
   ]
  },
  {
   "cell_type": "code",
   "execution_count": null,
   "id": "9f871c38",
   "metadata": {},
   "outputs": [],
   "source": [
    "conteo_total_muertes_edad_df"
   ]
  },
  {
   "cell_type": "code",
   "execution_count": null,
   "id": "c2176b84",
   "metadata": {},
   "outputs": [],
   "source": [
    "category_rest=list(set(conteo_total_muertes_edad_df['CausaMuerteAsisID'].unique())- set(['1 - NO DEFINIDO','J189 - NEUMONIA, NO ESPECIFICADA', 'J129 - NEUMONIA VIRAL, NO ESPECIFICADA']))"
   ]
  },
  {
   "cell_type": "code",
   "execution_count": null,
   "id": "6066cd5a",
   "metadata": {},
   "outputs": [],
   "source": [
    "category_rest.sort()"
   ]
  },
  {
   "cell_type": "code",
   "execution_count": null,
   "id": "d1d0da9d",
   "metadata": {},
   "outputs": [],
   "source": [
    "categories_orden=['1 - NO DEFINIDO','J189 - NEUMONIA, NO ESPECIFICADA', 'J129 - NEUMONIA VIRAL, NO ESPECIFICADA']+category_rest"
   ]
  },
  {
   "cell_type": "code",
   "execution_count": null,
   "id": "6c1e221e",
   "metadata": {},
   "outputs": [],
   "source": [
    "categories_orden"
   ]
  },
  {
   "cell_type": "code",
   "execution_count": null,
   "id": "7cf0a717",
   "metadata": {},
   "outputs": [],
   "source": [
    "conteo_total_muertes_edad_df['CausaMuerteAsisID']=pd.Categorical(conteo_total_muertes_edad_df['CausaMuerteAsisID'], categories=categories_orden)"
   ]
  },
  {
   "cell_type": "code",
   "execution_count": null,
   "id": "a20e6e9e",
   "metadata": {},
   "outputs": [],
   "source": [
    "conteo_edades_df= df_fallecidos_covid.groupBy(\"Edad\").count().collect()"
   ]
  },
  {
   "cell_type": "code",
   "execution_count": null,
   "id": "529ea236",
   "metadata": {},
   "outputs": [],
   "source": [
    "conteo_edades_df = pd.DataFrame(conteo_edades_df, columns=['Edad','count'])"
   ]
  },
  {
   "cell_type": "code",
   "execution_count": null,
   "id": "59888997",
   "metadata": {},
   "outputs": [],
   "source": [
    "conteo_edades_df['Edad']=pd.to_numeric(conteo_edades_df['Edad'])"
   ]
  },
  {
   "cell_type": "code",
   "execution_count": null,
   "id": "32438fb8",
   "metadata": {},
   "outputs": [],
   "source": [
    "conteo_edades_df.sort_values(by='Edad').plot(x='Edad',y='count', kind='bar')"
   ]
  },
  {
   "cell_type": "code",
   "execution_count": null,
   "id": "8f3e222c",
   "metadata": {},
   "outputs": [],
   "source": [
    "conteo_muertes_covid_edad=df_fallecidos_covid\\\n",
    "  .groupBy(\"YearMonth\",\"Edad\") \\\n",
    "  .count() \\\n",
    "  .orderBy(\"count\", ascending=False).collect()"
   ]
  },
  {
   "cell_type": "code",
   "execution_count": null,
   "id": "02e54578",
   "metadata": {},
   "outputs": [],
   "source": [
    "conteo_muertes_covid_edad_df=pd.DataFrame(conteo_muertes_covid_edad, columns=[\"YearMonth\",\"Edad\",\"count_muertes_covid\"])"
   ]
  },
  {
   "cell_type": "code",
   "execution_count": null,
   "id": "b3690cd3",
   "metadata": {},
   "outputs": [],
   "source": [
    "conteo_muertes_covid_edad_df.loc[:,'EdadNum']=pd.to_numeric(conteo_muertes_covid_edad_df['Edad'])"
   ]
  },
  {
   "cell_type": "code",
   "execution_count": null,
   "id": "51c1e2fa",
   "metadata": {},
   "outputs": [],
   "source": [
    "conteo_muertes_covid_edad_df.head()"
   ]
  },
  {
   "cell_type": "code",
   "execution_count": null,
   "id": "a0c6ca86",
   "metadata": {},
   "outputs": [],
   "source": [
    "def clasificar_edad(edad: int) -> str:\n",
    "    if edad >= 75:\n",
    "        return 'De 75 años o más'\n",
    "    elif 70 <= edad <= 74:\n",
    "        return 'De 70 a 74 años'\n",
    "    elif 65 <= edad <= 69:\n",
    "        return 'De 65 a 69 años'\n",
    "    elif 60 <= edad <= 64:\n",
    "        return 'De 60 a 64 años'\n",
    "    elif 55 <= edad <= 59:\n",
    "        return 'De 55 a 59 años'\n",
    "    elif 50 <= edad <= 54:\n",
    "        return 'De 50 a 54 años'\n",
    "    elif 45 <= edad <= 49:\n",
    "        return 'De 45 a 49 años'\n",
    "    elif 19 <= edad <= 44:\n",
    "        return 'De 19 a 44 años'\n",
    "    elif 15 <= edad <= 18:\n",
    "        return 'De 15 a 18 años'\n",
    "    elif 5 <= edad <= 14:\n",
    "        return 'De 05 a 14 años'\n",
    "    elif 1 <= edad <= 4:\n",
    "        return 'De 01 a 04 años'\n",
    "    else:\n",
    "        return 'Edad fuera de rango'"
   ]
  },
  {
   "cell_type": "code",
   "execution_count": null,
   "id": "d9453f92",
   "metadata": {},
   "outputs": [],
   "source": [
    "conteo_muertes_covid_edad_df.loc[:,'Edad']=conteo_muertes_covid_edad_df['EdadNum'].apply(clasificar_edad)"
   ]
  },
  {
   "cell_type": "code",
   "execution_count": null,
   "id": "831693f2",
   "metadata": {},
   "outputs": [],
   "source": [
    "conteo_muertes_covid_edad_df.head()"
   ]
  },
  {
   "cell_type": "code",
   "execution_count": null,
   "id": "82c1c607",
   "metadata": {},
   "outputs": [],
   "source": [
    "# Reagrupamos por grupos de edad de covid\n",
    "conteo_muertes_covid_edad_df = conteo_muertes_covid_edad_df.groupby(['YearMonth','Edad'])['count_muertes_covid'].sum().reset_index()"
   ]
  },
  {
   "cell_type": "code",
   "execution_count": null,
   "id": "b3037ade",
   "metadata": {},
   "outputs": [],
   "source": [
    "conteo_muertes_covid_edad_df.head()"
   ]
  },
  {
   "cell_type": "code",
   "execution_count": null,
   "id": "025321c4",
   "metadata": {},
   "outputs": [],
   "source": [
    "# no hay nulos\n",
    "conteo_muertes_covid_edad_df.isna().sum()"
   ]
  },
  {
   "cell_type": "code",
   "execution_count": null,
   "id": "875537b5",
   "metadata": {},
   "outputs": [],
   "source": [
    "merged_edades_df = conteo_total_muertes_edad_df.sort_values(by='CausaMuerteAsisID').merge(\n",
    "    conteo_muertes_covid_edad_df,\n",
    "    how=\"outer\",  \n",
    "    on=[\"YearMonth\", \"Edad\"],\n",
    "    \n",
    ")"
   ]
  },
  {
   "cell_type": "code",
   "execution_count": null,
   "id": "73aba7eb",
   "metadata": {},
   "outputs": [],
   "source": [
    "# Hay merge de todo lo izquierdo con al menos un derecho\n",
    "merged_edades_df['count'].isna().sum()"
   ]
  },
  {
   "cell_type": "code",
   "execution_count": null,
   "id": "a5d04ccf",
   "metadata": {},
   "outputs": [],
   "source": [
    "merged_edades_df"
   ]
  },
  {
   "cell_type": "code",
   "execution_count": null,
   "id": "22601daf",
   "metadata": {},
   "outputs": [],
   "source": [
    "covid_join_edad_df= merged_edades_df.dropna().drop_duplicates(\n",
    "    subset=[\"YearMonth\", \"Edad\",\"count_muertes_covid\"], \n",
    "    keep=\"first\"\n",
    ")"
   ]
  },
  {
   "cell_type": "code",
   "execution_count": null,
   "id": "376f12be",
   "metadata": {},
   "outputs": [],
   "source": [
    "covid_join_edad_df['count_muertes_covid'].sum()"
   ]
  },
  {
   "cell_type": "code",
   "execution_count": null,
   "id": "1ebf2ced",
   "metadata": {},
   "outputs": [],
   "source": [
    "covid_join_edad_df.head()"
   ]
  },
  {
   "cell_type": "code",
   "execution_count": null,
   "id": "162b7d5c",
   "metadata": {},
   "outputs": [],
   "source": [
    "merged_edades_df=conteo_total_muertes_edad_df.merge(\n",
    "    covid_join_edad_df[['CausaMuerteAsisID', 'YearMonth', 'Edad','count_muertes_covid']],\n",
    "    how=\"left\",  \n",
    "    on=[\"CausaMuerteAsisID\",\"YearMonth\", \"Edad\"],\n",
    ").sort_values(by='count_muertes_covid', ascending=False)"
   ]
  },
  {
   "cell_type": "code",
   "execution_count": null,
   "id": "86be4136",
   "metadata": {},
   "outputs": [],
   "source": [
    "merged_edades_df['count_muertes_covid']=merged_edades_df['count_muertes_covid'].fillna(0)"
   ]
  },
  {
   "cell_type": "code",
   "execution_count": null,
   "id": "88dc4af8",
   "metadata": {},
   "outputs": [],
   "source": [
    "merged_edades_df['count'].sum()"
   ]
  },
  {
   "cell_type": "code",
   "execution_count": null,
   "id": "316ac3b7",
   "metadata": {},
   "outputs": [],
   "source": [
    "merged_edades_df['count_muertes_covid'].sum()"
   ]
  },
  {
   "cell_type": "code",
   "execution_count": null,
   "id": "756ca090",
   "metadata": {},
   "outputs": [],
   "source": [
    "covid_new_rows_edad_df = merged_edades_df[(merged_edades_df['count_muertes_covid']>0)].copy()"
   ]
  },
  {
   "cell_type": "code",
   "execution_count": null,
   "id": "69c21eb5",
   "metadata": {},
   "outputs": [],
   "source": [
    "covid_new_rows_edad_df['count_muertes_covid']=covid_new_rows_edad_df['count_muertes_covid'].astype(int)"
   ]
  },
  {
   "cell_type": "code",
   "execution_count": null,
   "id": "6c1896c7",
   "metadata": {},
   "outputs": [],
   "source": [
    "covid_new_rows_edad_df['CausaMuerteAsisID']='U071 - COVID-19 (Virus Identificado)'"
   ]
  },
  {
   "cell_type": "code",
   "execution_count": null,
   "id": "537af4b3",
   "metadata": {},
   "outputs": [],
   "source": [
    "covid_new_rows_edad_df.loc[:,'count']=covid_new_rows_edad_df['count_muertes_covid']"
   ]
  },
  {
   "cell_type": "code",
   "execution_count": null,
   "id": "40711282",
   "metadata": {},
   "outputs": [],
   "source": [
    "merged_edades_df.loc[:,'diff']=merged_edades_df['count']-merged_edades_df['count_muertes_covid']"
   ]
  },
  {
   "cell_type": "code",
   "execution_count": null,
   "id": "1176f72c",
   "metadata": {},
   "outputs": [],
   "source": [
    "# Muertes que se van a retirar a causa actual , donde count ahora debe ser diff\n",
    "merged_edades_df[(merged_edades_df['count_muertes_covid']>0)&(merged_edades_df['count']>0)&(merged_edades_df['diff']>=0)]"
   ]
  },
  {
   "cell_type": "code",
   "execution_count": null,
   "id": "b2ac5877",
   "metadata": {},
   "outputs": [],
   "source": [
    "condition = (\n",
    "    (merged_edades_df['count_muertes_covid'] > 0) &\n",
    "    (merged_edades_df['count'] > 0) &\n",
    "    (merged_edades_df['diff'] >= 0)\n",
    ")\n",
    "\n",
    "# Update 'count' where the condition is True\n",
    "merged_edades_df.loc[condition, 'count'] = merged_edades_df.loc[condition, 'diff']"
   ]
  },
  {
   "cell_type": "code",
   "execution_count": null,
   "id": "1da54e88",
   "metadata": {},
   "outputs": [],
   "source": [
    "# Muertes que se van a retirar a causa actual , donde ahora debe ser 0\n",
    "merged_edades_df[(merged_edades_df['diff']<0)]"
   ]
  },
  {
   "cell_type": "code",
   "execution_count": null,
   "id": "a7cca598",
   "metadata": {},
   "outputs": [],
   "source": [
    "merged_edades_df.loc[(merged_edades_df['diff']<0), 'count']=0"
   ]
  },
  {
   "cell_type": "code",
   "execution_count": null,
   "id": "b4dd31c4",
   "metadata": {},
   "outputs": [],
   "source": [
    "# No definidos restantes\n",
    "merged_edades_df[merged_edades_df['CausaMuerteAsisID']=='1 - NO DEFINIDO']['count'].sum()"
   ]
  },
  {
   "cell_type": "code",
   "execution_count": null,
   "id": "c50f78ee",
   "metadata": {},
   "outputs": [],
   "source": [
    "# Estas se están duplicando ya que no se alcanza restar completo de la causa original que queda en 0's\n",
    "merged_edades_df[merged_edades_df['diff']<0]['diff'].sum()"
   ]
  },
  {
   "cell_type": "code",
   "execution_count": null,
   "id": "4a6c645d",
   "metadata": {},
   "outputs": [],
   "source": [
    "covid_new_rows_edad_df['count'].sum()"
   ]
  },
  {
   "cell_type": "code",
   "execution_count": null,
   "id": "37fd75dc",
   "metadata": {},
   "outputs": [],
   "source": [
    "merged_edades_df['count'].sum()"
   ]
  },
  {
   "cell_type": "code",
   "execution_count": null,
   "id": "da13a073",
   "metadata": {},
   "outputs": [],
   "source": [
    "covid_new_rows_edad_df.columns"
   ]
  },
  {
   "cell_type": "code",
   "execution_count": null,
   "id": "421b1d7c",
   "metadata": {},
   "outputs": [],
   "source": [
    "merged_edades_df.columns"
   ]
  },
  {
   "cell_type": "code",
   "execution_count": null,
   "id": "13e089f1",
   "metadata": {},
   "outputs": [],
   "source": [
    "merged_with_covid_edades_df=pd.concat([merged_edades_df[['CausaMuerteAsisID', 'YearMonth', 'Edad', 'count']],covid_new_rows_edad_df[['CausaMuerteAsisID', 'YearMonth', 'Edad', 'count']]])\n"
   ]
  },
  {
   "cell_type": "code",
   "execution_count": null,
   "id": "cacb3fb6",
   "metadata": {},
   "outputs": [],
   "source": [
    "merged_with_covid_edades_df"
   ]
  },
  {
   "cell_type": "code",
   "execution_count": null,
   "id": "8c586726",
   "metadata": {},
   "outputs": [],
   "source": [
    "merged_with_covid_edades_df.loc[:,'icd10']=merged_with_covid_edades_df['CausaMuerteAsisID'].str.split(\"-\").str[0].apply(lambda x:str(x.strip()))"
   ]
  },
  {
   "cell_type": "code",
   "execution_count": null,
   "id": "bee5c7b5",
   "metadata": {},
   "outputs": [],
   "source": [
    "merged_with_covid_edades_df = merged_with_covid_edades_df.merge(agrupacion_agora_df[['codigo','grupos_agora']], how='left' , left_on='icd10', right_on='codigo')"
   ]
  },
  {
   "cell_type": "code",
   "execution_count": null,
   "id": "b2576715",
   "metadata": {},
   "outputs": [],
   "source": [
    "merged_with_covid_edades_df[(merged_with_covid_edades_df['grupos_agora'].isna())&(merged_with_covid_edades_df['CausaMuerteAsisID']!='1 - NO DEFINIDO')]"
   ]
  },
  {
   "cell_type": "code",
   "execution_count": null,
   "id": "8da4d240",
   "metadata": {},
   "outputs": [],
   "source": [
    "merged_with_covid_edades_df.loc[:,'grupos_agora'] = merged_with_covid_edades_df['grupos_agora'].fillna('1 - NO DEFINIDO')"
   ]
  },
  {
   "cell_type": "code",
   "execution_count": null,
   "id": "86422d04",
   "metadata": {},
   "outputs": [],
   "source": [
    "del merged_with_covid_edades_df['codigo']"
   ]
  },
  {
   "cell_type": "code",
   "execution_count": null,
   "id": "e5042a99",
   "metadata": {},
   "outputs": [],
   "source": [
    "grouped_all_edades_df = merged_with_covid_edades_df.groupby(['grupos_agora','Edad'])['count'].sum().reset_index()"
   ]
  },
  {
   "cell_type": "code",
   "execution_count": null,
   "id": "8dd819db",
   "metadata": {},
   "outputs": [],
   "source": [
    "grouped_all_edades_df['count'].sum()"
   ]
  },
  {
   "cell_type": "code",
   "execution_count": null,
   "id": "c02918a1",
   "metadata": {},
   "outputs": [],
   "source": [
    "grouped_all_edades_df.columns"
   ]
  },
  {
   "cell_type": "code",
   "execution_count": null,
   "id": "aabebdf9",
   "metadata": {},
   "outputs": [],
   "source": [
    "grouped_all_edades_df.head()"
   ]
  },
  {
   "cell_type": "code",
   "execution_count": null,
   "id": "856688ff",
   "metadata": {},
   "outputs": [],
   "source": [
    "pivot_edad_df = grouped_all_edades_df.pivot_table(\n",
    "    index='Edad',\n",
    "    columns='grupos_agora',\n",
    "    values='count',\n",
    "    aggfunc='sum',\n",
    "    fill_value=0\n",
    ")"
   ]
  },
  {
   "cell_type": "code",
   "execution_count": null,
   "id": "d8e5153e",
   "metadata": {},
   "outputs": [],
   "source": [
    "pivot_edad_df = pivot_edad_df[pivot_edad_df.mean(axis=0).sort_values(ascending=False).index]"
   ]
  },
  {
   "cell_type": "code",
   "execution_count": null,
   "id": "f376c174",
   "metadata": {},
   "outputs": [],
   "source": [
    "pivot_edad_df"
   ]
  },
  {
   "cell_type": "code",
   "execution_count": null,
   "id": "e0986a38",
   "metadata": {},
   "outputs": [],
   "source": [
    "# Configure print-friendly fonts and layout\n",
    "plt.rcParams.update({\n",
    "    'font.size': 12,\n",
    "    'font.family': 'serif',\n",
    "    'axes.titlesize': 14,\n",
    "    'axes.labelsize': 12,\n",
    "    'legend.fontsize': 10,\n",
    "    'xtick.labelsize': 10,\n",
    "    'ytick.labelsize': 10\n",
    "})\n",
    "\n",
    "# Use a colormap with at least 14 distinct colors\n",
    "cmap = colormaps.get_cmap('tab20')  # 'Set3', 'tab20c', etc.\n",
    "colors = [cmap(i) for i in range(len(pivot_edad_df.columns))]\n",
    "\n",
    "# Create the figure\n",
    "fig, ax = plt.subplots(figsize=(20, 8), constrained_layout=True)\n",
    "\n",
    "# Plot the stacked area chart\n",
    "pivot_edad_df.plot(kind='bar', stacked=True, ax=ax, color=colors,linewidth=0)\n",
    "\n",
    "# Title and labels\n",
    "ax.set_title('Total de muertes por categoría ÁGORA por rango etario periodo 2014-01 a 2024-04')\n",
    "ax.set_xlabel('Año y mes')\n",
    "ax.set_ylabel('Total')\n",
    "\n",
    "# Improve xticks (every 3rd month)\n",
    "positions = range(len(pivot_edad_df.index))\n",
    "step = 1\n",
    "ax.set_xticks(positions[::step])\n",
    "ax.set_xticklabels(pivot_edad_df.index[::step], rotation=30, ha='right')\n",
    "\n",
    "# Legend below the chart\n",
    "handles, labels = ax.get_legend_handles_labels()\n",
    "ax.legend(\n",
    "    handles,\n",
    "    labels,\n",
    "    title='Grupo Ágora',\n",
    "    loc='upper center',\n",
    "    bbox_to_anchor=(0.5, -0.2),\n",
    "    ncol=4,\n",
    "    frameon=True\n",
    ")\n",
    "\n",
    "ax.grid(True)\n",
    "\n",
    "# Export to high-quality formats\n",
    "fig.savefig(\"grafico_total_muertes_edad.pdf\", format=\"pdf\", bbox_inches=\"tight\")\n",
    "fig.savefig(\"grafico_total_muertes_edad.png\", format=\"png\", dpi=300, bbox_inches=\"tight\")\n",
    "\n",
    "plt.show()"
   ]
  },
  {
   "cell_type": "code",
   "execution_count": null,
   "id": "9067ae85",
   "metadata": {},
   "outputs": [],
   "source": [
    "percent_edad_df = pivot_edad_df.div(pivot_edad_df.sum(axis=1), axis=0) * 100\n",
    "percent_edad_df = percent_edad_df.fillna(0).round(4)\n",
    "percent_edad_df[percent_edad_df < 1e-6] = 0\n",
    "percent_edad_df = percent_edad_df[percent_edad_df.mean(axis=0).sort_values(ascending=False).index]"
   ]
  },
  {
   "cell_type": "code",
   "execution_count": null,
   "id": "b9d413e3",
   "metadata": {},
   "outputs": [],
   "source": [
    "percent_edad_df"
   ]
  },
  {
   "cell_type": "code",
   "execution_count": null,
   "id": "90398b91",
   "metadata": {},
   "outputs": [],
   "source": [
    "# Configure print-friendly fonts and layout\n",
    "plt.rcParams.update({\n",
    "    'font.size': 12,\n",
    "    'font.family': 'serif',\n",
    "    'axes.titlesize': 14,\n",
    "    'axes.labelsize': 12,\n",
    "    'legend.fontsize': 10,\n",
    "    'xtick.labelsize': 10,\n",
    "    'ytick.labelsize': 10\n",
    "})\n",
    "\n",
    "# Use a colormap with at least 14 distinct colors\n",
    "cmap = colormaps.get_cmap('tab20')  # 'Set3', 'tab20c', etc.\n",
    "colors = [cmap(i) for i in range(len(percent_edad_df.columns))]\n",
    "\n",
    "# Create the figure\n",
    "fig, ax = plt.subplots(figsize=(20, 8), constrained_layout=True)\n",
    "\n",
    "# Plot the stacked area chart\n",
    "percent_edad_df.plot(kind='bar', stacked=True, ax=ax, color=colors,linewidth=0)\n",
    "\n",
    "# Title and labels\n",
    "ax.set_title('Porcentaje de muertes por categoría ÁGORA por rango etario en periodo 2014-01 a 2024-04')\n",
    "ax.set_xlabel('Año y mes')\n",
    "ax.set_ylabel('Porcentaje')\n",
    "\n",
    "# Improve xticks (every 3rd month)\n",
    "positions = range(len(percent_edad_df.index))\n",
    "step = 1\n",
    "ax.set_xticks(positions[::step])\n",
    "ax.set_xticklabels(percent_edad_df.index[::step], rotation=30, ha='right')\n",
    "\n",
    "# Legend below the chart\n",
    "handles, labels = ax.get_legend_handles_labels()\n",
    "ax.legend(\n",
    "    handles,\n",
    "    labels,\n",
    "    title='Grupo Ágora',\n",
    "    loc='upper center',\n",
    "    bbox_to_anchor=(0.5, -0.2),\n",
    "    ncol=4,\n",
    "    frameon=True\n",
    ")\n",
    "\n",
    "ax.grid(True)\n",
    "\n",
    "# Export to high-quality formats\n",
    "fig.savefig(\"grafico_porcentaje_muertes_edad.pdf\", format=\"pdf\", bbox_inches=\"tight\")\n",
    "fig.savefig(\"grafico_porcentaje_muertes_edad.png\", format=\"png\", dpi=300, bbox_inches=\"tight\")\n",
    "\n",
    "plt.show()"
   ]
  },
  {
   "cell_type": "code",
   "execution_count": null,
   "id": "82ccb60b",
   "metadata": {},
   "outputs": [],
   "source": []
  },
  {
   "cell_type": "code",
   "execution_count": null,
   "id": "55bf6d43",
   "metadata": {},
   "outputs": [],
   "source": []
  },
  {
   "cell_type": "code",
   "execution_count": null,
   "id": "5c58eea5",
   "metadata": {},
   "outputs": [],
   "source": []
  },
  {
   "cell_type": "code",
   "execution_count": null,
   "id": "05bc68c5",
   "metadata": {},
   "outputs": [],
   "source": [
    "merged_edades_df"
   ]
  },
  {
   "cell_type": "markdown",
   "id": "53b2dffa",
   "metadata": {},
   "source": [
    "### duplicados"
   ]
  },
  {
   "cell_type": "code",
   "execution_count": null,
   "id": "eeb061c2",
   "metadata": {},
   "outputs": [],
   "source": [
    "duplicates_def__df=df.groupBy(\"personaID\").count().filter(col(\"count\")>1).select(\"personaID\")"
   ]
  },
  {
   "cell_type": "code",
   "execution_count": null,
   "id": "3c5d925f",
   "metadata": {},
   "outputs": [],
   "source": [
    "res_duf_def=df.join(duplicates_def__df, on=\"personaID\", how=\"inner\").collect()"
   ]
  },
  {
   "cell_type": "code",
   "execution_count": null,
   "id": "e4f83035",
   "metadata": {},
   "outputs": [],
   "source": [
    "def_dups_df = pd.DataFrame(res_duf_def, columns=df.columns)\n"
   ]
  },
  {
   "cell_type": "code",
   "execution_count": null,
   "id": "13d4cadb",
   "metadata": {},
   "outputs": [],
   "source": [
    "def_dups_df"
   ]
  },
  {
   "cell_type": "code",
   "execution_count": null,
   "id": "dc39c3ff",
   "metadata": {},
   "outputs": [],
   "source": [
    "def_dups_df[['Sexo', 'FechaDefuncionID',\n",
    "       'MunicipioDefuncion', 'DeptoDefuncion', 'AreaDefuncion',\n",
    "       'SitioDefuncion', 'TipoDefuncion', 'PaisNacimientoFallecido',\n",
    "       'CausaBasicaMuerte', 'NivelEducativoFallecido', 'Diagnostico667',\n",
    "       'CausaMuerteAsisID', 'personaID']]"
   ]
  },
  {
   "cell_type": "code",
   "execution_count": null,
   "id": "32166b83",
   "metadata": {},
   "outputs": [],
   "source": [
    "2584102-2584091"
   ]
  },
  {
   "cell_type": "code",
   "execution_count": null,
   "id": "3077ba9d",
   "metadata": {},
   "outputs": [],
   "source": []
  },
  {
   "cell_type": "code",
   "execution_count": null,
   "id": "d3ef727a",
   "metadata": {},
   "outputs": [],
   "source": [
    "conteo_causas_spdf=df.fillna({\"AnoID\": \"Unknown\", \"CausaMuerteAsisID\": \"Unknown\",\"municipioResidencia\":\"Unknown\"})\\\n",
    "  .groupBy(\"CausaMuerteAsisID\",\"AnoID\",\"municipioResidencia\") \\\n",
    "  .count() \\\n",
    "  .orderBy(\"count\", ascending=False).collect()"
   ]
  },
  {
   "cell_type": "code",
   "execution_count": null,
   "id": "3bd870d7",
   "metadata": {},
   "outputs": [],
   "source": [
    "conteo_causas_spdf[0]"
   ]
  },
  {
   "cell_type": "code",
   "execution_count": null,
   "id": "e79a098e",
   "metadata": {},
   "outputs": [],
   "source": [
    "conteo_causas_df=pd.DataFrame(conteo_causas_spdf, columns=[\"CausaMuerteAsisID\",\"AnoID\",\"municipioResidencia\",\"count\"])"
   ]
  },
  {
   "cell_type": "code",
   "execution_count": null,
   "id": "819460fd",
   "metadata": {},
   "outputs": [],
   "source": [
    "conteo_causas_df=conteo_causas_df[conteo_causas_df['AnoID']!='AnoID']"
   ]
  },
  {
   "cell_type": "code",
   "execution_count": null,
   "id": "42c3b194",
   "metadata": {},
   "outputs": [],
   "source": [
    "conteo_causas_df.to_parquet(\"conteo_causas_df.parquet\", engine=\"pyarrow\", compression=\"snappy\")"
   ]
  },
  {
   "cell_type": "code",
   "execution_count": null,
   "id": "b308097e",
   "metadata": {},
   "outputs": [],
   "source": [
    "conteo_causas_df['count']=conteo_causas_df['count'].astype(int)"
   ]
  },
  {
   "cell_type": "code",
   "execution_count": null,
   "id": "3922f5ed",
   "metadata": {},
   "outputs": [],
   "source": [
    "len(conteo_causas_df['CausaMuerteAsisID'].unique())"
   ]
  },
  {
   "cell_type": "code",
   "execution_count": null,
   "id": "a0a5457e",
   "metadata": {},
   "outputs": [],
   "source": [
    "conteo_causas_df[conteo_causas_df['CausaMuerteAsisID'].str.contains(\"NO REP\")]"
   ]
  },
  {
   "cell_type": "code",
   "execution_count": null,
   "id": "ab2d63de",
   "metadata": {},
   "outputs": [],
   "source": [
    "conteo_causas_df"
   ]
  },
  {
   "cell_type": "code",
   "execution_count": null,
   "id": "69a44405",
   "metadata": {},
   "outputs": [],
   "source": [
    "#Total fallecidos\n",
    "conteo_causas_df['count'].sum()"
   ]
  },
  {
   "cell_type": "code",
   "execution_count": null,
   "id": "4ea3a2ba",
   "metadata": {},
   "outputs": [],
   "source": [
    "# Muertes sin CausaMuerteAsisID \n",
    "conteo_causas_df[conteo_causas_df['CausaMuerteAsisID']=='Unknown']"
   ]
  },
  {
   "cell_type": "code",
   "execution_count": null,
   "id": "5ca2a31e",
   "metadata": {},
   "outputs": [],
   "source": [
    "# Muertes sin municipioResidencia \n",
    "conteo_causas_df[conteo_causas_df['municipioResidencia']=='Unknown']"
   ]
  },
  {
   "cell_type": "code",
   "execution_count": null,
   "id": "1cbbc840",
   "metadata": {},
   "outputs": [],
   "source": [
    "conteo_causas_df[conteo_causas_df['AnoID']=='Unknown']"
   ]
  },
  {
   "cell_type": "code",
   "execution_count": null,
   "id": "7cddd0b1",
   "metadata": {},
   "outputs": [],
   "source": [
    "# Quitar filas que no tienen causa\n",
    "print(conteo_causas_df.shape)\n",
    "conteo_causas_df = conteo_causas_df[conteo_causas_df['CausaMuerteAsisID']!='Unknown']\n",
    "print(conteo_causas_df.shape)"
   ]
  },
  {
   "cell_type": "code",
   "execution_count": null,
   "id": "1cc15103",
   "metadata": {},
   "outputs": [],
   "source": [
    "conteo_causas_df.sample(10)"
   ]
  },
  {
   "cell_type": "code",
   "execution_count": null,
   "id": "b00931ff",
   "metadata": {},
   "outputs": [],
   "source": [
    "conteo_causas_df.groupby('AnoID').agg({'count':'sum'})"
   ]
  },
  {
   "cell_type": "code",
   "execution_count": null,
   "id": "66a38461",
   "metadata": {},
   "outputs": [],
   "source": [
    "conteo_causas_df['AnoID']=pd.to_numeric(conteo_causas_df['AnoID'], errors='coerce')"
   ]
  },
  {
   "cell_type": "code",
   "execution_count": null,
   "id": "7e91e989",
   "metadata": {},
   "outputs": [],
   "source": [
    "conteo_causas_df = conteo_causas_df[conteo_causas_df['AnoID']<2024]"
   ]
  },
  {
   "cell_type": "code",
   "execution_count": null,
   "id": "6e5aef2e",
   "metadata": {},
   "outputs": [],
   "source": [
    "df.where(col(\"FechaDefuncionAAAAMM\") == \"2024\").head()"
   ]
  },
  {
   "cell_type": "code",
   "execution_count": null,
   "id": "839afaa2",
   "metadata": {},
   "outputs": [],
   "source": [
    "df.where(col(\"FechaDefuncionAAAAMM\").isNull()).head(15)"
   ]
  },
  {
   "cell_type": "code",
   "execution_count": null,
   "id": "64fefbff",
   "metadata": {},
   "outputs": [],
   "source": [
    "conteo_causas_df['count'].sum()"
   ]
  },
  {
   "cell_type": "code",
   "execution_count": null,
   "id": "03b28a8c",
   "metadata": {},
   "outputs": [],
   "source": [
    "ranking_df=conteo_causas_df.groupby('CausaMuerteAsisID')['count'].sum().to_frame().sort_values(by='count',ascending=False)"
   ]
  },
  {
   "cell_type": "code",
   "execution_count": null,
   "id": "4add8e7c",
   "metadata": {},
   "outputs": [],
   "source": [
    "ranking_df.shape"
   ]
  },
  {
   "cell_type": "code",
   "execution_count": null,
   "id": "589362b4",
   "metadata": {},
   "outputs": [],
   "source": [
    "ranking_df.nlargest(20,'count')"
   ]
  },
  {
   "cell_type": "code",
   "execution_count": null,
   "id": "46797666",
   "metadata": {},
   "outputs": [],
   "source": [
    "ranking_df.nlargest(20,'count')['count'].sum()/conteo_causas_df['count'].sum()"
   ]
  },
  {
   "cell_type": "code",
   "execution_count": null,
   "id": "5eb859fe",
   "metadata": {},
   "outputs": [],
   "source": [
    "ranking_df.reset_index()[ranking_df.reset_index()['CausaMuerteAsisID'].str.startswith('I25').reset_index(drop=True)]"
   ]
  },
  {
   "cell_type": "code",
   "execution_count": null,
   "id": "f6ef7e52",
   "metadata": {},
   "outputs": [],
   "source": [
    "ranking_df.reset_index()[ranking_df.reset_index()['CausaMuerteAsisID'].str.startswith('I67').reset_index(drop=True)]"
   ]
  },
  {
   "cell_type": "code",
   "execution_count": null,
   "id": "178818d2",
   "metadata": {},
   "outputs": [],
   "source": [
    "ranking_df.reset_index()[ranking_df.reset_index()['CausaMuerteAsisID'].str.startswith('I69').reset_index(drop=True)]"
   ]
  },
  {
   "cell_type": "code",
   "execution_count": null,
   "id": "cbc1652e",
   "metadata": {},
   "outputs": [],
   "source": [
    "# ranking general\n",
    "top_20_df=conteo_causas_df.groupby('CausaMuerteAsisID')['count'].sum().to_frame().sort_values(by='count',ascending=False).head(20)\n",
    "top_20_df"
   ]
  },
  {
   "cell_type": "code",
   "execution_count": null,
   "id": "4fc1a163",
   "metadata": {},
   "outputs": [],
   "source": [
    "# Porcentaje top 20 vs total\n",
    "top_20_df['count'].sum()/conteo_causas_df['count'].sum()"
   ]
  },
  {
   "cell_type": "code",
   "execution_count": null,
   "id": "161de378",
   "metadata": {},
   "outputs": [],
   "source": [
    "# Porcentaje total no definido\n",
    "196485/conteo_causas_df['count'].sum()"
   ]
  },
  {
   "cell_type": "code",
   "execution_count": null,
   "id": "ba8cdd1a",
   "metadata": {},
   "outputs": [],
   "source": [
    "# Cardiovasculares en top 20\n",
    "filtered_index = [cause for cause in top_20_df.index if cause.startswith('I')]\n",
    "\n",
    "# Creating a DataFrame with filtered index\n",
    "top_20_df.loc[filtered_index].nlargest(3, 'count')\n",
    "\n"
   ]
  },
  {
   "cell_type": "code",
   "execution_count": null,
   "id": "7ca1ed38",
   "metadata": {},
   "outputs": [],
   "source": [
    "top_20_df.loc[filtered_index].nlargest(3, 'count').sum()#/conteo_causas_df['count'].sum()"
   ]
  },
  {
   "cell_type": "code",
   "execution_count": null,
   "id": "0805af65",
   "metadata": {},
   "outputs": [],
   "source": [
    "# Pulmonares en top 20\n",
    "filtered_index = [cause for cause in top_20_df.index if cause.startswith('J')]\n",
    "\n",
    "# Creating a DataFrame with filtered index\n",
    "top_20_df.loc[filtered_index].nlargest(3, 'count')"
   ]
  },
  {
   "cell_type": "code",
   "execution_count": null,
   "id": "655a1909",
   "metadata": {},
   "outputs": [],
   "source": [
    "top_20_df.loc[filtered_index].sum()"
   ]
  },
  {
   "cell_type": "code",
   "execution_count": null,
   "id": "f0bba799",
   "metadata": {},
   "outputs": [],
   "source": [
    "168834/conteo_causas_df['count'].sum()"
   ]
  },
  {
   "cell_type": "code",
   "execution_count": null,
   "id": "e100ab82",
   "metadata": {},
   "outputs": [],
   "source": [
    "# Cancer en top 20\n",
    "# Pulmonares en top 20\n",
    "filtered_index = [cause for cause in top_20_df.index if cause.startswith('C')]\n",
    "# Creating a DataFrame with filtered index\n",
    "top_20_df.loc[filtered_index]"
   ]
  },
  {
   "cell_type": "code",
   "execution_count": null,
   "id": "153ba986",
   "metadata": {},
   "outputs": [],
   "source": [
    "top_20_df.loc[filtered_index].sum()"
   ]
  },
  {
   "cell_type": "code",
   "execution_count": null,
   "id": "dde2f8dd",
   "metadata": {},
   "outputs": [],
   "source": [
    "185275/conteo_causas_df['count'].sum()"
   ]
  },
  {
   "cell_type": "code",
   "execution_count": null,
   "id": "ae987e68",
   "metadata": {},
   "outputs": [],
   "source": [
    "# Eventos por agresiones por armas de fuego en top 20\n",
    "\n",
    "filtered_index = [cause for cause in top_20_df.index if cause.startswith('X')]\n",
    "# Creating a DataFrame with filtered index\n",
    "top_20_df.loc[filtered_index]"
   ]
  },
  {
   "cell_type": "code",
   "execution_count": null,
   "id": "57e5053f",
   "metadata": {},
   "outputs": [],
   "source": [
    "top_20_df.loc[filtered_index].sum()"
   ]
  },
  {
   "cell_type": "code",
   "execution_count": null,
   "id": "2b0381be",
   "metadata": {},
   "outputs": [],
   "source": [
    "63625/conteo_causas_df['count'].sum()"
   ]
  },
  {
   "cell_type": "code",
   "execution_count": null,
   "id": "88babb7a",
   "metadata": {},
   "outputs": [],
   "source": [
    "unnormalized_df = (\n",
    "    conteo_causas_df\n",
    "    .groupby(['AnoID', 'CausaMuerteAsisID'])['count']\n",
    "    .sum()  # Aggregate across all municipalities\n",
    "    .unstack(fill_value=0)  # Pivot the table\n",
    ")"
   ]
  },
  {
   "cell_type": "code",
   "execution_count": null,
   "id": "820ea1b5",
   "metadata": {},
   "outputs": [],
   "source": [
    "unnormalized_df"
   ]
  },
  {
   "cell_type": "code",
   "execution_count": null,
   "id": "d185c6d8",
   "metadata": {},
   "outputs": [],
   "source": [
    "unnormalized_df=unnormalized_df.astype(int)"
   ]
  },
  {
   "cell_type": "code",
   "execution_count": null,
   "id": "11320e06",
   "metadata": {},
   "outputs": [],
   "source": [
    "unnormalized_df[(unnormalized_df.sum().sort_values(ascending=False).index)[0:50]]"
   ]
  },
  {
   "cell_type": "code",
   "execution_count": null,
   "id": "08ee206e",
   "metadata": {},
   "outputs": [],
   "source": [
    "unnormalized_df.index=pd.to_numeric(unnormalized_df.index)"
   ]
  },
  {
   "cell_type": "code",
   "execution_count": null,
   "id": "83dc77dd",
   "metadata": {},
   "outputs": [],
   "source": [
    "unnormalized_df['1 - NO DEFINIDO']/unnormalized_df.sum(axis=1)"
   ]
  },
  {
   "cell_type": "code",
   "execution_count": null,
   "id": "deea9546",
   "metadata": {},
   "outputs": [],
   "source": [
    "unnormalized_df.columns"
   ]
  },
  {
   "cell_type": "code",
   "execution_count": null,
   "id": "f76f2cf7",
   "metadata": {},
   "outputs": [],
   "source": [
    "unique_years = conteo_causas_df[\"AnoID\"].unique()\n",
    "unique_causes = conteo_causas_df[\"CausaMuerteAsisID\"].unique()\n",
    "unique_municipios = conteo_causas_df[\"municipioResidencia\"].unique()"
   ]
  },
  {
   "cell_type": "code",
   "execution_count": null,
   "id": "a33c6782",
   "metadata": {},
   "outputs": [],
   "source": [
    "agrupacion_agora_df.head()"
   ]
  },
  {
   "cell_type": "code",
   "execution_count": null,
   "id": "09ab3d72",
   "metadata": {},
   "outputs": [],
   "source": [
    "print(len(unique_years))\n",
    "print(len(unique_causes))\n",
    "print(len(unique_municipios))"
   ]
  },
  {
   "cell_type": "code",
   "execution_count": null,
   "id": "702ae4ea",
   "metadata": {},
   "outputs": [],
   "source": [
    "# Se crea una combinación de todas las posibles combinaciones de causas , ubicaciones y años\n",
    "from itertools import product\n",
    "all_combinations = pd.DataFrame(product(unique_years, unique_causes, unique_municipios), columns=[\"AnoID\", \"CausaMuerteAsisID\",\"municipioResidencia\"])\n",
    "\n",
    "# Merge con los datos originales\n",
    "conteo_causas_complete = all_combinations.merge(conteo_causas_df, on=[\"AnoID\", \"CausaMuerteAsisID\",\"municipioResidencia\"], how=\"left\").fillna(0)"
   ]
  },
  {
   "cell_type": "code",
   "execution_count": null,
   "id": "41aa7dc8",
   "metadata": {},
   "outputs": [],
   "source": [
    "conteo_causas_complete['icd10']=conteo_causas_complete['CausaMuerteAsisID'].str.split(\"-\").str[0].apply(lambda x:str(x.strip()))"
   ]
  },
  {
   "cell_type": "code",
   "execution_count": null,
   "id": "09ac49d1",
   "metadata": {},
   "outputs": [],
   "source": [
    "conteo_causas_complete.dtypes"
   ]
  },
  {
   "cell_type": "code",
   "execution_count": null,
   "id": "ce9e27d1",
   "metadata": {},
   "outputs": [],
   "source": []
  },
  {
   "cell_type": "code",
   "execution_count": null,
   "id": "1904ed6e",
   "metadata": {},
   "outputs": [],
   "source": [
    "conteo_causas_complete['icd10'].apply(len).value_counts()"
   ]
  },
  {
   "cell_type": "code",
   "execution_count": null,
   "id": "c17abc33",
   "metadata": {},
   "outputs": [],
   "source": [
    "conteo_causas_complete['icd10_cat']=conteo_causas_complete['icd10'].str[:3]"
   ]
  },
  {
   "cell_type": "code",
   "execution_count": null,
   "id": "25ead589",
   "metadata": {},
   "outputs": [],
   "source": [
    "# Compute rankings per year\n",
    "ranking_df = (\n",
    "    conteo_causas_complete.groupby([\"AnoID\", \"CausaMuerteAsisID\"])[\"count\"].sum().reset_index().groupby(\"AnoID\")\n",
    "    .apply(lambda x: x.assign(Rank=x[\"count\"].rank(method=\"dense\", ascending=False)))\n",
    "    .reset_index(drop=True)\n",
    ")"
   ]
  },
  {
   "cell_type": "code",
   "execution_count": null,
   "id": "3c3e8fa5",
   "metadata": {},
   "outputs": [],
   "source": [
    "ranking_df"
   ]
  },
  {
   "cell_type": "code",
   "execution_count": null,
   "id": "bba7fb14",
   "metadata": {},
   "outputs": [],
   "source": [
    "ranking_df['count'] = ranking_df['count'].astype(int)"
   ]
  },
  {
   "cell_type": "code",
   "execution_count": null,
   "id": "1c3072a9",
   "metadata": {},
   "outputs": [],
   "source": [
    "ranking_df['Rank'] = ranking_df['Rank'].astype(int)"
   ]
  },
  {
   "cell_type": "code",
   "execution_count": null,
   "id": "736abec0",
   "metadata": {},
   "outputs": [],
   "source": [
    "count_pivot_df = ranking_df.pivot(index=\"CausaMuerteAsisID\", columns=\"AnoID\", values=\"count\")"
   ]
  },
  {
   "cell_type": "code",
   "execution_count": null,
   "id": "fb152ea2",
   "metadata": {},
   "outputs": [],
   "source": [
    "count_mask=count_pivot_df[count_pivot_df!=0]"
   ]
  },
  {
   "cell_type": "code",
   "execution_count": null,
   "id": "7637981c",
   "metadata": {},
   "outputs": [],
   "source": [
    "count_mask"
   ]
  },
  {
   "cell_type": "code",
   "execution_count": null,
   "id": "cbae9e18",
   "metadata": {},
   "outputs": [],
   "source": [
    "ranking_pivot_df = ranking_df.pivot(index=\"CausaMuerteAsisID\", columns=\"AnoID\", values=\"Rank\")"
   ]
  },
  {
   "cell_type": "code",
   "execution_count": null,
   "id": "a306011f",
   "metadata": {},
   "outputs": [],
   "source": [
    "ranking_pivot_df = ranking_pivot_df[count_mask.isna()==False]"
   ]
  },
  {
   "cell_type": "code",
   "execution_count": null,
   "id": "e39d5a65",
   "metadata": {},
   "outputs": [],
   "source": [
    "ranking_pivot_df.loc[ranking_pivot_df[ (ranking_pivot_df <= 10)].dropna(how='all').index]"
   ]
  },
  {
   "cell_type": "code",
   "execution_count": null,
   "id": "38a12eb9",
   "metadata": {},
   "outputs": [],
   "source": [
    "\n",
    "filtered_ranking_any_top10_df = ranking_pivot_df.loc[ranking_pivot_df[ (ranking_pivot_df <= 10)].dropna(how='all').index]\n"
   ]
  },
  {
   "cell_type": "code",
   "execution_count": null,
   "id": "0583c2cc",
   "metadata": {},
   "outputs": [],
   "source": [
    "filtered_ranking_any_top10_df"
   ]
  },
  {
   "cell_type": "code",
   "execution_count": null,
   "id": "440f62fe",
   "metadata": {},
   "outputs": [],
   "source": [
    "# Diagnosticos en alguno momento top 20 que aparecen en la base de datos en al menos 5 años del proceso de análisis\n",
    "filtered_ranking_any_top10_df.loc[filtered_ranking_any_top10_df[ (ranking_pivot_df <= 20)].isna().sum(axis=1)<5]"
   ]
  },
  {
   "cell_type": "code",
   "execution_count": null,
   "id": "388d6b34",
   "metadata": {},
   "outputs": [],
   "source": [
    "filtered_ranking_any_top10_df=filtered_ranking_any_top10_df.loc[filtered_ranking_any_top10_df[ (ranking_pivot_df <= 20)].isna().sum(axis=1)<5]"
   ]
  },
  {
   "cell_type": "code",
   "execution_count": null,
   "id": "ea7375be",
   "metadata": {},
   "outputs": [],
   "source": [
    "# Ordenar categorias por ranking promedio\n",
    "filtered_ranking_any_top10_df.mean(axis=1).sort_values()"
   ]
  },
  {
   "cell_type": "code",
   "execution_count": null,
   "id": "2fcfac4b",
   "metadata": {},
   "outputs": [],
   "source": [
    "filtered_ranking_any_top10_df=filtered_ranking_any_top10_df.loc[filtered_ranking_any_top10_df.mean(axis=1).sort_values().index]"
   ]
  },
  {
   "cell_type": "code",
   "execution_count": null,
   "id": "ec2a6e64",
   "metadata": {},
   "outputs": [],
   "source": [
    "filtered_ranking_any_top10_df"
   ]
  },
  {
   "cell_type": "code",
   "execution_count": null,
   "id": "b6cbc3f9",
   "metadata": {},
   "outputs": [],
   "source": [
    "# Melt the dataframe into long format\n",
    "df_melted = filtered_ranking_any_top10_df.reset_index().melt(id_vars='CausaMuerteAsisID', var_name='AnoID', value_name='Rank')"
   ]
  },
  {
   "cell_type": "code",
   "execution_count": null,
   "id": "f26d0649",
   "metadata": {},
   "outputs": [],
   "source": [
    "# Rename columns for clarity\n",
    "df_melted.rename(columns={'CausaMuerteAsisID': 'CIE-10'}, inplace=True)\n",
    "\n",
    "# Function to extract substring before \"-\" unless it starts with \"1\"\n",
    "def clean_category_name(category):\n",
    "    if category.startswith('1'):  # Keep categories starting with \"1\" unchanged\n",
    "        return category\n",
    "    return category.split('-')[0]  # Extract substring before \"-\"\n",
    "\n",
    "# Apply transformation to the column\n",
    "df_melted['CIE-10'] = df_melted['CIE-10'].apply(clean_category_name)\n",
    "\n",
    "# Convert Year to numeric (in case it's not already)\n",
    "df_melted['Year'] = pd.to_numeric(df_melted['AnoID'])\n",
    "\n",
    "# Plot bump chart\n",
    "plt.figure(figsize=(24, 12))\n",
    "categories = df_melted['CIE-10'].unique()\n",
    "\n",
    "markers = itertools.cycle(['o', 's', 'D', '^', 'v', '<', '>', 'p', '*', 'X', \n",
    "                           'h'])\n",
    "\n",
    "colors =sns.color_palette(\"tab20\")\n",
    "\n",
    "\n",
    "\n",
    "\n",
    "for i, category in enumerate(categories):\n",
    "    category_data = df_melted[df_melted['CIE-10'] == category]\n",
    "    plt.plot(category_data['Year'], category_data['Rank'], color=colors[(i % len(colors))],\n",
    "             marker=next(markers), linestyle='-', linewidth=2.5,markersize=12,label=category)\n",
    "\n",
    "# Customize plot\n",
    "plt.gca().invert_yaxis()  # Lower rank (1) should be at the top\n",
    "plt.xticks(sorted(df_melted['Year'].unique()), fontsize=16, rotation=45)  # Ensure all years are displayed\n",
    "plt.yticks(range(1, int(df_melted['Rank'].max()+1)), fontsize=16)  # Show ranks 1 to 20\n",
    "plt.xlabel('Año', fontsize=18, fontweight='bold')\n",
    "plt.ylabel('Ranking', fontsize=18, fontweight='bold')\n",
    "plt.title('Ranking por Año de Causas CIE-10', fontsize=22, fontweight='bold')\n",
    "# Move legend below the graph with better spacing\n",
    "plt.legend(title=\"Código CIE-10\", loc='upper left', bbox_to_anchor=(1.05, 1), \n",
    "           ncol=1, fontsize=14, title_fontsize=16, frameon=True)\n",
    "\n",
    "plt.grid(True, linestyle='-', alpha=0.9)\n",
    "#plt.yscale('log')\n",
    "\n",
    "\n",
    "# Show the chart\n",
    "plt.show()"
   ]
  },
  {
   "cell_type": "code",
   "execution_count": null,
   "id": "7a70205f",
   "metadata": {},
   "outputs": [],
   "source": [
    "## REvisar ubicación de "
   ]
  },
  {
   "cell_type": "code",
   "execution_count": null,
   "id": "0fbb563d",
   "metadata": {},
   "outputs": [],
   "source": [
    "ranking_diff_df = ranking_pivot_df.diff(axis=1)"
   ]
  },
  {
   "cell_type": "code",
   "execution_count": null,
   "id": "921f4e23",
   "metadata": {},
   "outputs": [],
   "source": [
    "del ranking_diff_df[2014]"
   ]
  },
  {
   "cell_type": "code",
   "execution_count": null,
   "id": "b51bd385",
   "metadata": {},
   "outputs": [],
   "source": [
    "ranking_df[ranking_df[\"AnoID\"]==\"2015\"]"
   ]
  },
  {
   "cell_type": "markdown",
   "id": "ac34f6af",
   "metadata": {},
   "source": [
    "### Ranking 2015"
   ]
  },
  {
   "cell_type": "code",
   "execution_count": null,
   "id": "2549a111",
   "metadata": {},
   "outputs": [],
   "source": [
    "results_ranking_2015_df = ranking_diff_df[2015].sort_values().to_frame().merge(ranking_df[ranking_df[\"AnoID\"]==2015], on='CausaMuerteAsisID').merge(ranking_df[ranking_df[\"AnoID\"]==\"2014\"], on='CausaMuerteAsisID')\n",
    "results_ranking_2015_df.columns=['CausaMuerteAsisID','diff_ranking','AnoID','conteo_anio','ranking_actual','AnoID_anterior','conteo_anio_anterior','ranking_anio_anterior']"
   ]
  },
  {
   "cell_type": "code",
   "execution_count": null,
   "id": "084c0230",
   "metadata": {},
   "outputs": [],
   "source": [
    "results_ranking_2015_df[results_ranking_2015_df['conteo_anio_anterior']!=0].nsmallest(20,'diff_ranking')"
   ]
  },
  {
   "cell_type": "code",
   "execution_count": null,
   "id": "628f5231",
   "metadata": {},
   "outputs": [],
   "source": [
    "results_ranking_2015_df[results_ranking_2015_df['conteo_anio']!=0].nlargest(20,'diff_ranking')"
   ]
  },
  {
   "cell_type": "markdown",
   "id": "7f87e66e",
   "metadata": {},
   "source": [
    "### Ranking 2016"
   ]
  },
  {
   "cell_type": "code",
   "execution_count": null,
   "id": "802f2d9c",
   "metadata": {},
   "outputs": [],
   "source": [
    "results_ranking_2016_df = ranking_diff_df[2016].sort_values().to_frame().merge(ranking_df[ranking_df[\"AnoID\"]==2016], on='CausaMuerteAsisID').merge(ranking_df[ranking_df[\"AnoID\"]==2015], on='CausaMuerteAsisID')\n",
    "results_ranking_2016_df.columns=['CausaMuerteAsisID','diff_ranking','AnoID','conteo_anio','ranking_actual','AnoID_anterior','conteo_anio_anterior','ranking_anio_anterior']"
   ]
  },
  {
   "cell_type": "code",
   "execution_count": null,
   "id": "5527c6a0",
   "metadata": {},
   "outputs": [],
   "source": [
    "results_ranking_2016_df[results_ranking_2016_df['conteo_anio_anterior']!=0].nsmallest(20,'diff_ranking')"
   ]
  },
  {
   "cell_type": "code",
   "execution_count": null,
   "id": "ba79b048",
   "metadata": {},
   "outputs": [],
   "source": [
    "results_ranking_2016_df[results_ranking_2016_df['conteo_anio']!=0].nlargest(20,'diff_ranking')"
   ]
  },
  {
   "cell_type": "markdown",
   "id": "77c335ee",
   "metadata": {},
   "source": [
    "### Ranking 2017"
   ]
  },
  {
   "cell_type": "code",
   "execution_count": null,
   "id": "e83d8f83",
   "metadata": {},
   "outputs": [],
   "source": [
    "results_ranking_2017_df = ranking_diff_df[\"2017\"].sort_values().to_frame().merge(ranking_df[ranking_df[\"AnoID\"]==\"2017\"], on='CausaMuerteAsisID').merge(ranking_df[ranking_df[\"AnoID\"]==\"2016\"], on='CausaMuerteAsisID')\n",
    "results_ranking_2017_df.columns=['CausaMuerteAsisID','diff_ranking','AnoID','conteo_anio','ranking_actual','AnoID_anterior','conteo_anio_anterior','ranking_anio_anterior']"
   ]
  },
  {
   "cell_type": "code",
   "execution_count": null,
   "id": "8effcb1d",
   "metadata": {},
   "outputs": [],
   "source": [
    "results_ranking_2017_df[results_ranking_2017_df['conteo_anio_anterior']!=0].nsmallest(20,'diff_ranking')"
   ]
  },
  {
   "cell_type": "code",
   "execution_count": null,
   "id": "08cd8528",
   "metadata": {},
   "outputs": [],
   "source": [
    "results_ranking_2017_df[results_ranking_2017_df['conteo_anio']!=0].nlargest(20,'diff_ranking')"
   ]
  },
  {
   "cell_type": "markdown",
   "id": "6c26e9c7",
   "metadata": {},
   "source": [
    "### Ranking 2018"
   ]
  },
  {
   "cell_type": "code",
   "execution_count": null,
   "id": "1551f11e",
   "metadata": {},
   "outputs": [],
   "source": [
    "results_ranking_2018_df = ranking_diff_df[\"2018\"].sort_values().to_frame().merge(ranking_df[ranking_df[\"AnoID\"]==\"2018\"], on='CausaMuerteAsisID').merge(ranking_df[ranking_df[\"AnoID\"]==\"2017\"], on='CausaMuerteAsisID')\n",
    "results_ranking_2018_df.columns=['CausaMuerteAsisID','diff_ranking','AnoID','conteo_anio','ranking_actual','AnoID_anterior','conteo_anio_anterior','ranking_anio_anterior']"
   ]
  },
  {
   "cell_type": "code",
   "execution_count": null,
   "id": "0fcf82fd",
   "metadata": {},
   "outputs": [],
   "source": [
    "results_ranking_2018_df[results_ranking_2018_df['conteo_anio_anterior']!=0].nsmallest(20,'diff_ranking')"
   ]
  },
  {
   "cell_type": "code",
   "execution_count": null,
   "id": "34b7bb3c",
   "metadata": {},
   "outputs": [],
   "source": [
    "results_ranking_2018_df[results_ranking_2018_df['conteo_anio']!=0].nlargest(20,'diff_ranking')"
   ]
  },
  {
   "cell_type": "markdown",
   "id": "f1b5e5fb",
   "metadata": {},
   "source": [
    "### Ranking 2019"
   ]
  },
  {
   "cell_type": "code",
   "execution_count": null,
   "id": "09d4d5b1",
   "metadata": {},
   "outputs": [],
   "source": [
    "results_ranking_2019_df = ranking_diff_df[\"2019\"].sort_values().to_frame().merge(ranking_df[ranking_df[\"AnoID\"]==\"2019\"], on='CausaMuerteAsisID').merge(ranking_df[ranking_df[\"AnoID\"]==\"2018\"], on='CausaMuerteAsisID')\n",
    "results_ranking_2019_df.columns=['CausaMuerteAsisID','diff_ranking','AnoID','conteo_anio','ranking_actual','AnoID_anterior','conteo_anio_anterior','ranking_anio_anterior']"
   ]
  },
  {
   "cell_type": "code",
   "execution_count": null,
   "id": "bd34aefd",
   "metadata": {},
   "outputs": [],
   "source": [
    "results_ranking_2019_df[results_ranking_2019_df['conteo_anio_anterior']!=0].nsmallest(20,'diff_ranking')"
   ]
  },
  {
   "cell_type": "code",
   "execution_count": null,
   "id": "a24ccaee",
   "metadata": {},
   "outputs": [],
   "source": [
    "results_ranking_2019_df[results_ranking_2019_df['conteo_anio']!=0].nlargest(20,'diff_ranking')"
   ]
  },
  {
   "cell_type": "markdown",
   "id": "5232a560",
   "metadata": {},
   "source": [
    "### Ranking 2020"
   ]
  },
  {
   "cell_type": "code",
   "execution_count": null,
   "id": "b4a9c4ed",
   "metadata": {},
   "outputs": [],
   "source": [
    "results_ranking_2020_df = ranking_diff_df[\"2020\"].sort_values().to_frame().merge(ranking_df[ranking_df[\"AnoID\"]==\"2020\"], on='CausaMuerteAsisID').merge(ranking_df[ranking_df[\"AnoID\"]==\"2019\"], on='CausaMuerteAsisID')\n",
    "results_ranking_2020_df.columns=['CausaMuerteAsisID','diff_ranking','AnoID','conteo_anio','ranking_actual','AnoID_anterior','conteo_anio_anterior','ranking_anio_anterior']"
   ]
  },
  {
   "cell_type": "code",
   "execution_count": null,
   "id": "d5ada02c",
   "metadata": {},
   "outputs": [],
   "source": [
    "results_ranking_2020_df[results_ranking_2020_df['conteo_anio_anterior']!=0].nsmallest(20,'diff_ranking')"
   ]
  },
  {
   "cell_type": "code",
   "execution_count": null,
   "id": "b770a33f",
   "metadata": {},
   "outputs": [],
   "source": [
    "results_ranking_2020_df[results_ranking_2020_df['conteo_anio']!=0].nlargest(20,'diff_ranking')"
   ]
  },
  {
   "cell_type": "markdown",
   "id": "0b9f604e",
   "metadata": {},
   "source": [
    "### Ranking 2021"
   ]
  },
  {
   "cell_type": "code",
   "execution_count": null,
   "id": "7ac2e196",
   "metadata": {},
   "outputs": [],
   "source": [
    "results_ranking_2021_df = ranking_diff_df[\"2021\"].sort_values().to_frame().merge(ranking_df[ranking_df[\"AnoID\"]==\"2021\"], on='CausaMuerteAsisID').merge(ranking_df[ranking_df[\"AnoID\"]==\"2020\"], on='CausaMuerteAsisID')\n",
    "results_ranking_2021_df.columns=['CausaMuerteAsisID','diff_ranking','AnoID','conteo_anio','ranking_actual','AnoID_anterior','conteo_anio_anterior','ranking_anio_anterior']"
   ]
  },
  {
   "cell_type": "code",
   "execution_count": null,
   "id": "74a4b446",
   "metadata": {},
   "outputs": [],
   "source": [
    "results_ranking_2021_df[results_ranking_2021_df['conteo_anio_anterior']!=0].nsmallest(20,'diff_ranking')"
   ]
  },
  {
   "cell_type": "code",
   "execution_count": null,
   "id": "9dfbc091",
   "metadata": {},
   "outputs": [],
   "source": [
    "results_ranking_2021_df[results_ranking_2021_df['conteo_anio']!=0].nlargest(20,'diff_ranking')"
   ]
  },
  {
   "cell_type": "markdown",
   "id": "e80c9af8",
   "metadata": {},
   "source": [
    "### Ranking 2022"
   ]
  },
  {
   "cell_type": "code",
   "execution_count": null,
   "id": "78d4e5bf",
   "metadata": {},
   "outputs": [],
   "source": [
    "results_ranking_2022_df = ranking_diff_df[\"2022\"].sort_values().to_frame().merge(ranking_df[ranking_df[\"AnoID\"]==\"2022\"], on='CausaMuerteAsisID').merge(ranking_df[ranking_df[\"AnoID\"]==\"2021\"], on='CausaMuerteAsisID')\n",
    "results_ranking_2022_df.columns=['CausaMuerteAsisID','diff_ranking','AnoID','conteo_anio','ranking_actual','AnoID_anterior','conteo_anio_anterior','ranking_anio_anterior']"
   ]
  },
  {
   "cell_type": "code",
   "execution_count": null,
   "id": "55bed499",
   "metadata": {},
   "outputs": [],
   "source": [
    "results_ranking_2022_df[results_ranking_2022_df['conteo_anio_anterior']!=0].nsmallest(20,'diff_ranking')"
   ]
  },
  {
   "cell_type": "code",
   "execution_count": null,
   "id": "5aa9e4c5",
   "metadata": {},
   "outputs": [],
   "source": [
    "results_ranking_2022_df[results_ranking_2022_df['conteo_anio']!=0].nlargest(20,'diff_ranking')"
   ]
  },
  {
   "cell_type": "markdown",
   "id": "17bc3425",
   "metadata": {},
   "source": [
    "### Ranking 2023"
   ]
  },
  {
   "cell_type": "code",
   "execution_count": null,
   "id": "69a5d019",
   "metadata": {},
   "outputs": [],
   "source": [
    "results_ranking_2023_df = ranking_diff_df[\"2023\"].sort_values().to_frame().merge(ranking_df[ranking_df[\"AnoID\"]==\"2023\"], on='CausaMuerteAsisID').merge(ranking_df[ranking_df[\"AnoID\"]==\"2022\"], on='CausaMuerteAsisID')\n",
    "results_ranking_2023_df.columns=['CausaMuerteAsisID','diff_ranking','AnoID','conteo_anio','ranking_actual','AnoID_anterior','conteo_anio_anterior','ranking_anio_anterior']"
   ]
  },
  {
   "cell_type": "code",
   "execution_count": null,
   "id": "8117ee18",
   "metadata": {},
   "outputs": [],
   "source": [
    "results_ranking_2023_df[results_ranking_2023_df['conteo_anio_anterior']!=0].nsmallest(20,'diff_ranking')"
   ]
  },
  {
   "cell_type": "code",
   "execution_count": null,
   "id": "ed996a8e",
   "metadata": {},
   "outputs": [],
   "source": [
    "results_ranking_2023_df[results_ranking_2023_df['conteo_anio']!=0].nlargest(20,'diff_ranking')"
   ]
  },
  {
   "cell_type": "markdown",
   "id": "90147775",
   "metadata": {},
   "source": [
    "# Ranking nivel categoría"
   ]
  },
  {
   "cell_type": "code",
   "execution_count": null,
   "id": "37afb7ad",
   "metadata": {},
   "outputs": [],
   "source": [
    "agrupacion_agora_df= pd.read_excel('Lista morbilidades-AgoraCie10.xlsx')"
   ]
  },
  {
   "cell_type": "code",
   "execution_count": null,
   "id": "d27bc02f",
   "metadata": {},
   "outputs": [],
   "source": [
    "agrupacion_agora_df.head()"
   ]
  },
  {
   "cell_type": "code",
   "execution_count": null,
   "id": "e1a08ba7",
   "metadata": {},
   "outputs": [],
   "source": [
    "agrupacion_agora_df.columns"
   ]
  },
  {
   "cell_type": "code",
   "execution_count": null,
   "id": "cf13a3fd",
   "metadata": {},
   "outputs": [],
   "source": [
    "conteo_causas_complete=conteo_causas_complete.merge(agrupacion_agora_df[['codigo','categoria_cie10','grupos_agora','charlson_clas']], left_on='icd10',right_on='codigo', how='left')"
   ]
  },
  {
   "cell_type": "code",
   "execution_count": null,
   "id": "4d859025",
   "metadata": {},
   "outputs": [],
   "source": [
    "conteo_causas_complete.head()"
   ]
  },
  {
   "cell_type": "code",
   "execution_count": null,
   "id": "c664e855",
   "metadata": {},
   "outputs": [],
   "source": [
    "conteo_causas_complete[(conteo_causas_complete['categoria_cie10'].isna())&(conteo_causas_complete['icd10']=='1')]"
   ]
  },
  {
   "cell_type": "code",
   "execution_count": null,
   "id": "d2d8c43e",
   "metadata": {},
   "outputs": [],
   "source": [
    "mask = (conteo_causas_complete['categoria_cie10'].isna()) & (conteo_causas_complete['icd10'] == '1')\n",
    "columns_to_update = ['codigo', 'categoria_cie10', 'grupos_agora']\n",
    "conteo_causas_complete.loc[mask, columns_to_update] = \"1-NO DEFINIDO\""
   ]
  },
  {
   "cell_type": "code",
   "execution_count": null,
   "id": "318ff9aa",
   "metadata": {},
   "outputs": [],
   "source": [
    "conteo_causas_complete[conteo_causas_complete['categoria_cie10'].isna()]"
   ]
  },
  {
   "cell_type": "code",
   "execution_count": null,
   "id": "9c0b086d",
   "metadata": {},
   "outputs": [],
   "source": [
    "# Compute rankings per year\n",
    "ranking_cie10cat_df = (\n",
    "    conteo_causas_complete.groupby([\"AnoID\", \"categoria_cie10\"])[\"count\"].sum().reset_index().groupby(\"AnoID\")\n",
    "    .apply(lambda x: x.assign(Rank=x[\"count\"].rank(method=\"dense\", ascending=False)))\n",
    "    .reset_index(drop=True)\n",
    ")"
   ]
  },
  {
   "cell_type": "code",
   "execution_count": null,
   "id": "92e478fc",
   "metadata": {},
   "outputs": [],
   "source": [
    "ranking_cie10cat_df"
   ]
  },
  {
   "cell_type": "code",
   "execution_count": null,
   "id": "eb616773",
   "metadata": {},
   "outputs": [],
   "source": [
    "ranking_cie10cat_df['count'] = ranking_cie10cat_df['count'].astype(int)"
   ]
  },
  {
   "cell_type": "code",
   "execution_count": null,
   "id": "e9504edc",
   "metadata": {},
   "outputs": [],
   "source": [
    "ranking_cie10cat_df['Rank'] = ranking_cie10cat_df['Rank'].astype(int)"
   ]
  },
  {
   "cell_type": "code",
   "execution_count": null,
   "id": "24178254",
   "metadata": {},
   "outputs": [],
   "source": [
    "ranking_pivot_cat_df = ranking_cie10cat_df.pivot(index=\"categoria_cie10\", columns=\"AnoID\", values=\"Rank\")"
   ]
  },
  {
   "cell_type": "code",
   "execution_count": null,
   "id": "57a29a84",
   "metadata": {},
   "outputs": [],
   "source": [
    "ranking_pivot_cat_df"
   ]
  },
  {
   "cell_type": "code",
   "execution_count": null,
   "id": "14809b2b",
   "metadata": {},
   "outputs": [],
   "source": [
    "# total Ranking cat\n",
    "ranking_pivot_cat_df.sum(axis=1).sort_values(ascending=False).reset_index()"
   ]
  },
  {
   "cell_type": "code",
   "execution_count": null,
   "id": "9b745814",
   "metadata": {},
   "outputs": [],
   "source": [
    "top_20_cat_cie10_df= ranking_cie10cat_df.groupby('categoria_cie10').agg({'count':'sum'}).nlargest(20,'count')"
   ]
  },
  {
   "cell_type": "code",
   "execution_count": null,
   "id": "7a29079f",
   "metadata": {},
   "outputs": [],
   "source": [
    "pd.options.display.max_colwidth = 200"
   ]
  },
  {
   "cell_type": "code",
   "execution_count": null,
   "id": "44939e61",
   "metadata": {},
   "outputs": [],
   "source": [
    "top_20_cat_cie10_df"
   ]
  },
  {
   "cell_type": "code",
   "execution_count": null,
   "id": "8a878fd0",
   "metadata": {},
   "outputs": [],
   "source": [
    "count_pivot__cat_df = ranking_cie10cat_df.pivot(index=\"categoria_cie10\", columns=\"AnoID\", values=\"count\")"
   ]
  },
  {
   "cell_type": "code",
   "execution_count": null,
   "id": "e5d814df",
   "metadata": {},
   "outputs": [],
   "source": [
    "count_pivot__cat_df"
   ]
  },
  {
   "cell_type": "code",
   "execution_count": null,
   "id": "ba6ba4e5",
   "metadata": {},
   "outputs": [],
   "source": [
    "count_mask_cat=count_pivot__cat_df[count_pivot__cat_df!=0]"
   ]
  },
  {
   "cell_type": "code",
   "execution_count": null,
   "id": "0b9aede6",
   "metadata": {},
   "outputs": [],
   "source": [
    "count_mask_cat"
   ]
  },
  {
   "cell_type": "code",
   "execution_count": null,
   "id": "71094658",
   "metadata": {},
   "outputs": [],
   "source": [
    "ranking_pivot_cat_df[count_mask_cat>0]"
   ]
  },
  {
   "cell_type": "code",
   "execution_count": null,
   "id": "fe0c9fbf",
   "metadata": {},
   "outputs": [],
   "source": [
    "ranking_pivot_cat_df.loc[ranking_pivot_cat_df.index[ranking_pivot_cat_df.index.str.startswith('N39')]]\n"
   ]
  },
  {
   "cell_type": "code",
   "execution_count": null,
   "id": "38718593",
   "metadata": {},
   "outputs": [],
   "source": [
    "ranking_pivot_cat_df = ranking_pivot_cat_df[count_mask_cat>0]"
   ]
  },
  {
   "cell_type": "code",
   "execution_count": null,
   "id": "cb128157",
   "metadata": {},
   "outputs": [],
   "source": [
    "ranking_pivot_cat_df"
   ]
  },
  {
   "cell_type": "code",
   "execution_count": null,
   "id": "653bd585",
   "metadata": {},
   "outputs": [],
   "source": [
    "ranking_pivot_cat_df[ (ranking_pivot_cat_df <= 10)].dropna(how='all')"
   ]
  },
  {
   "cell_type": "code",
   "execution_count": null,
   "id": "8bd4eb13",
   "metadata": {},
   "outputs": [],
   "source": [
    "ranking_pivot_cat_df.loc[ranking_pivot_cat_df[ (ranking_pivot_cat_df <= 10)].dropna(how='all').index]"
   ]
  },
  {
   "cell_type": "code",
   "execution_count": null,
   "id": "705c163b",
   "metadata": {},
   "outputs": [],
   "source": [
    "\n",
    "filtered_ranking_any_top10_cat_df = ranking_pivot_cat_df.loc[ranking_pivot_cat_df[ (ranking_pivot_cat_df <= 10)].dropna(how='all').index]\n"
   ]
  },
  {
   "cell_type": "code",
   "execution_count": null,
   "id": "373fece0",
   "metadata": {},
   "outputs": [],
   "source": [
    "filtered_ranking_any_top10_cat_df"
   ]
  },
  {
   "cell_type": "code",
   "execution_count": null,
   "id": "ae683b2f",
   "metadata": {},
   "outputs": [],
   "source": [
    "# Ordenar categorias por ranking promedio\n",
    "filtered_ranking_any_top10_cat_df.mean(axis=1).sort_values()"
   ]
  },
  {
   "cell_type": "code",
   "execution_count": null,
   "id": "ca95440f",
   "metadata": {},
   "outputs": [],
   "source": [
    "filtered_ranking_any_top10_cat_df=filtered_ranking_any_top10_cat_df.loc[filtered_ranking_any_top10_cat_df.mean(axis=1).sort_values().index]"
   ]
  },
  {
   "cell_type": "code",
   "execution_count": null,
   "id": "a65605f4",
   "metadata": {},
   "outputs": [],
   "source": [
    "filtered_ranking_any_top10_cat_df"
   ]
  },
  {
   "cell_type": "code",
   "execution_count": null,
   "id": "f7bda870",
   "metadata": {},
   "outputs": [],
   "source": [
    "# Melt the dataframe into long format\n",
    "df_melted_cat = filtered_ranking_any_top10_cat_df.reset_index().melt(id_vars='categoria_cie10', var_name='AnoID', value_name='Rank')"
   ]
  },
  {
   "cell_type": "code",
   "execution_count": null,
   "id": "8f1af56c",
   "metadata": {},
   "outputs": [],
   "source": [
    "df_melted_cat['Year'] = pd.to_numeric(df_melted_cat['AnoID'])"
   ]
  },
  {
   "cell_type": "code",
   "execution_count": null,
   "id": "5e9a9ed0",
   "metadata": {},
   "outputs": [],
   "source": [
    "df_melted_cat['Year'].unique()"
   ]
  },
  {
   "cell_type": "code",
   "execution_count": null,
   "id": "29684551",
   "metadata": {},
   "outputs": [],
   "source": [
    "df_melted_cat"
   ]
  },
  {
   "cell_type": "code",
   "execution_count": null,
   "id": "3659ffa1",
   "metadata": {},
   "outputs": [],
   "source": [
    "# Rename columns for clarity\n",
    "df_melted_cat.rename(columns={'categoria_cie10': 'CIE-10'}, inplace=True)\n",
    "\n",
    "\n",
    "def clean_category_name_cat(category):\n",
    "    if category.startswith('1'):  \n",
    "        return '1- No Definido'\n",
    "    return category\n",
    "\n",
    "# Apply transformation to the column\n",
    "df_melted_cat['CIE-10'] = df_melted_cat['CIE-10'].apply(clean_category_name_cat)\n",
    "\n",
    "\n",
    "# Plot bump chart\n",
    "plt.figure(figsize=(24, 12))\n",
    "categories = df_melted_cat['CIE-10'].unique()\n",
    "\n",
    "markers = itertools.cycle(['o', 's', 'D', '^', 'v', '<', '>', 'p', '*', 'X', \n",
    "                           'h'])\n",
    "\n",
    "colors =sns.color_palette(\"tab20\")\n",
    "\n",
    "\n",
    "\n",
    "\n",
    "for i, category in enumerate(categories):\n",
    "    category_data = df_melted_cat[df_melted_cat['CIE-10'] == category]\n",
    "    plt.plot(category_data['Year'], category_data['Rank'], color=colors[(i % len(colors))],\n",
    "             marker=next(markers), linestyle='-', linewidth=2.5,markersize=12,label=category)\n",
    "\n",
    "# Customize plot\n",
    "plt.gca().invert_yaxis()  # Lower rank (1) should be at the top\n",
    "plt.xticks(sorted(df_melted_cat['Year'].unique()), fontsize=16, rotation=45)  # Ensure all years are displayed\n",
    "plt.yticks(range(1, int(df_melted_cat['Rank'].max()+1)), fontsize=16)  # Show ranks 1 to 20\n",
    "plt.xlabel('Año', fontsize=18, fontweight='bold')\n",
    "plt.ylabel('Ranking', fontsize=18, fontweight='bold')\n",
    "plt.title('Ranking por Año de Causas Categoría CIE-10', fontsize=22, fontweight='bold')\n",
    "# Move legend below the graph with better spacing\n",
    "plt.legend(title=\"Código Categoría CIE-10\", loc='upper left', bbox_to_anchor=(1.05, 1), \n",
    "           ncol=1, fontsize=14, title_fontsize=16, frameon=True)\n",
    "\n",
    "plt.grid(True, linestyle='-', alpha=0.9)\n",
    "\n",
    "\n",
    "\n",
    "# Show the chart\n",
    "plt.show()"
   ]
  },
  {
   "cell_type": "code",
   "execution_count": null,
   "id": "a0a98a14",
   "metadata": {},
   "outputs": [],
   "source": [
    "\n",
    "\n",
    "# Rename columns for clarity\n",
    "df_melted_cat.rename(columns={'icd10_cat': 'CIE-10'}, inplace=True)\n",
    "\n",
    "# Function to clean category names\n",
    "def clean_category_name_cat(category):\n",
    "    if isinstance(category, str) and category.startswith('1'):  \n",
    "        return '1- No Definido'\n",
    "    return category\n",
    "\n",
    "# Apply transformation to the column\n",
    "df_melted_cat['CIE-10'] = df_melted_cat['CIE-10'].apply(clean_category_name_cat)\n",
    "\n",
    "# Plot bump chart\n",
    "plt.figure(figsize=(24, 12))\n",
    "categories = df_melted_cat['CIE-10'].unique()\n",
    "\n",
    "markers = itertools.cycle(['o', 's', 'D', '^', 'v', '<', '>', 'p', '*', 'X', 'h'])\n",
    "colors = sns.color_palette(\"tab20\")\n",
    "\n",
    "for i, category in enumerate(categories):\n",
    "    category_data = df_melted_cat[df_melted_cat['CIE-10'] == category]\n",
    "\n",
    "    # Plot full line for continuity\n",
    "    plt.plot(category_data['Year'], category_data['Rank'], \n",
    "             color=colors[i % len(colors)], linestyle='-', linewidth=2.5, alpha=0.7)\n",
    "\n",
    "    # Filter only ranks within 1 to 25 and plot markers separately\n",
    "    visible_data = category_data[category_data['Rank'].between(1, 25)]\n",
    "    plt.plot(visible_data['Year'], visible_data['Rank'], \n",
    "             color=colors[i % len(colors)], marker=next(markers), linestyle='', markersize=12, label=category)\n",
    "\n",
    "# Customize plot\n",
    "\n",
    "plt.xticks(sorted(df_melted_cat['Year'].unique()), fontsize=16, rotation=45)  # Ensure all years are displayed\n",
    "plt.yticks(range(1, 26), fontsize=16)  # Show ranks 1 to 25\n",
    "plt.ylim(0, 26)  # CUT the y-axis to only show 1-25\n",
    "plt.xlabel('Año', fontsize=18, fontweight='bold')\n",
    "plt.ylabel('Ranking', fontsize=18, fontweight='bold')\n",
    "plt.title('Ranking por Año de Causas Categoría CIE-10', fontsize=22, fontweight='bold')\n",
    "plt.gca().invert_yaxis()  # Lower rank (1) should be at the top\n",
    "# Move legend below the graph with better spacing\n",
    "plt.legend(title=\"Código Categoría CIE-10\", loc='upper left', bbox_to_anchor=(1.05, 1), \n",
    "           ncol=1, fontsize=12, title_fontsize=16, frameon=True)\n",
    "\n",
    "plt.grid(True, linestyle='-', alpha=0.9)\n",
    "\n",
    "# Show the chart\n",
    "plt.show()\n"
   ]
  },
  {
   "cell_type": "code",
   "execution_count": null,
   "id": "ba031154",
   "metadata": {},
   "outputs": [],
   "source": [
    "ranking_diff_cat_df = ranking_pivot_cat_df.diff(axis=1)"
   ]
  },
  {
   "cell_type": "code",
   "execution_count": null,
   "id": "01ab6825",
   "metadata": {},
   "outputs": [],
   "source": [
    "del ranking_diff_cat_df[2014]"
   ]
  },
  {
   "cell_type": "code",
   "execution_count": null,
   "id": "bb858632",
   "metadata": {},
   "outputs": [],
   "source": [
    "ranking_diff_cat_df"
   ]
  },
  {
   "cell_type": "markdown",
   "id": "13f4975d",
   "metadata": {},
   "source": [
    "### Run rankings\n"
   ]
  },
  {
   "cell_type": "code",
   "execution_count": null,
   "id": "700c7e72",
   "metadata": {},
   "outputs": [],
   "source": [
    "years = range(2015, 2024)\n",
    "\n",
    "# Dictionary to store the yearly DataFrames\n",
    "results_ranking_dict = {}\n",
    "\n",
    "# Loop through the years and compute the DataFrames incrementally\n",
    "for year in years:\n",
    "    prev_year = year - 1\n",
    "    curr_year = year\n",
    "\n",
    "    results_ranking_dict[curr_year] = (\n",
    "        ranking_diff_cat_df[curr_year]\n",
    "        .sort_values()\n",
    "        .to_frame()\n",
    "        .merge(ranking_cie10cat_df[ranking_cie10cat_df[\"AnoID\"] == curr_year], on=\"categoria_cie10\")\n",
    "        .merge(ranking_cie10cat_df[ranking_cie10cat_df[\"AnoID\"] == prev_year], on=\"categoria_cie10\")\n",
    "    )\n",
    "\n",
    "    # Rename columns for clarity\n",
    "    results_ranking_dict[curr_year].columns = [\n",
    "        \"categoria_cie10\",\n",
    "        \"diff_ranking\",\n",
    "        \"AnoID\",\n",
    "        \"conteo_anio\",\n",
    "        \"ranking_actual\",\n",
    "        \"AnoID_anterior\",\n",
    "        \"conteo_anio_anterior\",\n",
    "        \"ranking_anio_anterior\",\n",
    "    ]\n",
    "\n",
    "    # Merge descriptions\n",
    "    #results_ranking_dict[curr_year] = results_ranking_dict[curr_year].merge(\n",
    "    #    icd10_cm_codes_df[[\"categoria_cie10\", \"Description\"]], how=\"left\", on=\"categoria_cie10\"\n",
    "    #)"
   ]
  },
  {
   "cell_type": "code",
   "execution_count": null,
   "id": "f281a3d7",
   "metadata": {},
   "outputs": [],
   "source": [
    "results_ranking_all_cat=pd.concat(results_ranking_dict.values())"
   ]
  },
  {
   "cell_type": "code",
   "execution_count": null,
   "id": "2162067b",
   "metadata": {},
   "outputs": [],
   "source": [
    "results_ranking_all_cat['AnoID']=results_ranking_all_cat['AnoID'].astype(int)"
   ]
  },
  {
   "cell_type": "code",
   "execution_count": null,
   "id": "3c07d839",
   "metadata": {},
   "outputs": [],
   "source": [
    "results_ranking_top_increase_df = results_ranking_all_cat[(results_ranking_all_cat['conteo_anio_anterior']!=0)& (results_ranking_all_cat['AnoID']>2019)].nsmallest(15,'diff_ranking').sort_values(by='ranking_actual')"
   ]
  },
  {
   "cell_type": "code",
   "execution_count": null,
   "id": "3cd24e50",
   "metadata": {},
   "outputs": [],
   "source": [
    "results_ranking_top_increase_df"
   ]
  },
  {
   "cell_type": "code",
   "execution_count": null,
   "id": "83e7b6c5",
   "metadata": {},
   "outputs": [],
   "source": [
    "results_ranking_top_increase_df[['categoria_cie10','AnoID','ranking_actual','conteo_anio','ranking_anio_anterior','conteo_anio_anterior','diff_ranking']]"
   ]
  },
  {
   "cell_type": "code",
   "execution_count": null,
   "id": "e965ff7e",
   "metadata": {},
   "outputs": [],
   "source": [
    "ranking_pivot_cat_df_filtered = ranking_pivot_cat_df.reset_index()"
   ]
  },
  {
   "cell_type": "code",
   "execution_count": null,
   "id": "1f2bb8c7",
   "metadata": {},
   "outputs": [],
   "source": [
    "ranking_pivot_cat_df_filtered"
   ]
  },
  {
   "cell_type": "code",
   "execution_count": null,
   "id": "a1690977",
   "metadata": {},
   "outputs": [],
   "source": [
    "ranking_pivot_cat_df_filtered=ranking_pivot_cat_df_filtered.loc[ranking_pivot_cat_df_filtered.drop(['categoria_cie10'],axis=1).mean(axis=1).sort_values().index]"
   ]
  },
  {
   "cell_type": "code",
   "execution_count": null,
   "id": "f555b834",
   "metadata": {},
   "outputs": [],
   "source": [
    "# Melt the dataframe into long format\n",
    "df_melted_cat_top = ranking_pivot_cat_df_filtered.melt(id_vars='categoria_cie10', var_name='Year', value_name='Rank')"
   ]
  },
  {
   "cell_type": "code",
   "execution_count": null,
   "id": "dba0627f",
   "metadata": {},
   "outputs": [],
   "source": [
    "df_melted_cat_top"
   ]
  },
  {
   "cell_type": "code",
   "execution_count": null,
   "id": "f49d29a5",
   "metadata": {},
   "outputs": [],
   "source": [
    "df_melted_cat_top = df_melted_cat_top.merge(results_ranking_top_increase_df['categoria_cie10'], on='categoria_cie10')"
   ]
  },
  {
   "cell_type": "code",
   "execution_count": null,
   "id": "bb159dc0",
   "metadata": {},
   "outputs": [],
   "source": [
    "# Rename columns for clarity\n",
    "df_melted_cat_top.rename(columns={'categoria_cie10': 'CIE-10'}, inplace=True)\n",
    "\n",
    "\n",
    "def clean_category_name_cat(category):\n",
    "    if category.startswith('1'):  \n",
    "        return '1- No Definido'\n",
    "    return category\n",
    "\n",
    "# Apply transformation to the column\n",
    "df_melted_cat_top['CIE-10'] = df_melted_cat_top['CIE-10'].apply(clean_category_name_cat)\n",
    "\n",
    "\n",
    "# Plot bump chart\n",
    "plt.figure(figsize=(24, 12))\n",
    "categories = df_melted_cat_top['CIE-10'].unique()\n",
    "\n",
    "markers = itertools.cycle(['o', 's', 'D', '^', 'v', '<', '>', 'p', '*', 'X', \n",
    "                           'h'])\n",
    "\n",
    "colors =sns.color_palette(\"tab20\")\n",
    "\n",
    "\n",
    "\n",
    "\n",
    "for i, category in enumerate(categories):\n",
    "    category_data = df_melted_cat_top[df_melted_cat_top['CIE-10'] == category]\n",
    "    plt.plot(category_data['Year'], category_data['Rank'], color=colors[(i % len(colors))],\n",
    "             marker=next(markers), linestyle='-', linewidth=2.5,markersize=12,label=category)\n",
    "\n",
    "# Customize plot\n",
    "plt.gca().invert_yaxis()  # Lower rank (1) should be at the top\n",
    "plt.xticks(sorted(df_melted_cat_top['Year'].unique()), fontsize=16, rotation=45)  # Ensure all years are displayed\n",
    "#plt.yticks(range(1, int(df_melted_cat_top['Rank'].max()+1)), fontsize=16)  # Show ranks 1 to 20\n",
    "plt.xlabel('Año', fontsize=18, fontweight='bold')\n",
    "plt.ylabel('Ranking', fontsize=18, fontweight='bold')\n",
    "plt.title('Ranking por Año de Causas Categoría CIE-10 con mayor incremento en periodo pandemia y post-pandemia', fontsize=22, fontweight='bold')\n",
    "# Move legend below the graph with better spacing\n",
    "plt.legend(title=\"Código Categoría CIE-10\", loc='upper left', bbox_to_anchor=(1.05, 1), \n",
    "           ncol=1, fontsize=12, title_fontsize=16, frameon=True)\n",
    "\n",
    "plt.grid(True, linestyle='-', alpha=0.9)\n",
    "\n",
    "\n",
    "\n",
    "# Show the chart\n",
    "plt.show()"
   ]
  },
  {
   "cell_type": "code",
   "execution_count": null,
   "id": "16b34ff5",
   "metadata": {},
   "outputs": [],
   "source": [
    "results_ranking_all_cat[(results_ranking_all_cat['conteo_anio_anterior']!=0)& (results_ranking_all_cat['AnoID']>2019)].nlargest(20,'diff_ranking')"
   ]
  },
  {
   "cell_type": "markdown",
   "id": "88cd7493",
   "metadata": {},
   "source": [
    "### Ranking 2015 categorias"
   ]
  },
  {
   "cell_type": "code",
   "execution_count": null,
   "id": "d70f4870",
   "metadata": {},
   "outputs": [],
   "source": [
    "results_ranking_2015_cat_df=results_ranking_dict[2015]"
   ]
  },
  {
   "cell_type": "code",
   "execution_count": null,
   "id": "47998764",
   "metadata": {},
   "outputs": [],
   "source": [
    "results_ranking_2015_cat_df[results_ranking_2015_cat_df['conteo_anio_anterior']!=0].nsmallest(20,'diff_ranking')"
   ]
  },
  {
   "cell_type": "code",
   "execution_count": null,
   "id": "b802e5dc",
   "metadata": {},
   "outputs": [],
   "source": [
    "results_ranking_2015_cat_df[results_ranking_2015_cat_df['conteo_anio']!=0].nlargest(20,'diff_ranking')"
   ]
  },
  {
   "cell_type": "markdown",
   "id": "20d9ca02",
   "metadata": {},
   "source": [
    "### Ranking 2016 caterogias"
   ]
  },
  {
   "cell_type": "code",
   "execution_count": null,
   "id": "ad07bab9",
   "metadata": {},
   "outputs": [],
   "source": [
    "results_ranking_2016_cat_df=results_ranking_dict[2016]"
   ]
  },
  {
   "cell_type": "code",
   "execution_count": null,
   "id": "376e1f31",
   "metadata": {},
   "outputs": [],
   "source": [
    "results_ranking_2016_cat_df[results_ranking_2016_cat_df['conteo_anio_anterior']!=0].nsmallest(20,'diff_ranking')"
   ]
  },
  {
   "cell_type": "code",
   "execution_count": null,
   "id": "3d98fba1",
   "metadata": {},
   "outputs": [],
   "source": [
    "results_ranking_2016_cat_df[results_ranking_2016_cat_df['conteo_anio']!=0].nlargest(20,'diff_ranking')"
   ]
  },
  {
   "cell_type": "markdown",
   "id": "28a75950",
   "metadata": {},
   "source": [
    "### Ranking 2017 categorias"
   ]
  },
  {
   "cell_type": "code",
   "execution_count": null,
   "id": "227214b7",
   "metadata": {},
   "outputs": [],
   "source": [
    "results_ranking_2017_cat_df=results_ranking_dict[2017]"
   ]
  },
  {
   "cell_type": "code",
   "execution_count": null,
   "id": "2fc6f0e1",
   "metadata": {},
   "outputs": [],
   "source": [
    "results_ranking_2017_cat_df[results_ranking_2017_cat_df['conteo_anio_anterior']!=0].nsmallest(20,'diff_ranking')"
   ]
  },
  {
   "cell_type": "code",
   "execution_count": null,
   "id": "0ca24b5e",
   "metadata": {},
   "outputs": [],
   "source": [
    "results_ranking_2017_cat_df[results_ranking_2017_cat_df['conteo_anio']!=0].nlargest(20,'diff_ranking')"
   ]
  },
  {
   "cell_type": "markdown",
   "id": "df01aa39",
   "metadata": {},
   "source": [
    "### Ranking 2018 categorias"
   ]
  },
  {
   "cell_type": "code",
   "execution_count": null,
   "id": "18ba4bc3",
   "metadata": {},
   "outputs": [],
   "source": [
    "results_ranking_2018_cat_df=results_ranking_dict[2018]"
   ]
  },
  {
   "cell_type": "code",
   "execution_count": null,
   "id": "cb5eb001",
   "metadata": {},
   "outputs": [],
   "source": [
    "results_ranking_2018_cat_df[results_ranking_2018_cat_df['conteo_anio_anterior']!=0].nsmallest(20,'diff_ranking')"
   ]
  },
  {
   "cell_type": "code",
   "execution_count": null,
   "id": "ef644b3d",
   "metadata": {},
   "outputs": [],
   "source": [
    "results_ranking_2018_cat_df[results_ranking_2018_cat_df['conteo_anio']!=0].nlargest(20,'diff_ranking')"
   ]
  },
  {
   "cell_type": "markdown",
   "id": "89e6d9e7",
   "metadata": {},
   "source": [
    "### Ranking 2019 cat"
   ]
  },
  {
   "cell_type": "code",
   "execution_count": null,
   "id": "0ae00fc1",
   "metadata": {},
   "outputs": [],
   "source": [
    "results_ranking_2019_cat_df=results_ranking_dict[2019]"
   ]
  },
  {
   "cell_type": "code",
   "execution_count": null,
   "id": "75230799",
   "metadata": {},
   "outputs": [],
   "source": [
    "results_ranking_2019_cat_df[results_ranking_2019_cat_df['conteo_anio_anterior']!=0].nsmallest(20,'diff_ranking')"
   ]
  },
  {
   "cell_type": "code",
   "execution_count": null,
   "id": "19204ae5",
   "metadata": {},
   "outputs": [],
   "source": [
    "results_ranking_2019_cat_df[results_ranking_2019_cat_df['conteo_anio']!=0].nlargest(20,'diff_ranking')"
   ]
  },
  {
   "cell_type": "markdown",
   "id": "de5062c4",
   "metadata": {},
   "source": [
    "### Ranking 2020 cat"
   ]
  },
  {
   "cell_type": "code",
   "execution_count": null,
   "id": "39e12149",
   "metadata": {},
   "outputs": [],
   "source": [
    "results_ranking_2020_cat_df=results_ranking_dict[2020]"
   ]
  },
  {
   "cell_type": "code",
   "execution_count": null,
   "id": "31987651",
   "metadata": {},
   "outputs": [],
   "source": [
    "results_ranking_2020_cat_df[results_ranking_2020_cat_df['conteo_anio_anterior']!=0].nsmallest(20,'diff_ranking')"
   ]
  },
  {
   "cell_type": "code",
   "execution_count": null,
   "id": "5f0308f5",
   "metadata": {},
   "outputs": [],
   "source": [
    "results_ranking_2020_cat_df[results_ranking_2020_cat_df['conteo_anio']!=0].nlargest(20,'diff_ranking')"
   ]
  },
  {
   "cell_type": "markdown",
   "id": "a957cf7e",
   "metadata": {},
   "source": [
    "### Ranking 2021"
   ]
  },
  {
   "cell_type": "code",
   "execution_count": null,
   "id": "1bd5fbac",
   "metadata": {},
   "outputs": [],
   "source": [
    "results_ranking_2021_cat_df=results_ranking_dict[2021]"
   ]
  },
  {
   "cell_type": "code",
   "execution_count": null,
   "id": "54065bdd",
   "metadata": {},
   "outputs": [],
   "source": [
    "results_ranking_2021_cat_df[results_ranking_2021_cat_df['conteo_anio_anterior']!=0].nsmallest(20,'diff_ranking')"
   ]
  },
  {
   "cell_type": "code",
   "execution_count": null,
   "id": "c4c11a63",
   "metadata": {},
   "outputs": [],
   "source": [
    "results_ranking_2021_cat_df[results_ranking_2021_cat_df['conteo_anio_anterior']!=0].nlargest(20,'diff_ranking')"
   ]
  },
  {
   "cell_type": "markdown",
   "id": "55899a96",
   "metadata": {},
   "source": [
    "### Ranking 2022"
   ]
  },
  {
   "cell_type": "code",
   "execution_count": null,
   "id": "c433caa3",
   "metadata": {},
   "outputs": [],
   "source": [
    "results_ranking_2022_cat_df=results_ranking_dict[2022]"
   ]
  },
  {
   "cell_type": "code",
   "execution_count": null,
   "id": "a1b14ca6",
   "metadata": {},
   "outputs": [],
   "source": [
    "results_ranking_2022_cat_df[results_ranking_2022_cat_df['conteo_anio_anterior']!=0].nsmallest(20,'diff_ranking')"
   ]
  },
  {
   "cell_type": "code",
   "execution_count": null,
   "id": "b512bc74",
   "metadata": {},
   "outputs": [],
   "source": [
    "results_ranking_2022_cat_df[results_ranking_2022_cat_df['conteo_anio_anterior']!=0].nlargest(20,'diff_ranking')"
   ]
  },
  {
   "cell_type": "markdown",
   "id": "61c208de",
   "metadata": {},
   "source": [
    "### Ranking 2023"
   ]
  },
  {
   "cell_type": "code",
   "execution_count": null,
   "id": "e095a13b",
   "metadata": {},
   "outputs": [],
   "source": [
    "results_ranking_2023_cat_df=results_ranking_dict[2023]"
   ]
  },
  {
   "cell_type": "code",
   "execution_count": null,
   "id": "50bab2a2",
   "metadata": {},
   "outputs": [],
   "source": [
    "results_ranking_2023_cat_df[results_ranking_2023_cat_df['conteo_anio_anterior']!=0].nsmallest(20,'diff_ranking')"
   ]
  },
  {
   "cell_type": "code",
   "execution_count": null,
   "id": "12c4bf07",
   "metadata": {},
   "outputs": [],
   "source": [
    "results_ranking_2023_cat_df[results_ranking_2023_cat_df['conteo_anio_anterior']!=0].nlargest(20,'diff_ranking')"
   ]
  },
  {
   "cell_type": "markdown",
   "id": "8fcca6a6",
   "metadata": {},
   "source": [
    "# Análisis por categoria charlson"
   ]
  },
  {
   "cell_type": "code",
   "execution_count": null,
   "id": "633c10c2",
   "metadata": {},
   "outputs": [],
   "source": [
    "conteo_causas_complete.head()"
   ]
  },
  {
   "cell_type": "code",
   "execution_count": null,
   "id": "548693ce",
   "metadata": {},
   "outputs": [],
   "source": [
    "# Compute rankings per year\n",
    "ranking_cie10charl_df = (\n",
    "    conteo_causas_complete.dropna().groupby([\"AnoID\", \"charlson_clas\"])[\"count\"].sum().reset_index().groupby(\"AnoID\")\n",
    "    .apply(lambda x: x.assign(Rank=x[\"count\"].rank(method=\"dense\", ascending=False)))\n",
    "    .reset_index(drop=True)\n",
    ")"
   ]
  },
  {
   "cell_type": "code",
   "execution_count": null,
   "id": "8da4500f",
   "metadata": {},
   "outputs": [],
   "source": [
    "ranking_cie10charl_df"
   ]
  },
  {
   "cell_type": "code",
   "execution_count": null,
   "id": "a5cb226d",
   "metadata": {},
   "outputs": [],
   "source": [
    "ranking_cie10charl_df['count'].sum()/conteo_causas_df['count'].sum()"
   ]
  },
  {
   "cell_type": "code",
   "execution_count": null,
   "id": "b932bc56",
   "metadata": {},
   "outputs": [],
   "source": [
    "ranking_cie10charl_df['count'] = ranking_cie10charl_df['count'].astype(int)"
   ]
  },
  {
   "cell_type": "code",
   "execution_count": null,
   "id": "8a4cf770",
   "metadata": {},
   "outputs": [],
   "source": [
    "ranking_cie10charl_df['Rank'] = ranking_cie10charl_df['Rank'].astype(int)"
   ]
  },
  {
   "cell_type": "code",
   "execution_count": null,
   "id": "b7bd8f94",
   "metadata": {},
   "outputs": [],
   "source": [
    "ranking_pivot_charl_df = ranking_cie10charl_df.pivot(index=\"charlson_clas\", columns=\"AnoID\", values=\"Rank\")"
   ]
  },
  {
   "cell_type": "code",
   "execution_count": null,
   "id": "e4e835c9",
   "metadata": {},
   "outputs": [],
   "source": [
    "ranking_pivot_charl_df"
   ]
  },
  {
   "cell_type": "code",
   "execution_count": null,
   "id": "9fdac2c0",
   "metadata": {},
   "outputs": [],
   "source": [
    "# total Ranking cat\n",
    "ranking_pivot_charl_df.sum(axis=1).sort_values(ascending=False).reset_index()"
   ]
  },
  {
   "cell_type": "code",
   "execution_count": null,
   "id": "236f3ef9",
   "metadata": {},
   "outputs": [],
   "source": [
    "top_20_charl_cie10_df= ranking_cie10charl_df.groupby('charlson_clas').agg({'count':'sum'}).sort_values(by='count',ascending=False)"
   ]
  },
  {
   "cell_type": "code",
   "execution_count": null,
   "id": "d6a6724e",
   "metadata": {},
   "outputs": [],
   "source": [
    "pd.options.display.max_colwidth = 200"
   ]
  },
  {
   "cell_type": "code",
   "execution_count": null,
   "id": "220c976a",
   "metadata": {},
   "outputs": [],
   "source": [
    "top_20_charl_cie10_df"
   ]
  },
  {
   "cell_type": "code",
   "execution_count": null,
   "id": "4defabbc",
   "metadata": {},
   "outputs": [],
   "source": [
    "top_20_charl_cie10_df.sum()/"
   ]
  },
  {
   "cell_type": "code",
   "execution_count": null,
   "id": "239c73ad",
   "metadata": {},
   "outputs": [],
   "source": [
    "count_pivot__charl_df = ranking_cie10charl_df.pivot(index=\"charlson_clas\", columns=\"AnoID\", values=\"count\")\n"
   ]
  },
  {
   "cell_type": "code",
   "execution_count": null,
   "id": "570d429c",
   "metadata": {},
   "outputs": [],
   "source": [
    "count_pivot__charl_df"
   ]
  },
  {
   "cell_type": "code",
   "execution_count": null,
   "id": "dc129119",
   "metadata": {},
   "outputs": [],
   "source": [
    "# Ordenar categorias por ranking promedio\n",
    "ranking_pivot_charl_df.mean(axis=1).sort_values()"
   ]
  },
  {
   "cell_type": "code",
   "execution_count": null,
   "id": "0b687d9e",
   "metadata": {},
   "outputs": [],
   "source": [
    "ranking_pivot_charl_df=ranking_pivot_charl_df.loc[ranking_pivot_charl_df.mean(axis=1).sort_values().index]"
   ]
  },
  {
   "cell_type": "code",
   "execution_count": null,
   "id": "c4fec3f5",
   "metadata": {},
   "outputs": [],
   "source": [
    "ranking_pivot_charl_df"
   ]
  },
  {
   "cell_type": "code",
   "execution_count": null,
   "id": "573ce177",
   "metadata": {},
   "outputs": [],
   "source": [
    "# Melt the dataframe into long format\n",
    "df_melted_charl = ranking_pivot_charl_df.reset_index().melt(id_vars='charlson_clas', var_name='AnoID', value_name='Rank')"
   ]
  },
  {
   "cell_type": "code",
   "execution_count": null,
   "id": "672904ac",
   "metadata": {},
   "outputs": [],
   "source": [
    "df_melted_charl['Year'] = pd.to_numeric(df_melted_charl['AnoID'])"
   ]
  },
  {
   "cell_type": "code",
   "execution_count": null,
   "id": "c6a3e01b",
   "metadata": {},
   "outputs": [],
   "source": [
    "df_melted_charl['Year'].unique()"
   ]
  },
  {
   "cell_type": "code",
   "execution_count": null,
   "id": "54a88f6b",
   "metadata": {},
   "outputs": [],
   "source": [
    "df_melted_charl.head()"
   ]
  },
  {
   "cell_type": "code",
   "execution_count": null,
   "id": "3337a480",
   "metadata": {},
   "outputs": [],
   "source": [
    "df_melted_charl['charlson_clas']=df_melted_charl['charlson_clas'].str.replace('\\n',' ')"
   ]
  },
  {
   "cell_type": "code",
   "execution_count": null,
   "id": "1214bd88",
   "metadata": {},
   "outputs": [],
   "source": [
    "def translate_charlson(df):\n",
    "    translation_dict = {\n",
    "        \"Any malignancy, including lymphoma and leukemia, except malignant neoplasm of skin\": \"Cualquier malignidad, incluido linfoma y leucemia, excepto neoplasia maligna de piel\",\n",
    "        \"Myocardial infarction\": \"Infarto de miocardio\",\n",
    "        \"Cerebrovascular disease\": \"Enfermedad cerebrovascular\",\n",
    "        \"Chronic pulmonary disease\": \"Enfermedad pulmonar crónica\",\n",
    "        \"Congestive heart failure\": \"Insuficiencia cardíaca congestiva\",\n",
    "        \"Diabetes without chronic complication\": \"Diabetes sin complicación crónica\",\n",
    "        \"Renal disease\": \"Enfermedad renal\",\n",
    "        \"Diabetes with chronic complication\": \"Diabetes con complicación crónica\",\n",
    "        \"Mild liver disease\": \"Enfermedad hepática leve\",\n",
    "        \"Dementia\": \"Demencia\",\n",
    "        \"AIDS/HIV\": \"SIDA/VIH\",\n",
    "        \"Peripheral vascular disease\": \"Enfermedad vascular periférica\",\n",
    "        \"Rheumatic disease\": \"Enfermedad reumática\",\n",
    "        \"Peptic ulcer disease\": \"Enfermedad ulcerosa péptica\",\n",
    "        \"Moderate or severe liver disease\": \"Enfermedad hepática moderada o grave\",\n",
    "        \"Hemiplegia or paraplegia\": \"Hemiplejía o paraplejía\"\n",
    "    }\n",
    "    \n",
    "    df[\"charlson_clas\"] = df[\"charlson_clas\"].map(translation_dict)\n",
    "    return df"
   ]
  },
  {
   "cell_type": "code",
   "execution_count": null,
   "id": "b14e56c9",
   "metadata": {},
   "outputs": [],
   "source": [
    "df_melted_charl=translate_charlson(df_melted_charl)"
   ]
  },
  {
   "cell_type": "code",
   "execution_count": null,
   "id": "dbe0cd70",
   "metadata": {},
   "outputs": [],
   "source": [
    "# Rename columns for clarity\n",
    "df_melted_charl.rename(columns={'charlson_clas': 'Grupo enfermedades por Índice Charlson'}, inplace=True)\n",
    "\n",
    "\n",
    "\n",
    "# Plot bump chart\n",
    "plt.figure(figsize=(24, 12))\n",
    "categories = df_melted_charl['Grupo enfermedades por Índice Charlson'].unique()\n",
    "\n",
    "markers = itertools.cycle(['o', 's', 'D', '^', 'v', '<', '>', 'p', '*', 'X', \n",
    "                           'h'])\n",
    "\n",
    "colors =sns.color_palette(\"tab20\")\n",
    "\n",
    "\n",
    "\n",
    "\n",
    "for i, category in enumerate(categories):\n",
    "    category_data = df_melted_charl[df_melted_charl['Grupo enfermedades por Índice Charlson'] == category]\n",
    "    plt.plot(category_data['Year'], category_data['Rank'], color=colors[(i % len(colors))],\n",
    "             marker=next(markers), linestyle='-', linewidth=2.5,markersize=12,label=category)\n",
    "\n",
    "# Customize plot\n",
    "plt.gca().invert_yaxis()  # Lower rank (1) should be at the top\n",
    "plt.xticks(sorted(df_melted_charl['Year'].unique()), fontsize=16, rotation=45)  # Ensure all years are displayed\n",
    "plt.yticks(range(1, int(df_melted_charl['Rank'].max()+1)), fontsize=16)  # Show ranks 1 to 20\n",
    "plt.xlabel('Año', fontsize=18, fontweight='bold')\n",
    "plt.ylabel('Ranking', fontsize=18, fontweight='bold')\n",
    "plt.title('Ranking por Año de Causas por Grupo enfermedades por Índice Charlson', fontsize=22, fontweight='bold')\n",
    "# Move legend below the graph with better spacing\n",
    "plt.legend(title=\"Grupo enfermedades por Índice Charlson\", loc='upper left', bbox_to_anchor=(1, 1), \n",
    "           ncol=1, fontsize=14, title_fontsize=16, frameon=True)\n",
    "\n",
    "plt.grid(True, linestyle='-', alpha=0.9)\n",
    "\n",
    "\n",
    "\n",
    "# Show the chart\n",
    "plt.show()"
   ]
  },
  {
   "cell_type": "code",
   "execution_count": null,
   "id": "0ec90c5f",
   "metadata": {},
   "outputs": [],
   "source": []
  },
  {
   "cell_type": "markdown",
   "id": "56d9f4d1",
   "metadata": {},
   "source": [
    "# Análisis por grupo agora"
   ]
  },
  {
   "cell_type": "code",
   "execution_count": null,
   "id": "0c9a3efa",
   "metadata": {},
   "outputs": [],
   "source": [
    "conteo_causas_complete.head()"
   ]
  },
  {
   "cell_type": "code",
   "execution_count": null,
   "id": "d063f1bd",
   "metadata": {},
   "outputs": [],
   "source": [
    "# Compute rankings per year\n",
    "ranking_cie10agor_df = (\n",
    "    conteo_causas_complete.groupby([\"AnoID\", \"grupos_agora\"])[\"count\"].sum().reset_index().groupby(\"AnoID\")\n",
    "    .apply(lambda x: x.assign(Rank=x[\"count\"].rank(method=\"dense\", ascending=False)))\n",
    "    .reset_index(drop=True)\n",
    ")"
   ]
  },
  {
   "cell_type": "code",
   "execution_count": null,
   "id": "5445c08f",
   "metadata": {},
   "outputs": [],
   "source": [
    "ranking_cie10agor_df"
   ]
  },
  {
   "cell_type": "code",
   "execution_count": null,
   "id": "baccfcfe",
   "metadata": {},
   "outputs": [],
   "source": [
    "ranking_cie10agor_df['count'] = ranking_cie10agor_df['count'].astype(int)"
   ]
  },
  {
   "cell_type": "code",
   "execution_count": null,
   "id": "cf201209",
   "metadata": {},
   "outputs": [],
   "source": [
    "ranking_cie10agor_df['Rank'] = ranking_cie10agor_df['Rank'].astype(int)"
   ]
  },
  {
   "cell_type": "code",
   "execution_count": null,
   "id": "f96ddfff",
   "metadata": {},
   "outputs": [],
   "source": [
    "ranking_pivot_agor_df = ranking_cie10agor_df.pivot(index=\"grupos_agora\", columns=\"AnoID\", values=\"Rank\")"
   ]
  },
  {
   "cell_type": "code",
   "execution_count": null,
   "id": "fb3f61ee",
   "metadata": {},
   "outputs": [],
   "source": [
    "ranking_pivot_agor_df"
   ]
  },
  {
   "cell_type": "code",
   "execution_count": null,
   "id": "072ccb9a",
   "metadata": {},
   "outputs": [],
   "source": [
    "# total Ranking cat\n",
    "ranking_pivot_agor_df.sum(axis=1).sort_values(ascending=False).reset_index()"
   ]
  },
  {
   "cell_type": "code",
   "execution_count": null,
   "id": "2b9e7bab",
   "metadata": {},
   "outputs": [],
   "source": [
    "top_20_agor_cie10_df= ranking_cie10agor_df.groupby('grupos_agora').agg({'count':'sum'}).nlargest(20,'count')"
   ]
  },
  {
   "cell_type": "code",
   "execution_count": null,
   "id": "70f636b9",
   "metadata": {},
   "outputs": [],
   "source": [
    "pd.options.display.max_colwidth = 200"
   ]
  },
  {
   "cell_type": "code",
   "execution_count": null,
   "id": "49943165",
   "metadata": {},
   "outputs": [],
   "source": [
    "top_20_agor_cie10_df"
   ]
  },
  {
   "cell_type": "code",
   "execution_count": null,
   "id": "662a1073",
   "metadata": {},
   "outputs": [],
   "source": [
    "count_pivot__agor_df = ranking_cie10agor_df.pivot(index=\"grupos_agora\", columns=\"AnoID\", values=\"count\")"
   ]
  },
  {
   "cell_type": "code",
   "execution_count": null,
   "id": "b01f0f35",
   "metadata": {},
   "outputs": [],
   "source": [
    "count_pivot__agor_df"
   ]
  },
  {
   "cell_type": "code",
   "execution_count": null,
   "id": "c9256c2f",
   "metadata": {},
   "outputs": [],
   "source": [
    "count_mask_agor=count_pivot__agor_df[count_pivot__agor_df!=0]"
   ]
  },
  {
   "cell_type": "code",
   "execution_count": null,
   "id": "75e04ba2",
   "metadata": {},
   "outputs": [],
   "source": [
    "count_mask_agor"
   ]
  },
  {
   "cell_type": "code",
   "execution_count": null,
   "id": "241bd047",
   "metadata": {},
   "outputs": [],
   "source": [
    "ranking_pivot_agor_df[count_mask_agor>0]"
   ]
  },
  {
   "cell_type": "code",
   "execution_count": null,
   "id": "bbf3c0bc",
   "metadata": {},
   "outputs": [],
   "source": [
    "ranking_pivot_agor_df = ranking_pivot_agor_df[count_mask_agor>0]"
   ]
  },
  {
   "cell_type": "code",
   "execution_count": null,
   "id": "0ef66dc2",
   "metadata": {},
   "outputs": [],
   "source": [
    "ranking_pivot_agor_df"
   ]
  },
  {
   "cell_type": "code",
   "execution_count": null,
   "id": "029ef58d",
   "metadata": {},
   "outputs": [],
   "source": [
    "\n",
    "filtered_ranking_any_top10_agor_df = ranking_pivot_agor_df\n"
   ]
  },
  {
   "cell_type": "code",
   "execution_count": null,
   "id": "5dcb95be",
   "metadata": {},
   "outputs": [],
   "source": [
    "filtered_ranking_any_top10_agor_df"
   ]
  },
  {
   "cell_type": "code",
   "execution_count": null,
   "id": "7a7d1c03",
   "metadata": {},
   "outputs": [],
   "source": [
    "# Ordenar categorias por ranking promedio\n",
    "filtered_ranking_any_top10_agor_df.mean(axis=1).sort_values()"
   ]
  },
  {
   "cell_type": "code",
   "execution_count": null,
   "id": "adaf94ce",
   "metadata": {},
   "outputs": [],
   "source": [
    "filtered_ranking_any_top10_agor_df=filtered_ranking_any_top10_agor_df.loc[filtered_ranking_any_top10_agor_df.mean(axis=1).sort_values().index]"
   ]
  },
  {
   "cell_type": "code",
   "execution_count": null,
   "id": "7baebe4b",
   "metadata": {},
   "outputs": [],
   "source": [
    "filtered_ranking_any_top10_agor_df"
   ]
  },
  {
   "cell_type": "code",
   "execution_count": null,
   "id": "853848df",
   "metadata": {},
   "outputs": [],
   "source": [
    "# Melt the dataframe into long format\n",
    "df_melted_agor = filtered_ranking_any_top10_agor_df.reset_index().melt(id_vars='grupos_agora', var_name='AnoID', value_name='Rank')"
   ]
  },
  {
   "cell_type": "code",
   "execution_count": null,
   "id": "af8f1898",
   "metadata": {},
   "outputs": [],
   "source": [
    "df_melted_agor['Year'] = pd.to_numeric(df_melted_agor['AnoID'])"
   ]
  },
  {
   "cell_type": "code",
   "execution_count": null,
   "id": "28df3fbe",
   "metadata": {},
   "outputs": [],
   "source": [
    "df_melted_agor['Year'].unique()"
   ]
  },
  {
   "cell_type": "code",
   "execution_count": null,
   "id": "5a6c9a43",
   "metadata": {},
   "outputs": [],
   "source": [
    "df_melted_agor"
   ]
  },
  {
   "cell_type": "code",
   "execution_count": null,
   "id": "380ae73c",
   "metadata": {},
   "outputs": [],
   "source": [
    "# Rename columns for clarity\n",
    "df_melted_agor.rename(columns={'grupos_agora': 'Grupo enfermedades AGORA'}, inplace=True)\n",
    "\n",
    "\n",
    "\n",
    "# Plot bump chart\n",
    "plt.figure(figsize=(24, 12))\n",
    "categories = df_melted_agor['Grupo enfermedades AGORA'].unique()\n",
    "\n",
    "markers = itertools.cycle(['o', 's', 'D', '^', 'v', '<', '>', 'p', '*', 'X', \n",
    "                           'h'])\n",
    "\n",
    "colors =sns.color_palette(\"tab20\")\n",
    "\n",
    "\n",
    "\n",
    "\n",
    "for i, category in enumerate(categories):\n",
    "    category_data = df_melted_agor[df_melted_agor['Grupo enfermedades AGORA'] == category]\n",
    "    plt.plot(category_data['Year'], category_data['Rank'], color=colors[(i % len(colors))],\n",
    "             marker=next(markers), linestyle='-', linewidth=2.5,markersize=12,label=category)\n",
    "\n",
    "# Customize plot\n",
    "plt.gca().invert_yaxis()  # Lower rank (1) should be at the top\n",
    "plt.xticks(sorted(df_melted_agor['Year'].unique()), fontsize=16, rotation=45)  # Ensure all years are displayed\n",
    "plt.yticks(range(1, int(df_melted_agor['Rank'].max()+1)), fontsize=16)  # Show ranks 1 to 20\n",
    "plt.xlabel('Año', fontsize=18, fontweight='bold')\n",
    "plt.ylabel('Ranking', fontsize=18, fontweight='bold')\n",
    "plt.title('Ranking por Año de Causas Grupo enfermedades AGORA', fontsize=22, fontweight='bold')\n",
    "# Move legend below the graph with better spacing\n",
    "plt.legend(title=\"Grupo ÁGORA\", loc='upper left', bbox_to_anchor=(1, 1), \n",
    "           ncol=1, fontsize=14, title_fontsize=16, frameon=True)\n",
    "\n",
    "plt.grid(True, linestyle='-', alpha=0.9)\n",
    "\n",
    "\n",
    "\n",
    "# Show the chart\n",
    "plt.show()"
   ]
  },
  {
   "cell_type": "code",
   "execution_count": null,
   "id": "9a68a97b",
   "metadata": {},
   "outputs": [],
   "source": []
  },
  {
   "cell_type": "code",
   "execution_count": null,
   "id": "24facfe4",
   "metadata": {},
   "outputs": [],
   "source": []
  },
  {
   "cell_type": "code",
   "execution_count": null,
   "id": "179c53c5",
   "metadata": {},
   "outputs": [],
   "source": []
  },
  {
   "cell_type": "code",
   "execution_count": null,
   "id": "429169c2",
   "metadata": {},
   "outputs": [],
   "source": []
  },
  {
   "cell_type": "code",
   "execution_count": null,
   "id": "eecc6875",
   "metadata": {},
   "outputs": [],
   "source": []
  },
  {
   "cell_type": "code",
   "execution_count": null,
   "id": "27eb45c0",
   "metadata": {},
   "outputs": [],
   "source": [
    "for year in range(2014,2025):\n",
    "    print(year)\n",
    "    print(unnormalized_df.loc[year].sort_values(ascending=False).head(10).to_frame())"
   ]
  },
  {
   "cell_type": "code",
   "execution_count": null,
   "id": "d10ec5f8",
   "metadata": {},
   "outputs": [],
   "source": [
    "for year in range(2014,2025):\n",
    "    print(year)\n",
    "    print(unnormalized_df.loc[year].sort_values(ascending=False).head(10).to_frame())"
   ]
  },
  {
   "cell_type": "code",
   "execution_count": null,
   "id": "8cdd680e",
   "metadata": {},
   "outputs": [],
   "source": [
    "normalized_df=unnormalized_df.loc[:, unnormalized_df.columns != '1 - NO DEFINIDO'].div(unnormalized_df.sum(axis=1), axis=0)"
   ]
  },
  {
   "cell_type": "code",
   "execution_count": null,
   "id": "c110810a",
   "metadata": {},
   "outputs": [],
   "source": [
    "normalized_df"
   ]
  },
  {
   "cell_type": "code",
   "execution_count": null,
   "id": "c05cd955",
   "metadata": {},
   "outputs": [],
   "source": [
    "normalized_df.var().sort_values(ascending=False)"
   ]
  },
  {
   "cell_type": "code",
   "execution_count": null,
   "id": "a43c4b14",
   "metadata": {},
   "outputs": [],
   "source": [
    "# Compute pairwise absolute differences in features\n",
    "pairwise_feature_differences = np.abs(normalized_df.values[:, np.newaxis, :] - normalized_df.values[np.newaxis, :, :])\n",
    "\n",
    "# Aggregate over all instance pairs\n",
    "feature_importance = np.mean(pairwise_feature_differences, axis=(0, 1))\n",
    "\n",
    "# Convert to DataFrame\n",
    "df_feature_importance = pd.DataFrame({\"Feature\": normalized_df.columns, \"Mean Absolute Difference\": feature_importance})\n",
    "df_feature_importance = df_feature_importance.sort_values(by=\"Mean Absolute Difference\", ascending=False)\n"
   ]
  },
  {
   "cell_type": "code",
   "execution_count": null,
   "id": "5408196b",
   "metadata": {},
   "outputs": [],
   "source": [
    "normalized_df.loc[:,df_feature_importance['Feature'].iloc[0:20]]"
   ]
  },
  {
   "cell_type": "code",
   "execution_count": null,
   "id": "e7d0edbc",
   "metadata": {},
   "outputs": [],
   "source": [
    "normalized_df.loc[:,df_feature_importance['Feature'].iloc[-15:]]"
   ]
  },
  {
   "cell_type": "code",
   "execution_count": null,
   "id": "c9f2813e",
   "metadata": {},
   "outputs": [],
   "source": [
    "js_distance_matrix = pairwise_distances(normalized_df, metric=jensenshannon)"
   ]
  },
  {
   "cell_type": "code",
   "execution_count": null,
   "id": "db532700",
   "metadata": {},
   "outputs": [],
   "source": [
    "js_distance_matrix.shape"
   ]
  },
  {
   "cell_type": "code",
   "execution_count": null,
   "id": "2e12ebed",
   "metadata": {},
   "outputs": [],
   "source": [
    "js_distance_matrix_df= pd.DataFrame(js_distance_matrix, columns=normalized_df.index, index=normalized_df.index)"
   ]
  },
  {
   "cell_type": "code",
   "execution_count": null,
   "id": "2457f242",
   "metadata": {},
   "outputs": [],
   "source": [
    "sns.heatmap(js_distance_matrix_df)"
   ]
  },
  {
   "cell_type": "code",
   "execution_count": null,
   "id": "fd026caa",
   "metadata": {},
   "outputs": [],
   "source": [
    "js_distance_matrix_df"
   ]
  },
  {
   "cell_type": "code",
   "execution_count": null,
   "id": "693a1b35",
   "metadata": {},
   "outputs": [],
   "source": []
  },
  {
   "cell_type": "code",
   "execution_count": null,
   "id": "69111b1c",
   "metadata": {},
   "outputs": [],
   "source": []
  }
 ],
 "metadata": {
  "kernelspec": {
   "display_name": "Python 3 (ipykernel)",
   "language": "python",
   "name": "python3"
  },
  "language_info": {
   "codemirror_mode": {
    "name": "ipython",
    "version": 3
   },
   "file_extension": ".py",
   "mimetype": "text/x-python",
   "name": "python",
   "nbconvert_exporter": "python",
   "pygments_lexer": "ipython3",
   "version": "3.9.18"
  }
 },
 "nbformat": 4,
 "nbformat_minor": 5
}
